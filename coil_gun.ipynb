{
 "cells": [
  {
   "cell_type": "code",
   "execution_count": 1,
   "id": "4eb4b876-59de-4f1c-baaa-01cb6727feed",
   "metadata": {
    "ExecuteTime": {
     "end_time": "2024-05-27T19:34:08.691702Z",
     "start_time": "2024-05-27T19:33:53.250813Z"
    },
    "scrolled": true
   },
   "outputs": [
    {
     "name": "stdout",
     "output_type": "stream",
     "text": [
      "Requirement already satisfied: scipy in /home/aaron/.local/pipx/venvs/jupyterlab/lib/python3.11/site-packages (1.13.1)\n",
      "Requirement already satisfied: numpy<2.3,>=1.22.4 in /home/aaron/.local/pipx/venvs/jupyterlab/lib/python3.11/site-packages (from scipy) (1.26.4)\n",
      "Note: you may need to restart the kernel to use updated packages.\n",
      "Requirement already satisfied: matplotlib in /home/aaron/.local/pipx/venvs/jupyterlab/lib/python3.11/site-packages (3.9.0)\n",
      "Requirement already satisfied: contourpy>=1.0.1 in /home/aaron/.local/pipx/venvs/jupyterlab/lib/python3.11/site-packages (from matplotlib) (1.2.1)\n",
      "Requirement already satisfied: cycler>=0.10 in /home/aaron/.local/pipx/venvs/jupyterlab/lib/python3.11/site-packages (from matplotlib) (0.12.1)\n",
      "Requirement already satisfied: fonttools>=4.22.0 in /home/aaron/.local/pipx/venvs/jupyterlab/lib/python3.11/site-packages (from matplotlib) (4.52.4)\n",
      "Requirement already satisfied: kiwisolver>=1.3.1 in /home/aaron/.local/pipx/venvs/jupyterlab/lib/python3.11/site-packages (from matplotlib) (1.4.5)\n",
      "Requirement already satisfied: numpy>=1.23 in /home/aaron/.local/pipx/venvs/jupyterlab/lib/python3.11/site-packages (from matplotlib) (1.26.4)\n",
      "Requirement already satisfied: packaging>=20.0 in /home/aaron/.local/pipx/venvs/jupyterlab/lib/python3.11/site-packages (from matplotlib) (24.0)\n",
      "Requirement already satisfied: pillow>=8 in /home/aaron/.local/pipx/venvs/jupyterlab/lib/python3.11/site-packages (from matplotlib) (10.3.0)\n",
      "Requirement already satisfied: pyparsing>=2.3.1 in /home/aaron/.local/pipx/venvs/jupyterlab/lib/python3.11/site-packages (from matplotlib) (3.1.2)\n",
      "Requirement already satisfied: python-dateutil>=2.7 in /home/aaron/.local/pipx/venvs/jupyterlab/lib/python3.11/site-packages (from matplotlib) (2.9.0.post0)\n",
      "Requirement already satisfied: six>=1.5 in /home/aaron/.local/pipx/venvs/jupyterlab/lib/python3.11/site-packages (from python-dateutil>=2.7->matplotlib) (1.16.0)\n",
      "Note: you may need to restart the kernel to use updated packages.\n",
      "Requirement already satisfied: ipywidgets in /home/aaron/.local/pipx/venvs/jupyterlab/lib/python3.11/site-packages (8.1.2)\n",
      "Requirement already satisfied: comm>=0.1.3 in /home/aaron/.local/pipx/venvs/jupyterlab/lib/python3.11/site-packages (from ipywidgets) (0.2.2)\n",
      "Requirement already satisfied: ipython>=6.1.0 in /home/aaron/.local/pipx/venvs/jupyterlab/lib/python3.11/site-packages (from ipywidgets) (8.24.0)\n",
      "Requirement already satisfied: traitlets>=4.3.1 in /home/aaron/.local/pipx/venvs/jupyterlab/lib/python3.11/site-packages (from ipywidgets) (5.14.3)\n",
      "Requirement already satisfied: widgetsnbextension~=4.0.10 in /home/aaron/.local/pipx/venvs/jupyterlab/lib/python3.11/site-packages (from ipywidgets) (4.0.10)\n",
      "Requirement already satisfied: jupyterlab-widgets~=3.0.10 in /home/aaron/.local/pipx/venvs/jupyterlab/lib/python3.11/site-packages (from ipywidgets) (3.0.10)\n",
      "Requirement already satisfied: decorator in /home/aaron/.local/pipx/venvs/jupyterlab/lib/python3.11/site-packages (from ipython>=6.1.0->ipywidgets) (5.1.1)\n",
      "Requirement already satisfied: jedi>=0.16 in /home/aaron/.local/pipx/venvs/jupyterlab/lib/python3.11/site-packages (from ipython>=6.1.0->ipywidgets) (0.19.1)\n",
      "Requirement already satisfied: matplotlib-inline in /home/aaron/.local/pipx/venvs/jupyterlab/lib/python3.11/site-packages (from ipython>=6.1.0->ipywidgets) (0.1.7)\n",
      "Requirement already satisfied: prompt-toolkit<3.1.0,>=3.0.41 in /home/aaron/.local/pipx/venvs/jupyterlab/lib/python3.11/site-packages (from ipython>=6.1.0->ipywidgets) (3.0.43)\n",
      "Requirement already satisfied: pygments>=2.4.0 in /home/aaron/.local/pipx/venvs/jupyterlab/lib/python3.11/site-packages (from ipython>=6.1.0->ipywidgets) (2.18.0)\n",
      "Requirement already satisfied: stack-data in /home/aaron/.local/pipx/venvs/jupyterlab/lib/python3.11/site-packages (from ipython>=6.1.0->ipywidgets) (0.6.3)\n",
      "Requirement already satisfied: typing-extensions>=4.6 in /home/aaron/.local/pipx/venvs/jupyterlab/lib/python3.11/site-packages (from ipython>=6.1.0->ipywidgets) (4.12.0)\n",
      "Requirement already satisfied: pexpect>4.3 in /home/aaron/.local/pipx/venvs/jupyterlab/lib/python3.11/site-packages (from ipython>=6.1.0->ipywidgets) (4.9.0)\n",
      "Requirement already satisfied: parso<0.9.0,>=0.8.3 in /home/aaron/.local/pipx/venvs/jupyterlab/lib/python3.11/site-packages (from jedi>=0.16->ipython>=6.1.0->ipywidgets) (0.8.4)\n",
      "Requirement already satisfied: ptyprocess>=0.5 in /home/aaron/.local/pipx/venvs/jupyterlab/lib/python3.11/site-packages (from pexpect>4.3->ipython>=6.1.0->ipywidgets) (0.7.0)\n",
      "Requirement already satisfied: wcwidth in /home/aaron/.local/pipx/venvs/jupyterlab/lib/python3.11/site-packages (from prompt-toolkit<3.1.0,>=3.0.41->ipython>=6.1.0->ipywidgets) (0.2.13)\n",
      "Requirement already satisfied: executing>=1.2.0 in /home/aaron/.local/pipx/venvs/jupyterlab/lib/python3.11/site-packages (from stack-data->ipython>=6.1.0->ipywidgets) (2.0.1)\n",
      "Requirement already satisfied: asttokens>=2.1.0 in /home/aaron/.local/pipx/venvs/jupyterlab/lib/python3.11/site-packages (from stack-data->ipython>=6.1.0->ipywidgets) (2.4.1)\n",
      "Requirement already satisfied: pure-eval in /home/aaron/.local/pipx/venvs/jupyterlab/lib/python3.11/site-packages (from stack-data->ipython>=6.1.0->ipywidgets) (0.2.2)\n",
      "Requirement already satisfied: six>=1.12.0 in /home/aaron/.local/pipx/venvs/jupyterlab/lib/python3.11/site-packages (from asttokens>=2.1.0->stack-data->ipython>=6.1.0->ipywidgets) (1.16.0)\n",
      "Note: you may need to restart the kernel to use updated packages.\n",
      "Requirement already satisfied: numpy in /home/aaron/.local/pipx/venvs/jupyterlab/lib/python3.11/site-packages (1.26.4)\n",
      "Note: you may need to restart the kernel to use updated packages.\n"
     ]
    }
   ],
   "source": [
    "%pip install scipy\n",
    "%pip install matplotlib\n",
    "%pip install ipywidgets\n",
    "%pip install numpy"
   ]
  },
  {
   "cell_type": "code",
   "execution_count": 4,
   "id": "be3ebb2030e8acfa",
   "metadata": {
    "ExecuteTime": {
     "end_time": "2024-05-27T19:34:09.639316Z",
     "start_time": "2024-05-27T19:34:09.635800Z"
    }
   },
   "outputs": [
    {
     "data": {
      "application/vnd.jupyter.widget-view+json": {
       "model_id": "f95644a1d3bf4418aba1a56fcfc074e1",
       "version_major": 2,
       "version_minor": 0
      },
      "text/plain": [
       "interactive(children=(IntSlider(value=100, description='V0 (Volts)', max=1000, step=5), FloatLogSlider(value=0…"
      ]
     },
     "metadata": {},
     "output_type": "display_data"
    },
    {
     "data": {
      "text/plain": [
       "<function matplotlib.pyplot.show(close=None, block=None)>"
      ]
     },
     "execution_count": 4,
     "metadata": {},
     "output_type": "execute_result"
    },
    {
     "data": {
      "image/png": "[encoded data removed]",
      "text/plain": [
       "<Figure size 640x480 with 1 Axes>"
      ]
     },
     "metadata": {},
     "output_type": "display_data"
    }
   ],
   "source": [
    "import matplotlib.pyplot as plt\n",
    "from ipywidgets import interact, FloatSlider, FloatLogSlider, IntSlider\n",
    "from scipy.integrate import solve_ivp, cumulative_trapezoid\n",
    "import numpy as np\n",
    "from collections import namedtuple\n",
    "import plots\n",
    "\n",
    "mu_0 = 4 * np.pi * 1e-7  # Permeability of free space in T·m/A\n",
    "\n",
    "# Projectile properties\n",
    "proj_diameter = 0.005  # Diameter in meters\n",
    "proj_length = 0.010  # Length in meters\n",
    "iron_density = 7870  # Density of iron in kg/m^3\n",
    "\n",
    "SimulationParameters = namedtuple('SimulationParameters',\n",
    "                                  ['init_volts',\n",
    "                                   'capacitance',\n",
    "                                   'resistance',\n",
    "                                   'num_turns',\n",
    "                                   'coil_diameter',\n",
    "                                   'coil_length',\n",
    "                                   'slug_diameter',\n",
    "                                   'slug_length',\n",
    "                                   'duration_s',\n",
    "                                  ])\n",
    "\n",
    "SimulationSolution = namedtuple('SimulationSolution',\n",
    "                                ['time',\n",
    "                                 'velocity',\n",
    "                                 'acceleration',\n",
    "                                 'voltage',\n",
    "                                 'current'])\n",
    "\n",
    "# Define the differential equation for the RLC circuit\n",
    "def sys_model(t, y, params):\n",
    "    # Destructure the state vector\n",
    "    [velocity, acceleration, voltage, current] = y\n",
    "\n",
    "    # Velocity\n",
    "    dxdt=velocity\n",
    "    \n",
    "    # Rate of change in voltage\n",
    "    dVdt = current / params.capacitance\n",
    "\n",
    "    # Compute inductance, L\n",
    "    coil_area = np.pi * (params.coil_diameter / 2) ** 2  # Coil cross-section, in m^2\n",
    "    L = (params.num_turns ** 2 * mu_0 * coil_area) / params.coil_length  # Inductance in Henrys  \n",
    "\n",
    "    # Rate of change in current \n",
    "    dIdt = -(params.resistance * current + voltage) / L\n",
    "\n",
    "    # Compute magnetic field density\n",
    "    turns_density=params.num_turns/params.coil_length\n",
    "    B = mu_0 * turns_density * current\n",
    "\n",
    "    # Compute force from magnetism\n",
    "    # The magnetic susceptibility of soft iron typically ranges from 1e3 to 1e5, \n",
    "    #   depending on the specific alloy and its treatment.\n",
    "    chi_iron = 1000\n",
    "    slug_volume = np.pi * (params.slug_diameter/2) ** 2 * params.slug_length  # Volume in cubic meters\n",
    "    slug_mass = iron_density * slug_volume  # Mass in kg\n",
    "    F = (chi_iron * B**2 * slug_volume)/(2*mu_0*(1+chi_iron)**2)\n",
    "    \n",
    "    # Compute acceleration of the projectile\n",
    "    dvdt = F / slug_mass\n",
    "    return [dxdt, dvdt, dVdt, dIdt]\n",
    "\n",
    "def run_sim(params):\n",
    "    # Initial conditions\n",
    "    init_conditions = [0, 0, -params.init_volts, 0]\n",
    "    print(init_conditions)\n",
    "    print(params)\n",
    "    t_span = (0, params.duration_s)  # Simulation time span\n",
    "    t_eval = np.arange(0,params.duration_s, 1e-6)  # Set simulation time step\n",
    "    # Solve the differential equation\n",
    "    return solve_ivp(\n",
    "        sys_model,\n",
    "        t_span,\n",
    "        init_conditions,\n",
    "        t_eval=t_eval,\n",
    "        args=(params,))\n",
    "\n",
    "solution=None\n",
    "simulationParameters=None\n",
    "\n",
    "def solve_and_plot(V0, C, R, N, D, l, sd, sl, duration_s):\n",
    "    global simulationParameters \n",
    "    global solution\n",
    "    simulationParameters = SimulationParameters(init_volts=V0,\n",
    "                                     capacitance=C,\n",
    "                                     resistance=R,\n",
    "                                     num_turns=N,\n",
    "                                     coil_diameter=D,\n",
    "                                     coil_length=l,\n",
    "                                     slug_diameter=sd,\n",
    "                                     slug_length=sl,\n",
    "                                     duration_s=duration_s)\n",
    "    s = run_sim(simulationParameters)\n",
    "    [velocity, acceleration, voltage, current] = s.y\n",
    "    solution=SimulationSolution(\n",
    "        s.t,\n",
    "        velocity,\n",
    "        acceleration,\n",
    "        voltage,\n",
    "       current) \n",
    "    plots.plot_circuit(solution.time, velocity, acceleration, voltage, current)\n",
    "    plots.plot_velocity(solution.time, acceleration)\n",
    "\n",
    "plots.start(solve_and_plot)\n",
    "\n",
    "#Test integration\n",
    "vel2 = cumulative_trapezoid(solution.acceleration, solution.time)\n",
    "# Adjust the time array to match the length of the integrated array\n",
    "time_adjusted = solution.time[:-1]\n",
    "position = cumulative_trapezoid(solution.velocity, solution.time)\n",
    "plt.plot(time_adjusted, vel2, label='v(t)')\n",
    "plt.xlabel('Time (s)')\n",
    "plt.ylabel('V (m)/s')\n",
    "plt.legend()\n",
    "plt.show"
   ]
  },
  {
   "cell_type": "code",
   "execution_count": null,
   "id": "d4ecc119-0b50-4b7b-bb8a-7fdbec4fb590",
   "metadata": {},
   "outputs": [],
   "source": []
  }
 ],
 "metadata": {
  "kernelspec": {
   "display_name": "Python 3 (ipykernel)",
   "language": "python",
   "name": "python3"
  },
  "language_info": {
   "codemirror_mode": {
    "name": "ipython",
    "version": 3
   },
   "file_extension": ".py",
   "mimetype": "text/x-python",
   "name": "python",
   "nbconvert_exporter": "python",
   "pygments_lexer": "ipython3",
   "version": "3.11.2"
  }
 },
 "nbformat": 4,
 "nbformat_minor": 5
}
