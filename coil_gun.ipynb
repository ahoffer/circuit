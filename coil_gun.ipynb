{
 "cells": [
  {
   "cell_type": "code",
   "execution_count": 1,
   "id": "4eb4b876-59de-4f1c-baaa-01cb6727feed",
   "metadata": {
    "ExecuteTime": {
     "end_time": "2024-05-27T19:34:08.691702Z",
     "start_time": "2024-05-27T19:33:53.250813Z"
    },
    "scrolled": true
   },
   "outputs": [
    {
     "name": "stdout",
     "output_type": "stream",
     "text": [
      "Requirement already satisfied: scipy in /home/aaron/.local/pipx/venvs/jupyterlab/lib/python3.11/site-packages (1.13.1)\n",
      "Requirement already satisfied: numpy<2.3,>=1.22.4 in /home/aaron/.local/pipx/venvs/jupyterlab/lib/python3.11/site-packages (from scipy) (1.26.4)\n",
      "Note: you may need to restart the kernel to use updated packages.\n",
      "Requirement already satisfied: matplotlib in /home/aaron/.local/pipx/venvs/jupyterlab/lib/python3.11/site-packages (3.9.0)\n",
      "Requirement already satisfied: contourpy>=1.0.1 in /home/aaron/.local/pipx/venvs/jupyterlab/lib/python3.11/site-packages (from matplotlib) (1.2.1)\n",
      "Requirement already satisfied: cycler>=0.10 in /home/aaron/.local/pipx/venvs/jupyterlab/lib/python3.11/site-packages (from matplotlib) (0.12.1)\n",
      "Requirement already satisfied: fonttools>=4.22.0 in /home/aaron/.local/pipx/venvs/jupyterlab/lib/python3.11/site-packages (from matplotlib) (4.52.4)\n",
      "Requirement already satisfied: kiwisolver>=1.3.1 in /home/aaron/.local/pipx/venvs/jupyterlab/lib/python3.11/site-packages (from matplotlib) (1.4.5)\n",
      "Requirement already satisfied: numpy>=1.23 in /home/aaron/.local/pipx/venvs/jupyterlab/lib/python3.11/site-packages (from matplotlib) (1.26.4)\n",
      "Requirement already satisfied: packaging>=20.0 in /home/aaron/.local/pipx/venvs/jupyterlab/lib/python3.11/site-packages (from matplotlib) (24.0)\n",
      "Requirement already satisfied: pillow>=8 in /home/aaron/.local/pipx/venvs/jupyterlab/lib/python3.11/site-packages (from matplotlib) (10.3.0)\n",
      "Requirement already satisfied: pyparsing>=2.3.1 in /home/aaron/.local/pipx/venvs/jupyterlab/lib/python3.11/site-packages (from matplotlib) (3.1.2)\n",
      "Requirement already satisfied: python-dateutil>=2.7 in /home/aaron/.local/pipx/venvs/jupyterlab/lib/python3.11/site-packages (from matplotlib) (2.9.0.post0)\n",
      "Requirement already satisfied: six>=1.5 in /home/aaron/.local/pipx/venvs/jupyterlab/lib/python3.11/site-packages (from python-dateutil>=2.7->matplotlib) (1.16.0)\n",
      "Note: you may need to restart the kernel to use updated packages.\n",
      "Requirement already satisfied: ipywidgets in /home/aaron/.local/pipx/venvs/jupyterlab/lib/python3.11/site-packages (8.1.2)\n",
      "Requirement already satisfied: comm>=0.1.3 in /home/aaron/.local/pipx/venvs/jupyterlab/lib/python3.11/site-packages (from ipywidgets) (0.2.2)\n",
      "Requirement already satisfied: ipython>=6.1.0 in /home/aaron/.local/pipx/venvs/jupyterlab/lib/python3.11/site-packages (from ipywidgets) (8.24.0)\n",
      "Requirement already satisfied: traitlets>=4.3.1 in /home/aaron/.local/pipx/venvs/jupyterlab/lib/python3.11/site-packages (from ipywidgets) (5.14.3)\n",
      "Requirement already satisfied: widgetsnbextension~=4.0.10 in /home/aaron/.local/pipx/venvs/jupyterlab/lib/python3.11/site-packages (from ipywidgets) (4.0.10)\n",
      "Requirement already satisfied: jupyterlab-widgets~=3.0.10 in /home/aaron/.local/pipx/venvs/jupyterlab/lib/python3.11/site-packages (from ipywidgets) (3.0.10)\n",
      "Requirement already satisfied: decorator in /home/aaron/.local/pipx/venvs/jupyterlab/lib/python3.11/site-packages (from ipython>=6.1.0->ipywidgets) (5.1.1)\n",
      "Requirement already satisfied: jedi>=0.16 in /home/aaron/.local/pipx/venvs/jupyterlab/lib/python3.11/site-packages (from ipython>=6.1.0->ipywidgets) (0.19.1)\n",
      "Requirement already satisfied: matplotlib-inline in /home/aaron/.local/pipx/venvs/jupyterlab/lib/python3.11/site-packages (from ipython>=6.1.0->ipywidgets) (0.1.7)\n",
      "Requirement already satisfied: prompt-toolkit<3.1.0,>=3.0.41 in /home/aaron/.local/pipx/venvs/jupyterlab/lib/python3.11/site-packages (from ipython>=6.1.0->ipywidgets) (3.0.43)\n",
      "Requirement already satisfied: pygments>=2.4.0 in /home/aaron/.local/pipx/venvs/jupyterlab/lib/python3.11/site-packages (from ipython>=6.1.0->ipywidgets) (2.18.0)\n",
      "Requirement already satisfied: stack-data in /home/aaron/.local/pipx/venvs/jupyterlab/lib/python3.11/site-packages (from ipython>=6.1.0->ipywidgets) (0.6.3)\n",
      "Requirement already satisfied: typing-extensions>=4.6 in /home/aaron/.local/pipx/venvs/jupyterlab/lib/python3.11/site-packages (from ipython>=6.1.0->ipywidgets) (4.12.0)\n",
      "Requirement already satisfied: pexpect>4.3 in /home/aaron/.local/pipx/venvs/jupyterlab/lib/python3.11/site-packages (from ipython>=6.1.0->ipywidgets) (4.9.0)\n",
      "Requirement already satisfied: parso<0.9.0,>=0.8.3 in /home/aaron/.local/pipx/venvs/jupyterlab/lib/python3.11/site-packages (from jedi>=0.16->ipython>=6.1.0->ipywidgets) (0.8.4)\n",
      "Requirement already satisfied: ptyprocess>=0.5 in /home/aaron/.local/pipx/venvs/jupyterlab/lib/python3.11/site-packages (from pexpect>4.3->ipython>=6.1.0->ipywidgets) (0.7.0)\n",
      "Requirement already satisfied: wcwidth in /home/aaron/.local/pipx/venvs/jupyterlab/lib/python3.11/site-packages (from prompt-toolkit<3.1.0,>=3.0.41->ipython>=6.1.0->ipywidgets) (0.2.13)\n",
      "Requirement already satisfied: executing>=1.2.0 in /home/aaron/.local/pipx/venvs/jupyterlab/lib/python3.11/site-packages (from stack-data->ipython>=6.1.0->ipywidgets) (2.0.1)\n",
      "Requirement already satisfied: asttokens>=2.1.0 in /home/aaron/.local/pipx/venvs/jupyterlab/lib/python3.11/site-packages (from stack-data->ipython>=6.1.0->ipywidgets) (2.4.1)\n",
      "Requirement already satisfied: pure-eval in /home/aaron/.local/pipx/venvs/jupyterlab/lib/python3.11/site-packages (from stack-data->ipython>=6.1.0->ipywidgets) (0.2.2)\n",
      "Requirement already satisfied: six>=1.12.0 in /home/aaron/.local/pipx/venvs/jupyterlab/lib/python3.11/site-packages (from asttokens>=2.1.0->stack-data->ipython>=6.1.0->ipywidgets) (1.16.0)\n",
      "Note: you may need to restart the kernel to use updated packages.\n",
      "Requirement already satisfied: numpy in /home/aaron/.local/pipx/venvs/jupyterlab/lib/python3.11/site-packages (1.26.4)\n",
      "Note: you may need to restart the kernel to use updated packages.\n"
     ]
    }
   ],
   "source": [
    "%pip install scipy\n",
    "%pip install matplotlib\n",
    "%pip install ipywidgets\n",
    "%pip install numpy"
   ]
  },
  {
   "cell_type": "code",
   "execution_count": 4,
   "id": "be3ebb2030e8acfa",
   "metadata": {
    "ExecuteTime": {
     "end_time": "2024-05-27T19:34:09.639316Z",
     "start_time": "2024-05-27T19:34:09.635800Z"
    }
   },
   "outputs": [
    {
     "data": {
      "application/vnd.jupyter.widget-view+json": {
       "model_id": "4080e2b93f844dfe9e2f628d3043221d",
       "version_major": 2,
       "version_minor": 0
      },
      "text/plain": [
       "interactive(children=(IntSlider(value=100, description='V0 (Volts)', max=1000, step=5), FloatLogSlider(value=0…"
      ]
     },
     "metadata": {},
     "output_type": "display_data"
    }
   ],
   "source": [
    "import matplotlib.pyplot as plt\n",
    "from ipywidgets import interact, FloatSlider, FloatLogSlider, IntSlider\n",
    "from scipy.integrate import solve_ivp, cumulative_trapezoid\n",
    "import numpy as np\n",
    "from collections import namedtuple\n",
    "import plots\n",
    "\n",
    "mu_0 = 4 * np.pi * 1e-7  # Permeability of free space in T·m/A\n",
    "\n",
    "# Projectile properties\n",
    "proj_diameter = 0.005  # Diameter in meters\n",
    "proj_length = 0.010  # Length in meters\n",
    "proj_density = 7870  # Density of iron in kg/m^3\n",
    "proj_volume = np.pi * (proj_diameter / 2) ** 2 * proj_length  # Volume in cubic meters\n",
    "proj_mass = proj_density * proj_volume  # Mass in kg\n",
    "\n",
    "SimulationParameters = namedtuple('SimulationParameters',\n",
    "                                  ['init_volts',\n",
    "                                   'capacitance',\n",
    "                                   'resistance',\n",
    "                                   'num_turns',\n",
    "                                   'coil_diameter',\n",
    "                                   'coil_length',\n",
    "                                   'duration_s'])\n",
    "\n",
    "# Define the differential equation for the RLC circuit\n",
    "def sys_model(t, y, params):\n",
    "    # Destructure the state vector\n",
    "    [voltage, current, acceleration] = y\n",
    "\n",
    "    # Rate of change in voltage\n",
    "    dVdt = current / params.capacitance\n",
    "\n",
    "    # Compute inductance, L\n",
    "    coil_area = np.pi * (params.coil_diameter / 2) ** 2  # Coil cross-section, in m^2\n",
    "    L = (params.num_turns ** 2 * mu_0 * coil_area) / params.coil_length  # Inductance in Henrys    \n",
    "\n",
    "    # Rate of change in current \n",
    "    dIdt = -(params.resistance * current + voltage) / L\n",
    "\n",
    "    # Compute force and acceleration on the projective\n",
    "    mu_r = 5000  # Relative permeability of soft iron\n",
    "    force = (1 / 2) * mu_0 ** 3 * mu_r * coil_area * params.num_turns ** 2 * current ** 2\n",
    "    dvdt = force / proj_mass\n",
    "    return [dVdt, dIdt, dvdt]\n",
    "\n",
    "def run_sim(params):\n",
    "    # Initial voltage across cap, init current across inductor, init velocity of projectile\n",
    "    init_conditions = [-params.init_volts, 0, 0]\n",
    "    t_span = (0, params.duration_s)  # Simulation time span\n",
    "    t_eval = np.arange(0,params.duration_s, 1e-6)  # Set simulation time step\n",
    "    # Solve the differential equation\n",
    "    return solve_ivp(\n",
    "        sys_model,\n",
    "        t_span,\n",
    "        init_conditions,\n",
    "        t_eval=t_eval,\n",
    "        args=(params,))\n",
    "\n",
    "solution=None\n",
    "simulationParameters=None\n",
    "\n",
    "def solve_and_plot(V0, C, R, N, D, l, duration_s):\n",
    "    global simulationParameters\n",
    "    global solution\n",
    "    simulationParameters = SimulationParameters(init_volts=V0,\n",
    "                                     capacitance=C,\n",
    "                                     resistance=R,\n",
    "                                     num_turns=N,\n",
    "                                     coil_diameter=D,\n",
    "                                     coil_length=l,\n",
    "                                     duration_s=duration_s)\n",
    "    solution = run_sim(simulationParameters)\n",
    "    plots.plot_circuit(solution)\n",
    "\n",
    "plots.start(solve_and_plot)\n"
   ]
  },
  {
   "cell_type": "code",
   "execution_count": null,
   "id": "25e1eed1-b108-4b70-ac37-2b5bd7503bf1",
   "metadata": {},
   "outputs": [],
   "source": []
  },
  {
   "cell_type": "code",
   "execution_count": null,
   "id": "d1b23631-9ca4-4369-90f7-7bb8907c36c1",
   "metadata": {},
   "outputs": [],
   "source": []
  }
 ],
 "metadata": {
  "kernelspec": {
   "display_name": "Python 3 (ipykernel)",
   "language": "python",
   "name": "python3"
  },
  "language_info": {
   "codemirror_mode": {
    "name": "ipython",
    "version": 3
   },
   "file_extension": ".py",
   "mimetype": "text/x-python",
   "name": "python",
   "nbconvert_exporter": "python",
   "pygments_lexer": "ipython3",
   "version": "3.11.2"
  }
 },
 "nbformat": 4,
 "nbformat_minor": 5
}
