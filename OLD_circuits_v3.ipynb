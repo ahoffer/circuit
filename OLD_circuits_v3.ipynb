{
 "cells": [
  {
   "cell_type": "markdown",
   "id": "5274699c-7f11-4771-a6c0-ef47757b5d51",
   "metadata": {},
   "source": [
    "#### Import libaries"
   ]
  },
  {
   "cell_type": "code",
   "execution_count": null,
   "id": "ffc1e3cb-a7c6-4e29-bab2-dd2b00e0edea",
   "metadata": {
    "ExecuteTime": {
     "end_time": "2024-05-27T19:38:08.302225Z",
     "start_time": "2024-05-27T19:38:00.380010Z"
    }
   },
   "outputs": [],
   "source": [
    "%pip install scipy\n",
    "%pip install matplotlib\n",
    "%pip install ipywidgets\n",
    "%pip install numpy"
   ]
  },
  {
   "cell_type": "code",
   "execution_count": 2,
   "id": "d72def18-7491-4ebd-b905-c4c690ae369b",
   "metadata": {
    "ExecuteTime": {
     "end_time": "2024-05-27T19:38:17.659714Z",
     "start_time": "2024-05-27T19:38:15.672088Z"
    }
   },
   "outputs": [],
   "source": [
    "\n",
    "# circuit_solution=run_sim(V0, C, L, R_total, 1)\n",
    "# Perform the cumulative integration\n",
    "# magnetic_field = mu_0 * N_turns * np.abs(circuit_solution.y[1]) / L\n",
    "# velocity = cumulative_trapezoid(circuit_solution.y[2], circuit_solution.t)\n",
    "# position = cumulative_trapezoid(velocity, circuit_solution.t[:-1])\n",
    "# plot_velocity_and_magnetism(circuit_solution.t[:999999], velocity[0:999999], magnetic_field[:999999])\n",
    "\n",
    "# print(circuit_solution)"
   ]
  },
  {
   "cell_type": "code",
   "execution_count": 3,
   "id": "813a0044-6091-4839-ab09-637477e031d3",
   "metadata": {},
   "outputs": [],
   "source": [
    "# Define the natural frequency and critical damping resistance\n",
    "# R_intrinsic = coil_wire_resistance + capacitor_ESR\n",
    "# omega_0 = 1 / np.sqrt(L * C)\n",
    "# R_critical = 2 * np.sqrt(L / C)\n",
    "# zeta = R_intrinsic / (2 * np.sqrt(L / C))\n",
    "\n",
    "# Print info about frequency\n",
    "# print(f\"Natural Frequency (ω0): {omega_0:.3e} rad/s\")\n",
    "# print(f\"R_intrinsic: {R_intrinsic:.3e} Ω\")\n",
    "# print(f\"Critical Damping Resistance: {R_critical:.3e} Ω\")\n",
    "# print(f\"R_critical - R_intrinsic: {R_critical - R_intrinsic} (close to zero is critically damped)\")\n",
    "# print(f\"Damping Ratio (ζ): {zeta:.3e}\")\n",
    "\n",
    "# Damping resistor\n",
    "# R_damp = R_critical - R_intrinsic\n",
    "# if (R_damp > 0):\n",
    "#     print(\"Adding a damping resistor of {:.3e} Ω to the simulation\".format(R_damp))\n",
    "#     R_total = R_damp + R_intrinsic\n",
    "# else:\n",
    "#     R_total = R_intrinsic\n",
    "# print(f\"Total resistance: {R_total:.3e} Ω\" )\n"
   ]
  },
  {
   "cell_type": "code",
   "execution_count": 4,
   "id": "87067646-0c51-4401-b148-1031f4d97018",
   "metadata": {},
   "outputs": [],
   "source": [
    "# Calculate magnitude of magnetic field\n",
    "# V, I = circuit_solution.y\n",
    "# B = mu_0 * (N_turns / coil_length) * I\n",
    "# B_max = max(B, key=abs)\n",
    "# print(f\"B_max: {B_max:.3} Tesla\")\n",
    "\n",
    "# Create a third y-axis for the magnetic field strength\n",
    "# fig, ax3 = plt.subplots(figsize=(10, 5))\n",
    "# ax3.plot(t, B, 'g-', label='Magnetic Field (T)')\n",
    "# ax3.set_xlabel('Time (µs)')  # Set x-axis label to microseconds\n",
    "# ax3.set_ylabel('Magnetic Field (T)', color='g')\n",
    "# ax3.tick_params(axis='y', labelcolor='g')\n",
    "\n",
    "# Plot the magnetic flux\n",
    "# fig, ax4 = plt.subplots(figsize=(10, 5))\n",
    "# ax4.plot(t, Phi, 'm-', label='Magnetic Flux (Wb)')\n",
    "# ax4.set_xlabel('Time (µs)')  # Set x-axis label to microseconds\n",
    "# ax4.set_ylabel('Magnetic Flux (Wb)', color='m')\n",
    "# ax4.tick_params(axis='y', labelcolor='m')"
   ]
  },
  {
   "cell_type": "code",
   "execution_count": 5,
   "id": "3e5e69bf-72ab-4745-bf3d-288025c39a10",
   "metadata": {},
   "outputs": [],
   "source": [
    "\n",
    "\n",
    "# plot_solution(simulate_circuit(V0, C, L, R_total, 1))\n",
    "\n",
    "# def plot_simulation(V0, C, L, R, duration_seconds) :\n",
    "#     plot_solution(simulate_circuit(V0, C, L, R, duration_seconds))\n",
    "\n",
    "# plot_simulation(V0, C, L, R_total, 1) \n",
    "\n",
    "# interact(plot_simulation, V0=V0, C=cap_slider, L=L, R=R_total, duration_seconds=1)\n",
    "              "
   ]
  },
  {
   "cell_type": "code",
   "execution_count": null,
   "id": "af86db33-b10c-4dcf-8f6e-fc595adc8d26",
   "metadata": {},
   "outputs": [],
   "source": [
    "import matplotlib.pyplot as plt\n",
    "from ipywidgets import interact, FloatSlider, FloatLogSlider, IntSlider\n",
    "from scipy.integrate import solve_ivp, cumulative_trapezoid\n",
    "import numpy as np\n",
    "from collections import namedtuple\n",
    "import plots\n",
    "\n",
    "mu_0 = 4 * np.pi * 1e-7  # Permeability of free space in T·m/A\n",
    "\n",
    "# Projectile properties\n",
    "proj_diameter = 0.005  # Diameter in meters\n",
    "proj_length = 0.010  # Length in meters\n",
    "proj_density = 7870  # Density of iron in kg/m^3\n",
    "proj_volume = np.pi * (proj_diameter / 2) ** 2 * proj_length  # Volume in cubic meters\n",
    "proj_mass = proj_density * proj_volume  # Mass in kg\n",
    "\n",
    "SimulationParameters = namedtuple('SimulationParameters',\n",
    "                                  ['init_volts',\n",
    "                                   'capacitance',\n",
    "                                   'resistance',\n",
    "                                   'num_turns',\n",
    "                                   'coil_diameter',\n",
    "                                   'coil_length',\n",
    "                                   'duration_s'])\n",
    "\n",
    "# Define the differential equation for the RLC circuit\n",
    "def sys_model(t, y, params):\n",
    "    # Destructure the state vector\n",
    "    [voltage, current, acceleration] = y\n",
    "\n",
    "    # Rate of change in voltage\n",
    "    dVdt = current / params.capacitance\n",
    "\n",
    "    # Compute inductance, L\n",
    "    coil_area = np.pi * (params.coil_diameter / 2) ** 2  # Coil cross-section, in m^2\n",
    "    L = (params.num_turns ** 2 * mu_0 * coil_area) / params.coil_length  # Inductance in Henrys    \n",
    "\n",
    "    # Rate of change in current \n",
    "    dIdt = -(params.resistance * current + voltage) / L\n",
    "\n",
    "    # Compute force and acceleration on the projective\n",
    "    mu_r = 5000  # Relative permeability of soft iron\n",
    "    force = (1 / 2) * mu_0 ** 3 * mu_r * coil_area * params.num_turns ** 2 * current ** 2\n",
    "    dvdt = force / proj_mass\n",
    "    return [dVdt, dIdt, dvdt]\n",
    "\n",
    "def run_sim(params):\n",
    "    # Initial voltage across cap, init current across inductor, init velocity of projectile\n",
    "    init_conditions = [-params.init_volts, 0, 0]\n",
    "    t_span = (0, params.duration_s)  # Simulation time span\n",
    "    t_eval = np.linspace(t_span[0], t_span[1], 10000)  # Set simulation time step\n",
    "    # Solve the differential equation\n",
    "    return solve_ivp(\n",
    "        sys_model,\n",
    "        t_span,\n",
    "        init_conditions,\n",
    "        t_eval=t_eval,\n",
    "        args=(params,))\n",
    "\n",
    "# Plot functions\n",
    "def plot_circuit(solution):\n",
    "    [voltage, current, acceleration] = solution.y\n",
    "    time_sim = solution.t\n",
    "    # Plot Current\n",
    "    plt.figure(figsize=(8, 4))\n",
    "    plt.plot(time_sim, current, 'r', label='Current (A)')\n",
    "    plt.xlabel('Time (s)')\n",
    "    plt.ylabel('Current (A)')\n",
    "    plt.legend()\n",
    "    plt.title('Current vs. Time')\n",
    "    plt.grid(True)\n",
    "    plt.tick_params(axis='y', labelcolor='r')\n",
    "    plt.show()\n",
    "    return solution\n",
    "\n",
    "def plot_velocity_and_magnetism(time, vel, mag):\n",
    "    fig, ax1 = plt.subplots(figsize=(8, 3))\n",
    "    ax1.plot(time, vel, 'm', label='Velocity (m/s)')\n",
    "    ax1.set_xlabel('Time (s)')  # Set x-axis label to seconds\n",
    "    ax1.set_ylabel('Velocity (m/s)', color='m')\n",
    "    ax1.tick_params(axis='y', labelcolor='m')\n",
    "    ax2 = ax1.twinx()\n",
    "    ax2.plot(time, mag, 'g', label='Magnetism (T)')\n",
    "    ax2.set_xlabel('Time (s)')  # Set x-axis label to seconds\n",
    "    ax2.set_ylabel('Magnetism (T)', color='g')\n",
    "    ax2.tick_params(axis='y', labelcolor='g')\n",
    "    plt.show()\n",
    "\n",
    "def solve_and_plot(V0, C, R, N, D, l, duration_s):\n",
    "    params = SimulationParameters(init_volts=V0,\n",
    "                                     capacitance=C,\n",
    "                                     resistance=R,\n",
    "                                     num_turns=N,\n",
    "                                     coil_diameter=D,\n",
    "                                     coil_length=l,\n",
    "                                     duration_s=duration_s)\n",
    "    solution = run_sim(params)\n",
    "    plots.plot_circuit(solution)\n",
    "\n",
    "\n",
    "interact(\n",
    "    solve_and_plot,\n",
    "    V0=IntSlider(value=100, min=0, max=1000, step=5, description='V0 (Volts)'),\n",
    "    C=FloatLogSlider(value=0.01, base=10, min=-6, max=2, step=0.1, description='C (Farads)'),\n",
    "    R=FloatSlider(value=1, min=0.1, max=10, step=0.1, description='R'),\n",
    "    N=FloatSlider(value=100, min=1, max=1000, description='Turns'),\n",
    "    D=FloatSlider(value=.01, min=.001, max=.1, step=0.001, description='Diameter of coil (m)'),\n",
    "    l=FloatSlider(value=.06, min=.01, max=.3, step=0.01, description='Length of coil (m)'),\n",
    "    duration_s=FloatLogSlider(value=1, base=10, min=-3, max=2, step=0.1, description='Duration')\n",
    ")\n"
   ]
  },
  {
   "cell_type": "code",
   "execution_count": null,
   "id": "09f615fc-f597-462c-b605-83663e53159c",
   "metadata": {},
   "outputs": [],
   "source": []
  }
 ],
 "metadata": {
  "kernelspec": {
   "display_name": "Python 3 (ipykernel)",
   "language": "python",
   "name": "python3"
  },
  "language_info": {
   "codemirror_mode": {
    "name": "ipython",
    "version": 3
   },
   "file_extension": ".py",
   "mimetype": "text/x-python",
   "name": "python",
   "nbconvert_exporter": "python",
   "pygments_lexer": "ipython3",
   "version": "3.11.2"
  },
  "widgets": {
   "application/vnd.jupyter.widget-state+json": {
    "state": {
     "028380d96ea543e8a0deb590d6dab30f": {
      "model_module": "@jupyter-widgets/controls",
      "model_module_version": "2.0.0",
      "model_name": "SliderStyleModel",
      "state": {
       "description_width": ""
      }
     },
     "050b0be162ab44edb9ba9ea97259ab77": {
      "model_module": "@jupyter-widgets/base",
      "model_module_version": "2.0.0",
      "model_name": "LayoutModel",
      "state": {}
     },
     "0a184dc895b04317a360803b165ec8c8": {
      "model_module": "@jupyter-widgets/controls",
      "model_module_version": "2.0.0",
      "model_name": "FloatSliderModel",
      "state": {
       "behavior": "drag-tap",
       "description": "Diameter of coil (m)",
       "layout": "IPY_MODEL_9bc69a99502d4631be11223096e3ec86",
       "max": 0.1,
       "min": 0.01,
       "step": 0.1,
       "style": "IPY_MODEL_d95e68fd0390498fb1ad33820ebddb31",
       "value": 0.01
      }
     },
     "16c64ebed3514a53b49761ba062b2a18": {
      "model_module": "@jupyter-widgets/controls",
      "model_module_version": "2.0.0",
      "model_name": "SliderStyleModel",
      "state": {
       "description_width": ""
      }
     },
     "2198a84d7c4148aaa0bfedd384d8860e": {
      "model_module": "@jupyter-widgets/controls",
      "model_module_version": "2.0.0",
      "model_name": "SliderStyleModel",
      "state": {
       "description_width": ""
      }
     },
     "2412c65f3f9b4e7e8e80064e26b8c474": {
      "model_module": "@jupyter-widgets/base",
      "model_module_version": "2.0.0",
      "model_name": "LayoutModel",
      "state": {}
     },
     "2519eb0c85fc4db292904f72dd9e53fc": {
      "model_module": "@jupyter-widgets/controls",
      "model_module_version": "2.0.0",
      "model_name": "SliderStyleModel",
      "state": {
       "description_width": ""
      }
     },
     "2cb708e938d040c88bb077de5587b141": {
      "model_module": "@jupyter-widgets/controls",
      "model_module_version": "2.0.0",
      "model_name": "FloatSliderModel",
      "state": {
       "behavior": "drag-tap",
       "layout": "IPY_MODEL_79ccf1f767c74e798ec33116e8f135cc",
       "step": 0.1,
       "style": "IPY_MODEL_adde1d8e54d3476ca56a315e50b241ce"
      }
     },
     "3e5359e444d344fd8cf11d727fa30f68": {
      "model_module": "@jupyter-widgets/base",
      "model_module_version": "2.0.0",
      "model_name": "LayoutModel",
      "state": {}
     },
     "3f3385c82a5d4220989ed5f0db92d6b8": {
      "model_module": "@jupyter-widgets/controls",
      "model_module_version": "2.0.0",
      "model_name": "SliderStyleModel",
      "state": {
       "description_width": ""
      }
     },
     "4425f8b98be242bb8b22d7c71131c591": {
      "model_module": "@jupyter-widgets/controls",
      "model_module_version": "2.0.0",
      "model_name": "SliderStyleModel",
      "state": {
       "description_width": ""
      }
     },
     "46082c044b174bf2a24aa3e45b35e9c6": {
      "model_module": "@jupyter-widgets/controls",
      "model_module_version": "2.0.0",
      "model_name": "SliderStyleModel",
      "state": {
       "description_width": ""
      }
     },
     "4aaa5587eec649178e9eb5d7bb311137": {
      "model_module": "@jupyter-widgets/controls",
      "model_module_version": "2.0.0",
      "model_name": "FloatLogSliderModel",
      "state": {
       "behavior": "drag-tap",
       "description": "Duration",
       "layout": "IPY_MODEL_6108cf13197c4b0d866bc00908de8392",
       "max": 2,
       "min": -3,
       "style": "IPY_MODEL_97c8c6389fb04db9857a648ce29a6727"
      }
     },
     "4b18b3316ff942d2acab58667b513a94": {
      "model_module": "@jupyter-widgets/base",
      "model_module_version": "2.0.0",
      "model_name": "LayoutModel",
      "state": {}
     },
     "4ef96b37e3cd4b7c83c5047cce27324e": {
      "model_module": "@jupyter-widgets/controls",
      "model_module_version": "2.0.0",
      "model_name": "FloatSliderModel",
      "state": {
       "behavior": "drag-tap",
       "description": "Diameter of coil (m)",
       "layout": "IPY_MODEL_a12c9bc0b3694f91825b0117d533581d",
       "max": 0.1,
       "min": 0.01,
       "step": 0.1,
       "style": "IPY_MODEL_16c64ebed3514a53b49761ba062b2a18",
       "value": 0.01
      }
     },
     "504408a22e7944baac98e573fcf39877": {
      "model_module": "@jupyter-widgets/controls",
      "model_module_version": "2.0.0",
      "model_name": "FloatSliderModel",
      "state": {
       "behavior": "drag-tap",
       "description": "R",
       "layout": "IPY_MODEL_9a6b3ecfd69d4fc1866caf7709a33260",
       "max": 10,
       "min": 0.1,
       "step": 0.1,
       "style": "IPY_MODEL_51eea39f0fcb473d9ca7617bb84b8dfc",
       "value": 1
      }
     },
     "51eea39f0fcb473d9ca7617bb84b8dfc": {
      "model_module": "@jupyter-widgets/controls",
      "model_module_version": "2.0.0",
      "model_name": "SliderStyleModel",
      "state": {
       "description_width": ""
      }
     },
     "53a9471adc90431eaab3a9658d2b3412": {
      "model_module": "@jupyter-widgets/controls",
      "model_module_version": "2.0.0",
      "model_name": "IntSliderModel",
      "state": {
       "behavior": "drag-tap",
       "description": "V0",
       "layout": "IPY_MODEL_fdd2ba05eca943a4bed6aead05ad46b2",
       "max": 1000,
       "step": 5,
       "style": "IPY_MODEL_ad96332e48bc4a60a1131faeb0c52ee7",
       "value": 100
      }
     },
     "59aec1870615488cb6d9103037ebcb7a": {
      "model_module": "@jupyter-widgets/base",
      "model_module_version": "2.0.0",
      "model_name": "LayoutModel",
      "state": {}
     },
     "6108cf13197c4b0d866bc00908de8392": {
      "model_module": "@jupyter-widgets/base",
      "model_module_version": "2.0.0",
      "model_name": "LayoutModel",
      "state": {}
     },
     "6745155898374cc0816f2925971dc05b": {
      "model_module": "@jupyter-widgets/controls",
      "model_module_version": "2.0.0",
      "model_name": "SliderStyleModel",
      "state": {
       "description_width": ""
      }
     },
     "69e8ee8d08df437fb3c54013eaf09695": {
      "model_module": "@jupyter-widgets/controls",
      "model_module_version": "2.0.0",
      "model_name": "FloatLogSliderModel",
      "state": {
       "behavior": "drag-tap",
       "description": "C (Farads",
       "layout": "IPY_MODEL_59aec1870615488cb6d9103037ebcb7a",
       "max": 2,
       "min": -6,
       "style": "IPY_MODEL_d355a59b63db4ebebe96ee949277882d",
       "value": 0.01
      }
     },
     "758abd4b0001427da50e50450e444ff2": {
      "model_module": "@jupyter-widgets/controls",
      "model_module_version": "2.0.0",
      "model_name": "SliderStyleModel",
      "state": {
       "description_width": ""
      }
     },
     "79ccf1f767c74e798ec33116e8f135cc": {
      "model_module": "@jupyter-widgets/base",
      "model_module_version": "2.0.0",
      "model_name": "LayoutModel",
      "state": {}
     },
     "82e9f0070ec145d3b63b32f5bfab361a": {
      "model_module": "@jupyter-widgets/controls",
      "model_module_version": "2.0.0",
      "model_name": "FloatSliderModel",
      "state": {
       "behavior": "drag-tap",
       "description": "Length of coid (m)",
       "layout": "IPY_MODEL_8d4822d649004e21b6d400a0c4e62704",
       "max": 0.3,
       "min": 0.01,
       "step": 0.1,
       "style": "IPY_MODEL_dba735d5004541d483d632139e925272",
       "value": 0.06
      }
     },
     "83c5739a1c144367b93adb983efdfdd6": {
      "model_module": "@jupyter-widgets/controls",
      "model_module_version": "2.0.0",
      "model_name": "FloatSliderModel",
      "state": {
       "behavior": "drag-tap",
       "layout": "IPY_MODEL_4b18b3316ff942d2acab58667b513a94",
       "max": 1000,
       "min": 1,
       "step": 0.1,
       "style": "IPY_MODEL_758abd4b0001427da50e50450e444ff2",
       "value": 100
      }
     },
     "85924b11df714bf398abe235b338e898": {
      "model_module": "@jupyter-widgets/controls",
      "model_module_version": "2.0.0",
      "model_name": "IntSliderModel",
      "state": {
       "behavior": "drag-tap",
       "description": "V0",
       "layout": "IPY_MODEL_f20d3046763146a5838dd0ca9c3c5a17",
       "max": 1000,
       "step": 5,
       "style": "IPY_MODEL_028380d96ea543e8a0deb590d6dab30f",
       "value": 100
      }
     },
     "8d4822d649004e21b6d400a0c4e62704": {
      "model_module": "@jupyter-widgets/base",
      "model_module_version": "2.0.0",
      "model_name": "LayoutModel",
      "state": {}
     },
     "97c8c6389fb04db9857a648ce29a6727": {
      "model_module": "@jupyter-widgets/controls",
      "model_module_version": "2.0.0",
      "model_name": "SliderStyleModel",
      "state": {
       "description_width": ""
      }
     },
     "9a6b3ecfd69d4fc1866caf7709a33260": {
      "model_module": "@jupyter-widgets/base",
      "model_module_version": "2.0.0",
      "model_name": "LayoutModel",
      "state": {}
     },
     "9bc69a99502d4631be11223096e3ec86": {
      "model_module": "@jupyter-widgets/base",
      "model_module_version": "2.0.0",
      "model_name": "LayoutModel",
      "state": {}
     },
     "a12c9bc0b3694f91825b0117d533581d": {
      "model_module": "@jupyter-widgets/base",
      "model_module_version": "2.0.0",
      "model_name": "LayoutModel",
      "state": {}
     },
     "a25282a092f04338a49e8383b18138df": {
      "model_module": "@jupyter-widgets/controls",
      "model_module_version": "2.0.0",
      "model_name": "FloatLogSliderModel",
      "state": {
       "behavior": "drag-tap",
       "description": "C (Farads",
       "layout": "IPY_MODEL_d0e9cf1fd4da417dbc3d3d2182d89001",
       "max": 2,
       "min": -6,
       "style": "IPY_MODEL_c8e491cf7c5444aa9e9a76d0ed67658d",
       "value": 0.01
      }
     },
     "a30cbb4752104c848fc60561da88df11": {
      "model_module": "@jupyter-widgets/base",
      "model_module_version": "2.0.0",
      "model_name": "LayoutModel",
      "state": {}
     },
     "ad96332e48bc4a60a1131faeb0c52ee7": {
      "model_module": "@jupyter-widgets/controls",
      "model_module_version": "2.0.0",
      "model_name": "SliderStyleModel",
      "state": {
       "description_width": ""
      }
     },
     "adde1d8e54d3476ca56a315e50b241ce": {
      "model_module": "@jupyter-widgets/controls",
      "model_module_version": "2.0.0",
      "model_name": "SliderStyleModel",
      "state": {
       "description_width": ""
      }
     },
     "aef003c7ef8a4a0ca260906f8d5ddb29": {
      "model_module": "@jupyter-widgets/controls",
      "model_module_version": "2.0.0",
      "model_name": "FloatSliderModel",
      "state": {
       "behavior": "drag-tap",
       "description": "R",
       "layout": "IPY_MODEL_fdfc5f45d6014e6bb935eb16c60a649c",
       "max": 10,
       "min": 0.1,
       "step": 0.1,
       "style": "IPY_MODEL_6745155898374cc0816f2925971dc05b",
       "value": 1
      }
     },
     "bc0286a7f9f344da908bd6fe93a3563b": {
      "model_module": "@jupyter-widgets/controls",
      "model_module_version": "2.0.0",
      "model_name": "FloatLogSliderModel",
      "state": {
       "behavior": "drag-tap",
       "description": "Duration",
       "layout": "IPY_MODEL_f1f1af27e73d4e998f7a06148ba64339",
       "max": 2,
       "min": -3,
       "style": "IPY_MODEL_46082c044b174bf2a24aa3e45b35e9c6"
      }
     },
     "c29443396e19442493e88d7235a0eac6": {
      "model_module": "@jupyter-widgets/controls",
      "model_module_version": "2.0.0",
      "model_name": "FloatSliderModel",
      "state": {
       "behavior": "drag-tap",
       "description": "L",
       "layout": "IPY_MODEL_feeda8f45569453bb6f6cafd73ef94d1",
       "max": 1,
       "min": 0.001,
       "step": 0.001,
       "style": "IPY_MODEL_2519eb0c85fc4db292904f72dd9e53fc",
       "value": 0.1
      }
     },
     "c8e491cf7c5444aa9e9a76d0ed67658d": {
      "model_module": "@jupyter-widgets/controls",
      "model_module_version": "2.0.0",
      "model_name": "SliderStyleModel",
      "state": {
       "description_width": ""
      }
     },
     "cba69670de2e49e58fb24af590cdce8a": {
      "model_module": "@jupyter-widgets/controls",
      "model_module_version": "2.0.0",
      "model_name": "VBoxModel",
      "state": {
       "_dom_classes": [
        "widget-interact"
       ],
       "layout": "IPY_MODEL_3e5359e444d344fd8cf11d727fa30f68"
      }
     },
     "d0e9cf1fd4da417dbc3d3d2182d89001": {
      "model_module": "@jupyter-widgets/base",
      "model_module_version": "2.0.0",
      "model_name": "LayoutModel",
      "state": {}
     },
     "d355a59b63db4ebebe96ee949277882d": {
      "model_module": "@jupyter-widgets/controls",
      "model_module_version": "2.0.0",
      "model_name": "SliderStyleModel",
      "state": {
       "description_width": ""
      }
     },
     "d95e68fd0390498fb1ad33820ebddb31": {
      "model_module": "@jupyter-widgets/controls",
      "model_module_version": "2.0.0",
      "model_name": "SliderStyleModel",
      "state": {
       "description_width": ""
      }
     },
     "dba735d5004541d483d632139e925272": {
      "model_module": "@jupyter-widgets/controls",
      "model_module_version": "2.0.0",
      "model_name": "SliderStyleModel",
      "state": {
       "description_width": ""
      }
     },
     "e3b68352b2894147a747e083f3b5d557": {
      "model_module": "@jupyter-widgets/controls",
      "model_module_version": "2.0.0",
      "model_name": "FloatSliderModel",
      "state": {
       "behavior": "drag-tap",
       "description": "Length of coid (m)",
       "layout": "IPY_MODEL_a30cbb4752104c848fc60561da88df11",
       "max": 0.3,
       "min": 0.01,
       "step": 0.1,
       "style": "IPY_MODEL_4425f8b98be242bb8b22d7c71131c591",
       "value": 0.06
      }
     },
     "e446dbb2305f46fdb3dccf563e41bf1d": {
      "model_module": "@jupyter-widgets/controls",
      "model_module_version": "2.0.0",
      "model_name": "FloatSliderModel",
      "state": {
       "behavior": "drag-tap",
       "layout": "IPY_MODEL_050b0be162ab44edb9ba9ea97259ab77",
       "max": 1000,
       "min": 1,
       "step": 0.1,
       "style": "IPY_MODEL_3f3385c82a5d4220989ed5f0db92d6b8",
       "value": 100
      }
     },
     "e669082b211547f1a2e1c9bf443b908c": {
      "model_module": "@jupyter-widgets/controls",
      "model_module_version": "2.0.0",
      "model_name": "FloatSliderModel",
      "state": {
       "behavior": "drag-tap",
       "layout": "IPY_MODEL_f29abb2cd4fb413da81313f5feb8347d",
       "step": 0.1,
       "style": "IPY_MODEL_ec71ea47f02f4f45ab249b9aa9abbe70"
      }
     },
     "ebd78bcec7fc44e4b3c94c09743f4256": {
      "model_module": "@jupyter-widgets/base",
      "model_module_version": "2.0.0",
      "model_name": "LayoutModel",
      "state": {}
     },
     "ec71ea47f02f4f45ab249b9aa9abbe70": {
      "model_module": "@jupyter-widgets/controls",
      "model_module_version": "2.0.0",
      "model_name": "SliderStyleModel",
      "state": {
       "description_width": ""
      }
     },
     "f1f1af27e73d4e998f7a06148ba64339": {
      "model_module": "@jupyter-widgets/base",
      "model_module_version": "2.0.0",
      "model_name": "LayoutModel",
      "state": {}
     },
     "f20d3046763146a5838dd0ca9c3c5a17": {
      "model_module": "@jupyter-widgets/base",
      "model_module_version": "2.0.0",
      "model_name": "LayoutModel",
      "state": {}
     },
     "f29abb2cd4fb413da81313f5feb8347d": {
      "model_module": "@jupyter-widgets/base",
      "model_module_version": "2.0.0",
      "model_name": "LayoutModel",
      "state": {}
     },
     "f63ff75af47c4f8195413c4073f162c1": {
      "model_module": "@jupyter-widgets/controls",
      "model_module_version": "2.0.0",
      "model_name": "VBoxModel",
      "state": {
       "_dom_classes": [
        "widget-interact"
       ],
       "layout": "IPY_MODEL_ebd78bcec7fc44e4b3c94c09743f4256"
      }
     },
     "fdd2ba05eca943a4bed6aead05ad46b2": {
      "model_module": "@jupyter-widgets/base",
      "model_module_version": "2.0.0",
      "model_name": "LayoutModel",
      "state": {}
     },
     "fdfc5f45d6014e6bb935eb16c60a649c": {
      "model_module": "@jupyter-widgets/base",
      "model_module_version": "2.0.0",
      "model_name": "LayoutModel",
      "state": {}
     },
     "feeda8f45569453bb6f6cafd73ef94d1": {
      "model_module": "@jupyter-widgets/base",
      "model_module_version": "2.0.0",
      "model_name": "LayoutModel",
      "state": {}
     },
     "ffee8e7fc1754f3888312049d9881a9c": {
      "model_module": "@jupyter-widgets/controls",
      "model_module_version": "2.0.0",
      "model_name": "FloatSliderModel",
      "state": {
       "behavior": "drag-tap",
       "description": "L",
       "layout": "IPY_MODEL_2412c65f3f9b4e7e8e80064e26b8c474",
       "max": 1,
       "min": 0.001,
       "step": 0.001,
       "style": "IPY_MODEL_2198a84d7c4148aaa0bfedd384d8860e",
       "value": 0.1
      }
     }
    },
    "version_major": 2,
    "version_minor": 0
   }
  }
 },
 "nbformat": 4,
 "nbformat_minor": 5
}
