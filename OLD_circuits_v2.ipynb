{
 "cells": [
  {
   "cell_type": "markdown",
   "id": "5274699c-7f11-4771-a6c0-ef47757b5d51",
   "metadata": {},
   "source": [
    "#### Import libaries"
   ]
  },
  {
   "cell_type": "code",
   "execution_count": 6,
   "id": "ffc1e3cb-a7c6-4e29-bab2-dd2b00e0edea",
   "metadata": {},
   "outputs": [
    {
     "name": "stdout",
     "output_type": "stream",
     "text": [
      "Requirement already satisfied: scipy in /home/aaron/.local/pipx/venvs/jupyterlab/lib/python3.11/site-packages (1.13.1)\n",
      "Requirement already satisfied: numpy<2.3,>=1.22.4 in /home/aaron/.local/pipx/venvs/jupyterlab/lib/python3.11/site-packages (from scipy) (1.26.4)\n",
      "Note: you may need to restart the kernel to use updated packages.\n",
      "Requirement already satisfied: matplotlib in /home/aaron/.local/pipx/venvs/jupyterlab/lib/python3.11/site-packages (3.9.0)\n",
      "Requirement already satisfied: contourpy>=1.0.1 in /home/aaron/.local/pipx/venvs/jupyterlab/lib/python3.11/site-packages (from matplotlib) (1.2.1)\n",
      "Requirement already satisfied: cycler>=0.10 in /home/aaron/.local/pipx/venvs/jupyterlab/lib/python3.11/site-packages (from matplotlib) (0.12.1)\n",
      "Requirement already satisfied: fonttools>=4.22.0 in /home/aaron/.local/pipx/venvs/jupyterlab/lib/python3.11/site-packages (from matplotlib) (4.52.4)\n",
      "Requirement already satisfied: kiwisolver>=1.3.1 in /home/aaron/.local/pipx/venvs/jupyterlab/lib/python3.11/site-packages (from matplotlib) (1.4.5)\n",
      "Requirement already satisfied: numpy>=1.23 in /home/aaron/.local/pipx/venvs/jupyterlab/lib/python3.11/site-packages (from matplotlib) (1.26.4)\n",
      "Requirement already satisfied: packaging>=20.0 in /home/aaron/.local/pipx/venvs/jupyterlab/lib/python3.11/site-packages (from matplotlib) (24.0)\n",
      "Requirement already satisfied: pillow>=8 in /home/aaron/.local/pipx/venvs/jupyterlab/lib/python3.11/site-packages (from matplotlib) (10.3.0)\n",
      "Requirement already satisfied: pyparsing>=2.3.1 in /home/aaron/.local/pipx/venvs/jupyterlab/lib/python3.11/site-packages (from matplotlib) (3.1.2)\n",
      "Requirement already satisfied: python-dateutil>=2.7 in /home/aaron/.local/pipx/venvs/jupyterlab/lib/python3.11/site-packages (from matplotlib) (2.9.0.post0)\n",
      "Requirement already satisfied: six>=1.5 in /home/aaron/.local/pipx/venvs/jupyterlab/lib/python3.11/site-packages (from python-dateutil>=2.7->matplotlib) (1.16.0)\n",
      "Note: you may need to restart the kernel to use updated packages.\n",
      "Requirement already satisfied: ipywidgets in /home/aaron/.local/pipx/venvs/jupyterlab/lib/python3.11/site-packages (8.1.2)\n",
      "Requirement already satisfied: comm>=0.1.3 in /home/aaron/.local/pipx/venvs/jupyterlab/lib/python3.11/site-packages (from ipywidgets) (0.2.2)\n",
      "Requirement already satisfied: ipython>=6.1.0 in /home/aaron/.local/pipx/venvs/jupyterlab/lib/python3.11/site-packages (from ipywidgets) (8.24.0)\n",
      "Requirement already satisfied: traitlets>=4.3.1 in /home/aaron/.local/pipx/venvs/jupyterlab/lib/python3.11/site-packages (from ipywidgets) (5.14.3)\n",
      "Requirement already satisfied: widgetsnbextension~=4.0.10 in /home/aaron/.local/pipx/venvs/jupyterlab/lib/python3.11/site-packages (from ipywidgets) (4.0.10)\n",
      "Requirement already satisfied: jupyterlab-widgets~=3.0.10 in /home/aaron/.local/pipx/venvs/jupyterlab/lib/python3.11/site-packages (from ipywidgets) (3.0.10)\n",
      "Requirement already satisfied: decorator in /home/aaron/.local/pipx/venvs/jupyterlab/lib/python3.11/site-packages (from ipython>=6.1.0->ipywidgets) (5.1.1)\n",
      "Requirement already satisfied: jedi>=0.16 in /home/aaron/.local/pipx/venvs/jupyterlab/lib/python3.11/site-packages (from ipython>=6.1.0->ipywidgets) (0.19.1)\n",
      "Requirement already satisfied: matplotlib-inline in /home/aaron/.local/pipx/venvs/jupyterlab/lib/python3.11/site-packages (from ipython>=6.1.0->ipywidgets) (0.1.7)\n",
      "Requirement already satisfied: prompt-toolkit<3.1.0,>=3.0.41 in /home/aaron/.local/pipx/venvs/jupyterlab/lib/python3.11/site-packages (from ipython>=6.1.0->ipywidgets) (3.0.43)\n",
      "Requirement already satisfied: pygments>=2.4.0 in /home/aaron/.local/pipx/venvs/jupyterlab/lib/python3.11/site-packages (from ipython>=6.1.0->ipywidgets) (2.18.0)\n",
      "Requirement already satisfied: stack-data in /home/aaron/.local/pipx/venvs/jupyterlab/lib/python3.11/site-packages (from ipython>=6.1.0->ipywidgets) (0.6.3)\n",
      "Requirement already satisfied: typing-extensions>=4.6 in /home/aaron/.local/pipx/venvs/jupyterlab/lib/python3.11/site-packages (from ipython>=6.1.0->ipywidgets) (4.12.0)\n",
      "Requirement already satisfied: pexpect>4.3 in /home/aaron/.local/pipx/venvs/jupyterlab/lib/python3.11/site-packages (from ipython>=6.1.0->ipywidgets) (4.9.0)\n",
      "Requirement already satisfied: parso<0.9.0,>=0.8.3 in /home/aaron/.local/pipx/venvs/jupyterlab/lib/python3.11/site-packages (from jedi>=0.16->ipython>=6.1.0->ipywidgets) (0.8.4)\n",
      "Requirement already satisfied: ptyprocess>=0.5 in /home/aaron/.local/pipx/venvs/jupyterlab/lib/python3.11/site-packages (from pexpect>4.3->ipython>=6.1.0->ipywidgets) (0.7.0)\n",
      "Requirement already satisfied: wcwidth in /home/aaron/.local/pipx/venvs/jupyterlab/lib/python3.11/site-packages (from prompt-toolkit<3.1.0,>=3.0.41->ipython>=6.1.0->ipywidgets) (0.2.13)\n",
      "Requirement already satisfied: executing>=1.2.0 in /home/aaron/.local/pipx/venvs/jupyterlab/lib/python3.11/site-packages (from stack-data->ipython>=6.1.0->ipywidgets) (2.0.1)\n",
      "Requirement already satisfied: asttokens>=2.1.0 in /home/aaron/.local/pipx/venvs/jupyterlab/lib/python3.11/site-packages (from stack-data->ipython>=6.1.0->ipywidgets) (2.4.1)\n",
      "Requirement already satisfied: pure-eval in /home/aaron/.local/pipx/venvs/jupyterlab/lib/python3.11/site-packages (from stack-data->ipython>=6.1.0->ipywidgets) (0.2.2)\n",
      "Requirement already satisfied: six>=1.12.0 in /home/aaron/.local/pipx/venvs/jupyterlab/lib/python3.11/site-packages (from asttokens>=2.1.0->stack-data->ipython>=6.1.0->ipywidgets) (1.16.0)\n",
      "Note: you may need to restart the kernel to use updated packages.\n",
      "Collecting ipympl\n",
      "  Downloading ipympl-0.9.4-py3-none-any.whl.metadata (8.7 kB)\n",
      "Collecting ipython-genutils (from ipympl)\n",
      "  Downloading ipython_genutils-0.2.0-py2.py3-none-any.whl.metadata (755 bytes)\n",
      "Requirement already satisfied: ipython<9 in /home/aaron/.local/pipx/venvs/jupyterlab/lib/python3.11/site-packages (from ipympl) (8.24.0)\n",
      "Requirement already satisfied: ipywidgets<9,>=7.6.0 in /home/aaron/.local/pipx/venvs/jupyterlab/lib/python3.11/site-packages (from ipympl) (8.1.2)\n",
      "Requirement already satisfied: matplotlib<4,>=3.4.0 in /home/aaron/.local/pipx/venvs/jupyterlab/lib/python3.11/site-packages (from ipympl) (3.9.0)\n",
      "Requirement already satisfied: numpy in /home/aaron/.local/pipx/venvs/jupyterlab/lib/python3.11/site-packages (from ipympl) (1.26.4)\n",
      "Requirement already satisfied: pillow in /home/aaron/.local/pipx/venvs/jupyterlab/lib/python3.11/site-packages (from ipympl) (10.3.0)\n",
      "Requirement already satisfied: traitlets<6 in /home/aaron/.local/pipx/venvs/jupyterlab/lib/python3.11/site-packages (from ipympl) (5.14.3)\n",
      "Requirement already satisfied: decorator in /home/aaron/.local/pipx/venvs/jupyterlab/lib/python3.11/site-packages (from ipython<9->ipympl) (5.1.1)\n",
      "Requirement already satisfied: jedi>=0.16 in /home/aaron/.local/pipx/venvs/jupyterlab/lib/python3.11/site-packages (from ipython<9->ipympl) (0.19.1)\n",
      "Requirement already satisfied: matplotlib-inline in /home/aaron/.local/pipx/venvs/jupyterlab/lib/python3.11/site-packages (from ipython<9->ipympl) (0.1.7)\n",
      "Requirement already satisfied: prompt-toolkit<3.1.0,>=3.0.41 in /home/aaron/.local/pipx/venvs/jupyterlab/lib/python3.11/site-packages (from ipython<9->ipympl) (3.0.43)\n",
      "Requirement already satisfied: pygments>=2.4.0 in /home/aaron/.local/pipx/venvs/jupyterlab/lib/python3.11/site-packages (from ipython<9->ipympl) (2.18.0)\n",
      "Requirement already satisfied: stack-data in /home/aaron/.local/pipx/venvs/jupyterlab/lib/python3.11/site-packages (from ipython<9->ipympl) (0.6.3)\n",
      "Requirement already satisfied: typing-extensions>=4.6 in /home/aaron/.local/pipx/venvs/jupyterlab/lib/python3.11/site-packages (from ipython<9->ipympl) (4.12.0)\n",
      "Requirement already satisfied: pexpect>4.3 in /home/aaron/.local/pipx/venvs/jupyterlab/lib/python3.11/site-packages (from ipython<9->ipympl) (4.9.0)\n",
      "Requirement already satisfied: comm>=0.1.3 in /home/aaron/.local/pipx/venvs/jupyterlab/lib/python3.11/site-packages (from ipywidgets<9,>=7.6.0->ipympl) (0.2.2)\n",
      "Requirement already satisfied: widgetsnbextension~=4.0.10 in /home/aaron/.local/pipx/venvs/jupyterlab/lib/python3.11/site-packages (from ipywidgets<9,>=7.6.0->ipympl) (4.0.10)\n",
      "Requirement already satisfied: jupyterlab-widgets~=3.0.10 in /home/aaron/.local/pipx/venvs/jupyterlab/lib/python3.11/site-packages (from ipywidgets<9,>=7.6.0->ipympl) (3.0.10)\n",
      "Requirement already satisfied: contourpy>=1.0.1 in /home/aaron/.local/pipx/venvs/jupyterlab/lib/python3.11/site-packages (from matplotlib<4,>=3.4.0->ipympl) (1.2.1)\n",
      "Requirement already satisfied: cycler>=0.10 in /home/aaron/.local/pipx/venvs/jupyterlab/lib/python3.11/site-packages (from matplotlib<4,>=3.4.0->ipympl) (0.12.1)\n",
      "Requirement already satisfied: fonttools>=4.22.0 in /home/aaron/.local/pipx/venvs/jupyterlab/lib/python3.11/site-packages (from matplotlib<4,>=3.4.0->ipympl) (4.52.4)\n",
      "Requirement already satisfied: kiwisolver>=1.3.1 in /home/aaron/.local/pipx/venvs/jupyterlab/lib/python3.11/site-packages (from matplotlib<4,>=3.4.0->ipympl) (1.4.5)\n",
      "Requirement already satisfied: packaging>=20.0 in /home/aaron/.local/pipx/venvs/jupyterlab/lib/python3.11/site-packages (from matplotlib<4,>=3.4.0->ipympl) (24.0)\n",
      "Requirement already satisfied: pyparsing>=2.3.1 in /home/aaron/.local/pipx/venvs/jupyterlab/lib/python3.11/site-packages (from matplotlib<4,>=3.4.0->ipympl) (3.1.2)\n",
      "Requirement already satisfied: python-dateutil>=2.7 in /home/aaron/.local/pipx/venvs/jupyterlab/lib/python3.11/site-packages (from matplotlib<4,>=3.4.0->ipympl) (2.9.0.post0)\n",
      "Requirement already satisfied: parso<0.9.0,>=0.8.3 in /home/aaron/.local/pipx/venvs/jupyterlab/lib/python3.11/site-packages (from jedi>=0.16->ipython<9->ipympl) (0.8.4)\n",
      "Requirement already satisfied: ptyprocess>=0.5 in /home/aaron/.local/pipx/venvs/jupyterlab/lib/python3.11/site-packages (from pexpect>4.3->ipython<9->ipympl) (0.7.0)\n",
      "Requirement already satisfied: wcwidth in /home/aaron/.local/pipx/venvs/jupyterlab/lib/python3.11/site-packages (from prompt-toolkit<3.1.0,>=3.0.41->ipython<9->ipympl) (0.2.13)\n",
      "Requirement already satisfied: six>=1.5 in /home/aaron/.local/pipx/venvs/jupyterlab/lib/python3.11/site-packages (from python-dateutil>=2.7->matplotlib<4,>=3.4.0->ipympl) (1.16.0)\n",
      "Requirement already satisfied: executing>=1.2.0 in /home/aaron/.local/pipx/venvs/jupyterlab/lib/python3.11/site-packages (from stack-data->ipython<9->ipympl) (2.0.1)\n",
      "Requirement already satisfied: asttokens>=2.1.0 in /home/aaron/.local/pipx/venvs/jupyterlab/lib/python3.11/site-packages (from stack-data->ipython<9->ipympl) (2.4.1)\n",
      "Requirement already satisfied: pure-eval in /home/aaron/.local/pipx/venvs/jupyterlab/lib/python3.11/site-packages (from stack-data->ipython<9->ipympl) (0.2.2)\n",
      "Downloading ipympl-0.9.4-py3-none-any.whl (516 kB)\n",
      "\u001b[2K   \u001b[90m━━━━━━━━━━━━━━━━━━━━━━━━━━━━━━━━━━━━━━━━\u001b[0m \u001b[32m516.3/516.3 kB\u001b[0m \u001b[31m2.3 MB/s\u001b[0m eta \u001b[36m0:00:00\u001b[0m00:01\u001b[0m00:01\u001b[0mm\n",
      "\u001b[?25hDownloading ipython_genutils-0.2.0-py2.py3-none-any.whl (26 kB)\n",
      "Installing collected packages: ipython-genutils, ipympl\n",
      "Successfully installed ipympl-0.9.4 ipython-genutils-0.2.0\n",
      "Note: you may need to restart the kernel to use updated packages.\n"
     ]
    }
   ],
   "source": [
    "%pip install scipy\n",
    "%pip install matplotlib\n",
    "%pip install ipywidgets\n",
    "%pip install ipympl \n",
    "import numpy as np\n",
    "import matplotlib.pyplot as plt\n",
    "from scipy.integrate import solve_ivp\n",
    "from scipy.interpolate import interp1d\n",
    "import ipywidgets as widgets"
   ]
  },
  {
   "cell_type": "markdown",
   "id": "57266ca8-f7d7-47bc-917a-71a00d6cc0f9",
   "metadata": {},
   "source": [
    "### Define Model"
   ]
  },
  {
   "cell_type": "code",
   "execution_count": 2,
   "id": "bd014cc4-c0fc-4d70-86de-2e17136507b7",
   "metadata": {},
   "outputs": [],
   "source": [
    "import numpy as np\n",
    "\n",
    "# Constants\n",
    "mu_0 = 4 * np.pi * 1e-7  # Permeability of free space in T·m/A\n",
    "\n",
    "# Define the capacitor\n",
    "# 24000uF 100V -10+75%\n",
    "# ESR - ??? Use 15 mOhms for now\n",
    "# Aluminum Electrolytic Capacitors\n",
    "# Screw Terminal \n",
    "# $34.56\n",
    "# Mfr. Part #DCMC243U100CC2B\n",
    "# Mouser Part #598-DCMC243U100CC2B\n",
    "# https://www.mouser.com/c/passive-components/capacitors/aluminum-electrolytic-capacitors/?series=DCMC&pg=3\n",
    "C = .1  # Capacitance in Farads\n",
    "capacitor_ESR = 1.5e-2  # Resistance in Ohms\n",
    "V0 = 100  # Initial voltage across the capacitor\n",
    "\n",
    "# Define the Inductor\n",
    "N_turns = 500         # Number of turns in the coil\n",
    "coil_diameter = .040  # Diameter of coil, meters \n",
    "coil_length = .060    # Length of coil, meters\n",
    "coil_wire_resistance = 0.000  # Ohms\n",
    "\n",
    "# Calculate inductance\n",
    "coil_area = np.pi * (coil_diameter/2) ** 2  # Coil cross-section, in m^2\n",
    "L = (N_turns**2 * mu_0 * coil_area) / coil_length  # Inductance in Henrys\n",
    "# print(\"L={:.2e}H\".format(L))\n",
    "\n",
    "# Projectile properties\n",
    "proj_diameter = 0.005  # Diameter in meters\n",
    "proj_length = 0.010  # Length in meters\n",
    "proj_density = 7870  # Density of iron in kg/m^3\n",
    "proj_volume = np.pi * (proj_diameter / 2)**2 * proj_length  # Volume in cubic meters\n",
    "proj_mass = proj_density * proj_volume  # Mass in kg\n"
   ]
  },
  {
   "cell_type": "code",
   "execution_count": 3,
   "id": "813a0044-6091-4839-ab09-637477e031d3",
   "metadata": {},
   "outputs": [
    {
     "name": "stdout",
     "output_type": "stream",
     "text": [
      "Natural Frequency (ω0): 3.898e+01 rad/s\n",
      "R_intrinsic: 1.500e-02 Ω\n",
      "Critical Damping Resistance: 5.130e-01 Ω\n",
      "R_critical - R_intrinsic: 0.4980199320647456 (close to zero is critically damped)\n",
      "Damping Ratio (ζ): 2.924e-02\n",
      "Total resistance: 1.500e-02 Ω\n"
     ]
    }
   ],
   "source": [
    "# Define the natural frequency and critical damping resistance\n",
    "R_intrinsic = coil_wire_resistance + capacitor_ESR\n",
    "omega_0 = 1 / np.sqrt(L * C)\n",
    "R_critical = 2 * np.sqrt(L / C)\n",
    "zeta = R_intrinsic / (2 * np.sqrt(L / C))\n",
    "\n",
    "# Print info about frequency\n",
    "print(f\"Natural Frequency (ω0): {omega_0:.3e} rad/s\")\n",
    "print(f\"R_intrinsic: {R_intrinsic:.3e} Ω\")\n",
    "print(f\"Critical Damping Resistance: {R_critical:.3e} Ω\")\n",
    "print(f\"R_critical - R_intrinsic: {R_critical - R_intrinsic} (close to zero is critically damped)\")\n",
    "print(f\"Damping Ratio (ζ): {zeta:.3e}\")\n",
    "\n",
    "R_total = R_intrinsic\n",
    "# Damping resistor\n",
    "# R_damp = R_critical - R_intrinsic\n",
    "# if (R_damp > 0):\n",
    "#     print(\"Adding a damping resistor of {:.3e} Ω to the simulation\".format(R_damp))\n",
    "#     R_total = R_damp + R_intrinsic\n",
    "# else:\n",
    "#     R_total = R_intrinsic\n",
    "print(f\"Total resistance: {R_total:.3e} Ω\" )\n"
   ]
  },
  {
   "cell_type": "code",
   "execution_count": 4,
   "id": "aa16e692-b191-4a92-a01b-3c272a4347df",
   "metadata": {},
   "outputs": [],
   "source": [
    "def plot_circuit(solution):\n",
    "    [voltage, current, acceleration] = solution.y\n",
    "    time_sim = solution.t\n",
    "    # Plot Current\n",
    "    plt.figure(figsize=(8, 4))\n",
    "    plt.plot(time_sim, current, 'r', label='Current (A)')\n",
    "    plt.xlabel('Time (s)')\n",
    "    plt.ylabel('Current (A)')\n",
    "    plt.legend()\n",
    "    plt.title('Current vs. Time')\n",
    "    plt.grid(True)\n",
    "    plt.tick_params(axis='y', labelcolor='r')\n",
    "    plt.show()\n",
    "    return solution\n",
    "\n",
    "def plot_velocity(time, y):\n",
    "    plt.figure(figsize=(8, 4))\n",
    "    plt.plot(time, y, color='m', label='Velocity (m/s)')\n",
    "    plt.xlabel('Time (s)')\n",
    "    plt.ylabel('Velocity (m/s)', color='m')\n",
    "    plt.legend()\n",
    "    plt.title('Velocity vs. Time')\n",
    "    plt.grid(True)\n",
    "    plt.tick_params(axis='y', labelcolor='m')\n",
    "    plt.show()"
   ]
  },
  {
   "cell_type": "code",
   "execution_count": 5,
   "id": "d72def18-7491-4ebd-b905-c4c690ae369b",
   "metadata": {},
   "outputs": [
    {
     "data": {
      "image/png": "[encoded data removed]",
      "text/plain": [
       "<Figure size 800x400 with 1 Axes>"
      ]
     },
     "metadata": {},
     "output_type": "display_data"
    },
    {
     "data": {
      "application/vnd.jupyter.widget-view+json": {
       "model_id": "f090a23b855f4512be8cc68c59a72092",
       "version_major": 2,
       "version_minor": 0
      },
      "text/plain": [
       "interactive(children=(FloatSlider(value=100.0, description='V0', max=450.0, step=1.0), FloatLogSlider(value=0.…"
      ]
     },
     "metadata": {},
     "output_type": "display_data"
    },
    {
     "data": {
      "image/png": "[encoded data removed]",
      "text/plain": [
       "<Figure size 800x400 with 1 Axes>"
      ]
     },
     "metadata": {},
     "output_type": "display_data"
    }
   ],
   "source": [
    "import matplotlib.pyplot as plt\n",
    "from ipywidgets import interact, FloatSlider, FloatLogSlider\n",
    "from scipy.integrate import solve_ivp, cumulative_trapezoid\n",
    "import numpy as np\n",
    "\n",
    "# Define the differential equation for the RLC circuit\n",
    "def sys_model(t, y, C, L, R_total) :\n",
    "    # Destructure the state vector\n",
    "    [voltage, current, acceleration] = y\n",
    "    \n",
    "    # Rate of hange in voltage\n",
    "    dVdt = current / C\n",
    "    \n",
    "    # Rate of change in current \n",
    "    dIdt = -(R_total * current + voltage) / L  # THIS is secret sauce, courtesy of ChatGPT\n",
    "\n",
    "    # Compute accelation on the projective using the magnetic forcde\n",
    "    Phi = L * current  # Magnetic flux\n",
    "    F = (Phi**2) / (2 * L)  # Force based on magnetic flux\n",
    "    dvdt = F / proj_mass \n",
    "    \n",
    "    return [ dVdt, dIdt, dvdt ]\n",
    "\n",
    "def run_sim(init_volts, capacitance, inductance, resistance, duration_seconds):\n",
    "    # Initial voltage across cap, current across inductor, init position of projective, init velocity of projectiile\n",
    "    init_conditions = [-init_volts, 0, 0]\n",
    "    t_span = (0, duration_seconds)  # Simulation time bounds\n",
    "    t_eval = np.linspace(t_span[0], t_span[1], 1000000)      # Set simulation granularity\n",
    "\n",
    "    # Solve the differential equation\n",
    "    return solve_ivp(sys_model, t_span, init_conditions, t_eval=t_eval, args=(capacitance, inductance, resistance))\n",
    "\n",
    "# Interactive sliders for the parameters\n",
    "V0_slider = FloatSlider(value=100, min=0, max=450, step=1, description='V0')\n",
    "C_slider = FloatLogSlider(value=0.01, base=10, min=-6, max=2, step=0.1, description='C')\n",
    "L_slider = FloatSlider(value=0.1, min=0.001, max=1, step=0.001, description='L')\n",
    "R_slider = FloatSlider(value=1, min=0.1, max=10, step=0.1, description='R')\n",
    "duration_slider = FloatLogSlider(value=1, base=10, min=-3, max=2, step=0.1, description='Duration')\n",
    "\n",
    "def solve_and_plot(V0, C, L, R, duration_seconds):\n",
    "    global circuit_solution\n",
    "    circuit_solution = run_sim(V0, C, L, R, duration_seconds)\n",
    "    plot_circuit(circuit_solution)\n",
    "    \n",
    "interact(\n",
    "    solve_and_plot,\n",
    "    V0=V0_slider,\n",
    "    C=C_slider,\n",
    "    L=L_slider,\n",
    "    R=R_slider,\n",
    "    duration_seconds=duration_slider\n",
    ")\n",
    "\n",
    "# circuit_solution=run_sim(V0, C, L, R_total, 1)\n",
    "# Geschwindigkeit\n",
    "# Perform the cumulative integration\n",
    "velocity = cumulative_trapezoid(circuit_solution.y[2], circuit_solution.t)\n",
    "plot_velocity(circuit_solution.t[:500], velocity[0:500])\n",
    "\n",
    "# print(circuit_solution)"
   ]
  },
  {
   "cell_type": "code",
   "execution_count": 19,
   "id": "87067646-0c51-4401-b148-1031f4d97018",
   "metadata": {},
   "outputs": [],
   "source": [
    "# Calculate magnitude of magnetic field\n",
    "# V, I = circuit_solution.y\n",
    "# B = mu_0 * (N_turns / coil_length) * I\n",
    "# B_max = max(B, key=abs)\n",
    "# print(f\"B_max: {B_max:.3} Tesla\")\n",
    "\n",
    "# Create a third y-axis for the magnetic field strength\n",
    "# fig, ax3 = plt.subplots(figsize=(10, 5))\n",
    "# ax3.plot(t, B, 'g-', label='Magnetic Field (T)')\n",
    "# ax3.set_xlabel('Time (µs)')  # Set x-axis label to microseconds\n",
    "# ax3.set_ylabel('Magnetic Field (T)', color='g')\n",
    "# ax3.tick_params(axis='y', labelcolor='g')\n",
    "\n",
    "# Plot the magnetic flux\n",
    "# fig, ax4 = plt.subplots(figsize=(10, 5))\n",
    "# ax4.plot(t, Phi, 'm-', label='Magnetic Flux (Wb)')\n",
    "# ax4.set_xlabel('Time (µs)')  # Set x-axis label to microseconds\n",
    "# ax4.set_ylabel('Magnetic Flux (Wb)', color='m')\n",
    "# ax4.tick_params(axis='y', labelcolor='m')"
   ]
  },
  {
   "cell_type": "code",
   "execution_count": 20,
   "id": "3e5e69bf-72ab-4745-bf3d-288025c39a10",
   "metadata": {},
   "outputs": [],
   "source": [
    "\n",
    "\n",
    "# plot_solution(simulate_circuit(V0, C, L, R_total, 1))\n",
    "\n",
    "# def plot_simulation(V0, C, L, R, duration_seconds) :\n",
    "#     plot_solution(simulate_circuit(V0, C, L, R, duration_seconds))\n",
    "\n",
    "# plot_simulation(V0, C, L, R_total, 1) \n",
    "\n",
    "# interact(plot_simulation, V0=V0, C=cap_slider, L=L, R=R_total, duration_seconds=1)\n",
    "              "
   ]
  },
  {
   "cell_type": "code",
   "execution_count": null,
   "id": "3e6ecac5-763b-4711-80cc-d459eea3a57a",
   "metadata": {},
   "outputs": [],
   "source": []
  }
 ],
 "metadata": {
  "kernelspec": {
   "display_name": "Python 3 (ipykernel)",
   "language": "python",
   "name": "python3"
  },
  "language_info": {
   "codemirror_mode": {
    "name": "ipython",
    "version": 3
   },
   "file_extension": ".py",
   "mimetype": "text/x-python",
   "name": "python",
   "nbconvert_exporter": "python",
   "pygments_lexer": "ipython3",
   "version": "3.11.2"
  },
  "widgets": {
   "application/vnd.jupyter.widget-state+json": {
    "state": {
     "012bbb05645c4c0a9813a59ecbaec676": {
      "model_module": "@jupyter-widgets/controls",
      "model_module_version": "2.0.0",
      "model_name": "FloatSliderModel",
      "state": {
       "behavior": "drag-tap",
       "description": "R",
       "layout": "IPY_MODEL_866ff41d8e884dd08561e4ee84d8e0de",
       "max": 10,
       "min": 0.1,
       "step": 0.1,
       "style": "IPY_MODEL_8f97dece33e04ad6b32cc93b1ed71bd4",
       "value": 1.0000000000000002
      }
     },
     "0140804e8c6348f28583438641a005de": {
      "model_module": "@jupyter-widgets/controls",
      "model_module_version": "2.0.0",
      "model_name": "FloatLogSliderModel",
      "state": {
       "behavior": "drag-tap",
       "description": "C",
       "layout": "IPY_MODEL_e4706aeabb8844b5b23663b02663e47c",
       "max": 2,
       "min": -6,
       "style": "IPY_MODEL_c62907537f6147cf9c46ee26b046b14e",
       "value": 0.01
      }
     },
     "03a01235faa147d9983039f77e06fe92": {
      "model_module": "@jupyter-widgets/base",
      "model_module_version": "2.0.0",
      "model_name": "LayoutModel",
      "state": {}
     },
     "03ec190722554790a9a4b32e50af577f": {
      "model_module": "@jupyter-widgets/controls",
      "model_module_version": "2.0.0",
      "model_name": "SliderStyleModel",
      "state": {
       "description_width": ""
      }
     },
     "04484527c2da420f9a81635b72ef13f5": {
      "model_module": "@jupyter-widgets/base",
      "model_module_version": "2.0.0",
      "model_name": "LayoutModel",
      "state": {}
     },
     "05a76ed037694887aa6e4bcd4070d16a": {
      "model_module": "@jupyter-widgets/controls",
      "model_module_version": "2.0.0",
      "model_name": "FloatSliderModel",
      "state": {
       "behavior": "drag-tap",
       "description": "R",
       "layout": "IPY_MODEL_99d23fc7d7d741779bee106d0a8a60d3",
       "max": 10,
       "min": 0.1,
       "step": 0.1,
       "style": "IPY_MODEL_f4eb6e62e88f407da060ed7bc14bbf33",
       "value": 1
      }
     },
     "05bb3d943f88487e80a4e2545640579d": {
      "model_module": "@jupyter-widgets/controls",
      "model_module_version": "2.0.0",
      "model_name": "SliderStyleModel",
      "state": {
       "description_width": ""
      }
     },
     "06415b655b8f48958c6dc35937dd8c5c": {
      "model_module": "@jupyter-widgets/controls",
      "model_module_version": "2.0.0",
      "model_name": "FloatSliderModel",
      "state": {
       "behavior": "drag-tap",
       "description": "L",
       "layout": "IPY_MODEL_dea91b2c68614718ad9693e3b663fae3",
       "max": 1,
       "min": 0.001,
       "step": 0.001,
       "style": "IPY_MODEL_e95ceaa210c84913ab703a88a941da2a",
       "value": 0.1
      }
     },
     "06649ef73fac478480546b23e30bda36": {
      "model_module": "@jupyter-widgets/base",
      "model_module_version": "2.0.0",
      "model_name": "LayoutModel",
      "state": {}
     },
     "06df0eba03c0446d81d82359d256a40a": {
      "model_module": "@jupyter-widgets/base",
      "model_module_version": "2.0.0",
      "model_name": "LayoutModel",
      "state": {}
     },
     "07b776c49ac64718b5089caa9abd6cb6": {
      "model_module": "@jupyter-widgets/base",
      "model_module_version": "2.0.0",
      "model_name": "LayoutModel",
      "state": {}
     },
     "07f0609a2de84b2e9d5343cf5889de87": {
      "model_module": "@jupyter-widgets/controls",
      "model_module_version": "2.0.0",
      "model_name": "FloatLogSliderModel",
      "state": {
       "behavior": "drag-tap",
       "description": "Duration",
       "layout": "IPY_MODEL_e2c61af04f024581a127c49f67b2f75c",
       "max": 2,
       "min": -3,
       "style": "IPY_MODEL_d77d93a0c9814c8e8065de4d96263122"
      }
     },
     "0854caa0fd9342e8b60ce40e61cf0b7e": {
      "model_module": "@jupyter-widgets/base",
      "model_module_version": "2.0.0",
      "model_name": "LayoutModel",
      "state": {}
     },
     "09ebc97ace54481aaa9e2752d75412f4": {
      "model_module": "@jupyter-widgets/controls",
      "model_module_version": "2.0.0",
      "model_name": "FloatLogSliderModel",
      "state": {
       "behavior": "drag-tap",
       "description": "C",
       "layout": "IPY_MODEL_db06805c124f494599bd671111c55333",
       "max": 2,
       "min": -6,
       "style": "IPY_MODEL_444bd0ce43104227b5e1a89a25593bc2",
       "value": 0.01
      }
     },
     "0b1fa06b324b4086b85fc442cb9d6870": {
      "model_module": "@jupyter-widgets/controls",
      "model_module_version": "2.0.0",
      "model_name": "SliderStyleModel",
      "state": {
       "description_width": ""
      }
     },
     "0bdeb37f335a4672832279199fa7c85b": {
      "model_module": "@jupyter-widgets/controls",
      "model_module_version": "2.0.0",
      "model_name": "FloatSliderModel",
      "state": {
       "behavior": "drag-tap",
       "description": "V0",
       "layout": "IPY_MODEL_3dda741c5d2f4e4abb0ac2d06ca2dfca",
       "max": 450,
       "style": "IPY_MODEL_8fd966c84e8148ffa8c86fb526a6148c",
       "value": 100
      }
     },
     "0e2babd665b1488c935ad387133d0afa": {
      "model_module": "@jupyter-widgets/controls",
      "model_module_version": "2.0.0",
      "model_name": "SliderStyleModel",
      "state": {
       "description_width": ""
      }
     },
     "102b6e0b2c50443087967145e8700686": {
      "model_module": "@jupyter-widgets/controls",
      "model_module_version": "2.0.0",
      "model_name": "FloatSliderModel",
      "state": {
       "behavior": "drag-tap",
       "description": "V0",
       "layout": "IPY_MODEL_bee827f665c547f68c43d9add6b95bde",
       "max": 450,
       "style": "IPY_MODEL_9b8cdf6e041c40888f5978b7fe985b0b",
       "value": 100
      }
     },
     "106e9ba588f24c2e93a3dc1affcc14fc": {
      "model_module": "@jupyter-widgets/base",
      "model_module_version": "2.0.0",
      "model_name": "LayoutModel",
      "state": {}
     },
     "10ba8224ed2e49268d502ac249d203ad": {
      "model_module": "@jupyter-widgets/base",
      "model_module_version": "2.0.0",
      "model_name": "LayoutModel",
      "state": {}
     },
     "10f1cff045ea430988ee8e752e8d0a37": {
      "model_module": "@jupyter-widgets/base",
      "model_module_version": "2.0.0",
      "model_name": "LayoutModel",
      "state": {}
     },
     "11d2d47b96ff402dad6602e9909877ad": {
      "model_module": "@jupyter-widgets/controls",
      "model_module_version": "2.0.0",
      "model_name": "FloatLogSliderModel",
      "state": {
       "behavior": "drag-tap",
       "description": "Duration",
       "layout": "IPY_MODEL_f07c69432262448a9d60e52b0c15df49",
       "max": 2,
       "min": -3,
       "style": "IPY_MODEL_80f4d4e17f564ceca908c32c065ea3d8"
      }
     },
     "12a9117b342347f6a2ded86121ac7324": {
      "model_module": "@jupyter-widgets/controls",
      "model_module_version": "2.0.0",
      "model_name": "FloatLogSliderModel",
      "state": {
       "behavior": "drag-tap",
       "description": "C",
       "layout": "IPY_MODEL_3da4c3771ac240e8a5be7323c9fbde87",
       "max": 2,
       "min": -6,
       "style": "IPY_MODEL_6c6fd203dd5f4167bd0f5b8a337dd9ce",
       "value": 0.01
      }
     },
     "12b70e8576594d2b86b6138bba1e6cba": {
      "model_module": "@jupyter-widgets/controls",
      "model_module_version": "2.0.0",
      "model_name": "SliderStyleModel",
      "state": {
       "description_width": ""
      }
     },
     "134e83a787764d278c8bae232f1e0e75": {
      "model_module": "@jupyter-widgets/controls",
      "model_module_version": "2.0.0",
      "model_name": "FloatSliderModel",
      "state": {
       "behavior": "drag-tap",
       "description": "V0",
       "layout": "IPY_MODEL_9055d2fc897b4924ab25aa5e628f8b3e",
       "max": 450,
       "style": "IPY_MODEL_4d548aa1c873440ea081aced62674ea2",
       "value": 100
      }
     },
     "144360df275c4d8c864fd3fd3557b175": {
      "model_module": "@jupyter-widgets/base",
      "model_module_version": "2.0.0",
      "model_name": "LayoutModel",
      "state": {}
     },
     "149ec5dc7e694d38b21225a7cfff6fca": {
      "model_module": "@jupyter-widgets/base",
      "model_module_version": "2.0.0",
      "model_name": "LayoutModel",
      "state": {}
     },
     "14ab14128e0c4acab1c222dfc88509d5": {
      "model_module": "@jupyter-widgets/base",
      "model_module_version": "2.0.0",
      "model_name": "LayoutModel",
      "state": {}
     },
     "14bae64cc3064bebbe2f396962da9c57": {
      "model_module": "@jupyter-widgets/controls",
      "model_module_version": "2.0.0",
      "model_name": "FloatLogSliderModel",
      "state": {
       "behavior": "drag-tap",
       "description": "Duration",
       "layout": "IPY_MODEL_06649ef73fac478480546b23e30bda36",
       "max": 2,
       "min": -3,
       "style": "IPY_MODEL_9815d8fce50348c7be21906751a5acf2"
      }
     },
     "15543440daea4a0ca13bd3574440a637": {
      "model_module": "@jupyter-widgets/base",
      "model_module_version": "2.0.0",
      "model_name": "LayoutModel",
      "state": {}
     },
     "15b3eaf10b234e2fb492871c74807290": {
      "model_module": "@jupyter-widgets/controls",
      "model_module_version": "2.0.0",
      "model_name": "FloatLogSliderModel",
      "state": {
       "behavior": "drag-tap",
       "description": "Duration",
       "layout": "IPY_MODEL_3dc42c6ae41d455482d0fc075d4089bf",
       "max": 2,
       "min": -3,
       "style": "IPY_MODEL_3ccc2bcdeba649dcb4e499c1c63e3d13"
      }
     },
     "1699be19083f4828b1b5022635ff1cb2": {
      "model_module": "@jupyter-widgets/controls",
      "model_module_version": "2.0.0",
      "model_name": "SliderStyleModel",
      "state": {
       "description_width": ""
      }
     },
     "16c57031d1434645a2b42ec151f9dee4": {
      "model_module": "@jupyter-widgets/controls",
      "model_module_version": "2.0.0",
      "model_name": "SliderStyleModel",
      "state": {
       "description_width": ""
      }
     },
     "1732825becba4cb4bed72d465bf4aac0": {
      "model_module": "@jupyter-widgets/base",
      "model_module_version": "2.0.0",
      "model_name": "LayoutModel",
      "state": {}
     },
     "17331ca2db9b4feb836eea5a67cac68d": {
      "model_module": "@jupyter-widgets/controls",
      "model_module_version": "2.0.0",
      "model_name": "SliderStyleModel",
      "state": {
       "description_width": ""
      }
     },
     "184d708c533841b4b9f611d80ce8a2ce": {
      "model_module": "@jupyter-widgets/controls",
      "model_module_version": "2.0.0",
      "model_name": "FloatLogSliderModel",
      "state": {
       "behavior": "drag-tap",
       "description": "C",
       "layout": "IPY_MODEL_f7a99b5798464d8f8865f077c6be47f6",
       "max": 2,
       "min": -6,
       "style": "IPY_MODEL_4af10a0f67fa44e88c6d2905d09243be",
       "value": 0.01
      }
     },
     "193e221a22f74d9893fd86ac8f8057b6": {
      "model_module": "@jupyter-widgets/controls",
      "model_module_version": "2.0.0",
      "model_name": "SliderStyleModel",
      "state": {
       "description_width": ""
      }
     },
     "1a1714da4c89496697df2915bb00d690": {
      "model_module": "@jupyter-widgets/controls",
      "model_module_version": "2.0.0",
      "model_name": "FloatLogSliderModel",
      "state": {
       "behavior": "drag-tap",
       "description": "C",
       "layout": "IPY_MODEL_4da1bbb5d97f400c9bd01fd7bfeb9f5b",
       "max": 2,
       "min": -6,
       "style": "IPY_MODEL_0b1fa06b324b4086b85fc442cb9d6870",
       "value": 0.01
      }
     },
     "1a18d024c3d94fa1a85aec1fcb817411": {
      "model_module": "@jupyter-widgets/base",
      "model_module_version": "2.0.0",
      "model_name": "LayoutModel",
      "state": {}
     },
     "1b84408619a94346977e84505632568e": {
      "model_module": "@jupyter-widgets/controls",
      "model_module_version": "2.0.0",
      "model_name": "FloatLogSliderModel",
      "state": {
       "behavior": "drag-tap",
       "description": "C",
       "layout": "IPY_MODEL_c54efffe18814032914e95d1224b392a",
       "max": 2,
       "min": -6,
       "style": "IPY_MODEL_77874cde88b84ba6b17d5f3568916344",
       "value": 0.01
      }
     },
     "1dda389749e04760a84f274feeaae4a0": {
      "model_module": "@jupyter-widgets/controls",
      "model_module_version": "2.0.0",
      "model_name": "SliderStyleModel",
      "state": {
       "description_width": ""
      }
     },
     "1dfd1f420bff4647bd331cb2c4ab955b": {
      "model_module": "@jupyter-widgets/base",
      "model_module_version": "2.0.0",
      "model_name": "LayoutModel",
      "state": {}
     },
     "1e5eeed73cb94e018102307c217e70d4": {
      "model_module": "@jupyter-widgets/controls",
      "model_module_version": "2.0.0",
      "model_name": "FloatSliderModel",
      "state": {
       "behavior": "drag-tap",
       "description": "R",
       "layout": "IPY_MODEL_a817ada2f126451995e6bf83335041cf",
       "max": 10,
       "min": 0.1,
       "step": 0.1,
       "style": "IPY_MODEL_753cd7b33e034c82a6d6b7285b37ba69",
       "value": 1.0000000000000002
      }
     },
     "1eb5582fd7ac459eafd9583ff2906e43": {
      "model_module": "@jupyter-widgets/base",
      "model_module_version": "2.0.0",
      "model_name": "LayoutModel",
      "state": {}
     },
     "1fc3e5e4057c4c0f8ce67132e884f2dd": {
      "model_module": "@jupyter-widgets/controls",
      "model_module_version": "2.0.0",
      "model_name": "SliderStyleModel",
      "state": {
       "description_width": ""
      }
     },
     "20d1a88bf12041d8a6d818cbdb51fc05": {
      "model_module": "@jupyter-widgets/base",
      "model_module_version": "2.0.0",
      "model_name": "LayoutModel",
      "state": {}
     },
     "216b2b9b45834005ab4318bc616ed795": {
      "model_module": "@jupyter-widgets/base",
      "model_module_version": "2.0.0",
      "model_name": "LayoutModel",
      "state": {}
     },
     "21713fe445f3475c98d4393b4fc55e17": {
      "model_module": "@jupyter-widgets/base",
      "model_module_version": "2.0.0",
      "model_name": "LayoutModel",
      "state": {}
     },
     "21d877935a044bb0b1aeb7a11a50b932": {
      "model_module": "@jupyter-widgets/controls",
      "model_module_version": "2.0.0",
      "model_name": "FloatLogSliderModel",
      "state": {
       "behavior": "drag-tap",
       "description": "Duration",
       "layout": "IPY_MODEL_f9ac12d6b0f64129b46c924230520ee5",
       "max": 2,
       "min": -3,
       "style": "IPY_MODEL_7b9304cf1d3445ddba8b3237f48cafec"
      }
     },
     "221ed089477e487c9576fc4b5fdd56c6": {
      "model_module": "@jupyter-widgets/base",
      "model_module_version": "2.0.0",
      "model_name": "LayoutModel",
      "state": {}
     },
     "22cf85d1827d4c2ea12b0ad8dcbe3fd0": {
      "model_module": "@jupyter-widgets/controls",
      "model_module_version": "2.0.0",
      "model_name": "FloatSliderModel",
      "state": {
       "behavior": "drag-tap",
       "description": "R",
       "layout": "IPY_MODEL_357aef7ac08f46678363a583ec8c3ef8",
       "max": 10,
       "min": 0.1,
       "step": 0.1,
       "style": "IPY_MODEL_bf1c37382c3a416cb4f03e067085c3a7",
       "value": 1.0000000000000002
      }
     },
     "23205f13960e483eaf856cefe73526b6": {
      "model_module": "@jupyter-widgets/base",
      "model_module_version": "2.0.0",
      "model_name": "LayoutModel",
      "state": {}
     },
     "2353a499dbf94d99a8d9310e00d45196": {
      "model_module": "@jupyter-widgets/controls",
      "model_module_version": "2.0.0",
      "model_name": "FloatLogSliderModel",
      "state": {
       "behavior": "drag-tap",
       "description": "C",
       "layout": "IPY_MODEL_327618eb61ae4578abe8819a7b2aebeb",
       "max": 2,
       "min": -6,
       "style": "IPY_MODEL_765df39881a544889d0db0e261ba6fd2",
       "value": 0.01
      }
     },
     "24a476382f27400e995ef806221566c2": {
      "model_module": "@jupyter-widgets/controls",
      "model_module_version": "2.0.0",
      "model_name": "FloatSliderModel",
      "state": {
       "behavior": "drag-tap",
       "description": "V0",
       "layout": "IPY_MODEL_dd1dcf093f944bd88b06c261c1079943",
       "max": 450,
       "style": "IPY_MODEL_5bd436329b344a14a21481d2d7689aa1",
       "value": 100
      }
     },
     "24bf070a3909423797e5a319fd2c7c58": {
      "model_module": "@jupyter-widgets/base",
      "model_module_version": "2.0.0",
      "model_name": "LayoutModel",
      "state": {}
     },
     "25b4f948d4b4406ca8105f5e7d3b63c4": {
      "model_module": "@jupyter-widgets/controls",
      "model_module_version": "2.0.0",
      "model_name": "SliderStyleModel",
      "state": {
       "description_width": ""
      }
     },
     "25d618326457435fac7bc7943c356593": {
      "model_module": "@jupyter-widgets/base",
      "model_module_version": "2.0.0",
      "model_name": "LayoutModel",
      "state": {}
     },
     "26b841bbf1bf4cd5a5305ba33ec91a13": {
      "model_module": "@jupyter-widgets/controls",
      "model_module_version": "2.0.0",
      "model_name": "SliderStyleModel",
      "state": {
       "description_width": ""
      }
     },
     "272c844e137942a5803041b4a2d05502": {
      "model_module": "@jupyter-widgets/controls",
      "model_module_version": "2.0.0",
      "model_name": "FloatLogSliderModel",
      "state": {
       "behavior": "drag-tap",
       "description": "Duration",
       "layout": "IPY_MODEL_0854caa0fd9342e8b60ce40e61cf0b7e",
       "max": 2,
       "min": -3,
       "style": "IPY_MODEL_f4d45bf984114a39a3044bd3ce83dd2c"
      }
     },
     "27575c25e5264ee987fc6f3722041964": {
      "model_module": "@jupyter-widgets/base",
      "model_module_version": "2.0.0",
      "model_name": "LayoutModel",
      "state": {}
     },
     "27baffebbba147398f4dbe22564ed97d": {
      "model_module": "@jupyter-widgets/controls",
      "model_module_version": "2.0.0",
      "model_name": "VBoxModel",
      "state": {
       "_dom_classes": [
        "widget-interact"
       ],
       "children": [
        "IPY_MODEL_745a00452a1b400e8670a5028546295c",
        "IPY_MODEL_d3e92373c1de41ea9b7c5198ae22cc4f",
        "IPY_MODEL_4fdb284d5ce34e87a1dbd1f301a70086",
        "IPY_MODEL_7a72293f6bc64bd087f82ad545a8b0d7",
        "IPY_MODEL_11d2d47b96ff402dad6602e9909877ad",
        "IPY_MODEL_3e94271ebac84937885cb5e55a517580"
       ],
       "layout": "IPY_MODEL_bcfcb0a136fc4e678f8ba6ae838ebda7"
      }
     },
     "284f43ce554f4e39afdca16b13e43eb5": {
      "model_module": "@jupyter-widgets/base",
      "model_module_version": "2.0.0",
      "model_name": "LayoutModel",
      "state": {}
     },
     "28c2df505a854d69b045a69dc3ac89fb": {
      "model_module": "@jupyter-widgets/base",
      "model_module_version": "2.0.0",
      "model_name": "LayoutModel",
      "state": {}
     },
     "28dc910a030148f69bf6958554d81d67": {
      "model_module": "@jupyter-widgets/base",
      "model_module_version": "2.0.0",
      "model_name": "LayoutModel",
      "state": {}
     },
     "2955ae6a1d1645e8a57fcf14d428a389": {
      "model_module": "@jupyter-widgets/base",
      "model_module_version": "2.0.0",
      "model_name": "LayoutModel",
      "state": {}
     },
     "2a0b46b26e3d41968469f62d5ed9f460": {
      "model_module": "@jupyter-widgets/controls",
      "model_module_version": "2.0.0",
      "model_name": "SliderStyleModel",
      "state": {
       "description_width": ""
      }
     },
     "2a6c685d2a97446da0a35e52d83b8f5b": {
      "model_module": "@jupyter-widgets/output",
      "model_module_version": "1.0.0",
      "model_name": "OutputModel",
      "state": {
       "layout": "IPY_MODEL_e756d5902bee443d84f096e5988288b3",
       "outputs": [
        {
         "ename": "NameError",
         "evalue": "name 'plot_circuit' is not defined",
         "output_type": "error",
         "traceback": [
          "\u001b[0;31m---------------------------------------------------------------------------\u001b[0m",
          "\u001b[0;31mNameError\u001b[0m                                 Traceback (most recent call last)",
          "File \u001b[0;32m~/.local/lib/python3.9/site-packages/ipywidgets/widgets/interaction.py:240\u001b[0m, in \u001b[0;36minteractive.update\u001b[0;34m(self, *args)\u001b[0m\n\u001b[1;32m    238\u001b[0m     value \u001b[38;5;241m=\u001b[39m widget\u001b[38;5;241m.\u001b[39mget_interact_value()\n\u001b[1;32m    239\u001b[0m     \u001b[38;5;28mself\u001b[39m\u001b[38;5;241m.\u001b[39mkwargs[widget\u001b[38;5;241m.\u001b[39m_kwarg] \u001b[38;5;241m=\u001b[39m value\n\u001b[0;32m--> 240\u001b[0m \u001b[38;5;28mself\u001b[39m\u001b[38;5;241m.\u001b[39mresult \u001b[38;5;241m=\u001b[39m \u001b[38;5;28;43mself\u001b[39;49m\u001b[38;5;241;43m.\u001b[39;49m\u001b[43mf\u001b[49m\u001b[43m(\u001b[49m\u001b[38;5;241;43m*\u001b[39;49m\u001b[38;5;241;43m*\u001b[39;49m\u001b[38;5;28;43mself\u001b[39;49m\u001b[38;5;241;43m.\u001b[39;49m\u001b[43mkwargs\u001b[49m\u001b[43m)\u001b[49m\n\u001b[1;32m    241\u001b[0m show_inline_matplotlib_plots()\n\u001b[1;32m    242\u001b[0m \u001b[38;5;28;01mif\u001b[39;00m \u001b[38;5;28mself\u001b[39m\u001b[38;5;241m.\u001b[39mauto_display \u001b[38;5;129;01mand\u001b[39;00m \u001b[38;5;28mself\u001b[39m\u001b[38;5;241m.\u001b[39mresult \u001b[38;5;129;01mis\u001b[39;00m \u001b[38;5;129;01mnot\u001b[39;00m \u001b[38;5;28;01mNone\u001b[39;00m:\n",
          "Cell \u001b[0;32mIn[31], line 44\u001b[0m, in \u001b[0;36msolve_and_plot\u001b[0;34m(V0, C, L, R, duration_seconds)\u001b[0m\n\u001b[1;32m     42\u001b[0m \u001b[38;5;28;01mglobal\u001b[39;00m circuit_solution\n\u001b[1;32m     43\u001b[0m circuit_solution \u001b[38;5;241m=\u001b[39m run_sim(V0, C, L, R, duration_seconds)\n\u001b[0;32m---> 44\u001b[0m \u001b[43mplot_circuit\u001b[49m(circuit_solution)\n",
          "\u001b[0;31mNameError\u001b[0m: name 'plot_circuit' is not defined"
         ]
        }
       ]
      }
     },
     "2acdd7968f0a4d38ac3f2dd3537c6910": {
      "model_module": "@jupyter-widgets/controls",
      "model_module_version": "2.0.0",
      "model_name": "FloatLogSliderModel",
      "state": {
       "behavior": "drag-tap",
       "description": "Duration",
       "layout": "IPY_MODEL_f27d7699a4e1491aa5f99d58b7c6eacb",
       "max": 2,
       "min": -3,
       "style": "IPY_MODEL_86cf07a5837547f382788de4d276cad3"
      }
     },
     "2beaaf20fed740abb41e6d1ad63d9ae3": {
      "model_module": "@jupyter-widgets/controls",
      "model_module_version": "2.0.0",
      "model_name": "FloatSliderModel",
      "state": {
       "behavior": "drag-tap",
       "description": "V0",
       "layout": "IPY_MODEL_92eab091caa642be8086223814b833ab",
       "max": 450,
       "style": "IPY_MODEL_afdeb585ea3d42008bfa6021fa3e2b0e",
       "value": 100
      }
     },
     "2d3c0dd0b63f4007b8675725923e77fe": {
      "model_module": "@jupyter-widgets/controls",
      "model_module_version": "2.0.0",
      "model_name": "FloatSliderModel",
      "state": {
       "behavior": "drag-tap",
       "description": "R",
       "layout": "IPY_MODEL_06df0eba03c0446d81d82359d256a40a",
       "max": 10,
       "min": 0.1,
       "step": 0.1,
       "style": "IPY_MODEL_1dda389749e04760a84f274feeaae4a0",
       "value": 1.0000000000000002
      }
     },
     "2e9971d5a7d34e558fb78d3db85cfb5c": {
      "model_module": "@jupyter-widgets/base",
      "model_module_version": "2.0.0",
      "model_name": "LayoutModel",
      "state": {}
     },
     "2ec8d1c4bcd34181ba2435d591180d4b": {
      "model_module": "@jupyter-widgets/controls",
      "model_module_version": "2.0.0",
      "model_name": "FloatSliderModel",
      "state": {
       "behavior": "drag-tap",
       "description": "L",
       "layout": "IPY_MODEL_dec177a2aded4d70801c3fe312c3d2f5",
       "max": 1,
       "min": 0.001,
       "step": 0.001,
       "style": "IPY_MODEL_54e0e05ddabe4154a552bb1b66214881",
       "value": 0.1
      }
     },
     "30ab6132dbdd4e0bad79258a747d3a60": {
      "model_module": "@jupyter-widgets/controls",
      "model_module_version": "2.0.0",
      "model_name": "SliderStyleModel",
      "state": {
       "description_width": ""
      }
     },
     "311c0eea317e4aedb4dc301eaa032752": {
      "model_module": "@jupyter-widgets/controls",
      "model_module_version": "2.0.0",
      "model_name": "FloatSliderModel",
      "state": {
       "behavior": "drag-tap",
       "description": "L",
       "layout": "IPY_MODEL_58ea795fbc1444e1a5eb808166407831",
       "max": 1,
       "min": 0.001,
       "step": 0.001,
       "style": "IPY_MODEL_a27a2af7b2e24cbca87961f890830694",
       "value": 0.1
      }
     },
     "3161b2fb61cd4f5eb2e9bbbfcecd0989": {
      "model_module": "@jupyter-widgets/controls",
      "model_module_version": "2.0.0",
      "model_name": "FloatSliderModel",
      "state": {
       "behavior": "drag-tap",
       "description": "L",
       "layout": "IPY_MODEL_364a6cebbd6143808e9f3ec95295078d",
       "max": 1,
       "min": 0.001,
       "step": 0.001,
       "style": "IPY_MODEL_b75254ac1c754d6e9e9f5037f646e866",
       "value": 0.1
      }
     },
     "323fa7adb7774f4f92fdbbb01c0ecc0d": {
      "model_module": "@jupyter-widgets/controls",
      "model_module_version": "2.0.0",
      "model_name": "FloatSliderModel",
      "state": {
       "behavior": "drag-tap",
       "description": "L",
       "layout": "IPY_MODEL_7930275212f040b9a2df8c0360de5de6",
       "max": 1,
       "min": 0.001,
       "step": 0.001,
       "style": "IPY_MODEL_9099272ab3cd456fb6c8b289a9733d6f",
       "value": 0.1
      }
     },
     "327618eb61ae4578abe8819a7b2aebeb": {
      "model_module": "@jupyter-widgets/base",
      "model_module_version": "2.0.0",
      "model_name": "LayoutModel",
      "state": {}
     },
     "330612019d524577bc91d0802b041387": {
      "model_module": "@jupyter-widgets/base",
      "model_module_version": "2.0.0",
      "model_name": "LayoutModel",
      "state": {}
     },
     "3331f8c697674750a96cadd1f2f1f626": {
      "model_module": "@jupyter-widgets/controls",
      "model_module_version": "2.0.0",
      "model_name": "SliderStyleModel",
      "state": {
       "description_width": ""
      }
     },
     "333c7a3e37254845843666b15701d4f6": {
      "model_module": "@jupyter-widgets/base",
      "model_module_version": "2.0.0",
      "model_name": "LayoutModel",
      "state": {}
     },
     "357aef7ac08f46678363a583ec8c3ef8": {
      "model_module": "@jupyter-widgets/base",
      "model_module_version": "2.0.0",
      "model_name": "LayoutModel",
      "state": {}
     },
     "357dfcec684f4ff28f0715d805585a8d": {
      "model_module": "@jupyter-widgets/controls",
      "model_module_version": "2.0.0",
      "model_name": "VBoxModel",
      "state": {
       "_dom_classes": [
        "widget-interact"
       ],
       "children": [
        "IPY_MODEL_f15aa19411bf427b92a87770134dfcfb",
        "IPY_MODEL_1b84408619a94346977e84505632568e",
        "IPY_MODEL_a38c6202cce44493a80629c6e6422b6e",
        "IPY_MODEL_71a05e29e07544b8a1efe87ca62c6a47",
        "IPY_MODEL_15b3eaf10b234e2fb492871c74807290",
        "IPY_MODEL_a366b2a2724c4fed8f405319773cb6cd"
       ],
       "layout": "IPY_MODEL_c0ef0765ff2847208e3a9e76a23dfdc7"
      }
     },
     "35f80397b3194bb0a7232ec67e678d82": {
      "model_module": "@jupyter-widgets/controls",
      "model_module_version": "2.0.0",
      "model_name": "SliderStyleModel",
      "state": {
       "description_width": ""
      }
     },
     "364a6cebbd6143808e9f3ec95295078d": {
      "model_module": "@jupyter-widgets/base",
      "model_module_version": "2.0.0",
      "model_name": "LayoutModel",
      "state": {}
     },
     "36ecb9f3332f4357b4443977a8eac311": {
      "model_module": "@jupyter-widgets/base",
      "model_module_version": "2.0.0",
      "model_name": "LayoutModel",
      "state": {}
     },
     "378bed5718bf474aac039954063674d2": {
      "model_module": "@jupyter-widgets/base",
      "model_module_version": "2.0.0",
      "model_name": "LayoutModel",
      "state": {}
     },
     "378d89ec7190423a96ac2c60e1799a55": {
      "model_module": "@jupyter-widgets/controls",
      "model_module_version": "2.0.0",
      "model_name": "SliderStyleModel",
      "state": {
       "description_width": ""
      }
     },
     "385f840c09c440fca69e26922070e8f7": {
      "model_module": "@jupyter-widgets/base",
      "model_module_version": "2.0.0",
      "model_name": "LayoutModel",
      "state": {}
     },
     "3a7e69f13c154c2caaef41d3c69a1f78": {
      "model_module": "@jupyter-widgets/base",
      "model_module_version": "2.0.0",
      "model_name": "LayoutModel",
      "state": {}
     },
     "3adb751d718044ed8cd9cdfe3540e6d9": {
      "model_module": "@jupyter-widgets/controls",
      "model_module_version": "2.0.0",
      "model_name": "FloatLogSliderModel",
      "state": {
       "behavior": "drag-tap",
       "description": "Duration",
       "layout": "IPY_MODEL_a340f119cdfa4895be766efaa74fb125",
       "max": 2,
       "min": -3,
       "style": "IPY_MODEL_54646b129c0b4e6c8090c9b68d722baa"
      }
     },
     "3b2e978a87ee41b7af975239a34432e4": {
      "model_module": "@jupyter-widgets/controls",
      "model_module_version": "2.0.0",
      "model_name": "SliderStyleModel",
      "state": {
       "description_width": ""
      }
     },
     "3b374493e6024f20849a21e4f2338e07": {
      "model_module": "@jupyter-widgets/controls",
      "model_module_version": "2.0.0",
      "model_name": "SliderStyleModel",
      "state": {
       "description_width": ""
      }
     },
     "3bf478d0fe2145cfbfec8212a80257c6": {
      "model_module": "@jupyter-widgets/controls",
      "model_module_version": "2.0.0",
      "model_name": "FloatSliderModel",
      "state": {
       "behavior": "drag-tap",
       "description": "V0",
       "layout": "IPY_MODEL_d59a737401384d4ab971f3976f7b2380",
       "max": 450,
       "style": "IPY_MODEL_4a99cbddc3744fa58eff0328925fa1f7",
       "value": 100
      }
     },
     "3ccc2bcdeba649dcb4e499c1c63e3d13": {
      "model_module": "@jupyter-widgets/controls",
      "model_module_version": "2.0.0",
      "model_name": "SliderStyleModel",
      "state": {
       "description_width": ""
      }
     },
     "3d030b4e262449fe83a7b244261e23e0": {
      "model_module": "@jupyter-widgets/base",
      "model_module_version": "2.0.0",
      "model_name": "LayoutModel",
      "state": {}
     },
     "3da4c3771ac240e8a5be7323c9fbde87": {
      "model_module": "@jupyter-widgets/base",
      "model_module_version": "2.0.0",
      "model_name": "LayoutModel",
      "state": {}
     },
     "3dc42c6ae41d455482d0fc075d4089bf": {
      "model_module": "@jupyter-widgets/base",
      "model_module_version": "2.0.0",
      "model_name": "LayoutModel",
      "state": {}
     },
     "3dda741c5d2f4e4abb0ac2d06ca2dfca": {
      "model_module": "@jupyter-widgets/base",
      "model_module_version": "2.0.0",
      "model_name": "LayoutModel",
      "state": {}
     },
     "3e0dbce0de6b44c6ade59fb3adb2583c": {
      "model_module": "@jupyter-widgets/base",
      "model_module_version": "2.0.0",
      "model_name": "LayoutModel",
      "state": {}
     },
     "3e576ab98d2749068fbabe5eea91d968": {
      "model_module": "@jupyter-widgets/base",
      "model_module_version": "2.0.0",
      "model_name": "LayoutModel",
      "state": {}
     },
     "3e94271ebac84937885cb5e55a517580": {
      "model_module": "@jupyter-widgets/output",
      "model_module_version": "1.0.0",
      "model_name": "OutputModel",
      "state": {
       "layout": "IPY_MODEL_1dfd1f420bff4647bd331cb2c4ab955b",
       "outputs": [
        {
         "data": {
          "image/png": "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",
          "text/plain": "<Figure size 800x400 with 1 Axes>"
         },
         "metadata": {},
         "output_type": "display_data"
        },
        {
         "data": {
          "text/plain": "  message: The solver successfully reached the end of the integration interval.\n  success: True\n   status: 0\n        t: [ 0.000e+00  1.000e-06 ...  1.000e+00  1.000e+00]\n        y: [[-1.000e+02 -1.000e+02 ... -6.366e-01 -6.366e-01]\n            [ 0.000e+00  1.000e-03 ... -3.966e-02 -3.965e-02]\n            [ 0.000e+00  1.079e-11 ...  1.611e+03  1.611e+03]]\n      sol: None\n t_events: None\n y_events: None\n     nfev: 266\n     njev: 0\n      nlu: 0"
         },
         "metadata": {},
         "output_type": "display_data"
        }
       ]
      }
     },
     "3f4ff932c18648bab92257897e6a65ed": {
      "model_module": "@jupyter-widgets/controls",
      "model_module_version": "2.0.0",
      "model_name": "FloatSliderModel",
      "state": {
       "behavior": "drag-tap",
       "description": "R",
       "layout": "IPY_MODEL_385f840c09c440fca69e26922070e8f7",
       "max": 10,
       "min": 0.1,
       "step": 0.1,
       "style": "IPY_MODEL_03ec190722554790a9a4b32e50af577f",
       "value": 1.0000000000000002
      }
     },
     "3f7a02370ee94fcfb9494bb8e995df23": {
      "model_module": "@jupyter-widgets/controls",
      "model_module_version": "2.0.0",
      "model_name": "FloatSliderModel",
      "state": {
       "behavior": "drag-tap",
       "description": "V0",
       "layout": "IPY_MODEL_03a01235faa147d9983039f77e06fe92",
       "max": 450,
       "style": "IPY_MODEL_c1cd6ccf9ad44b6298fae75bbba4e4c9",
       "value": 100
      }
     },
     "413b2903212445b48d3d6ca7d8ec1c63": {
      "model_module": "@jupyter-widgets/base",
      "model_module_version": "2.0.0",
      "model_name": "LayoutModel",
      "state": {}
     },
     "41b452ec3ebb4826955437461bd40561": {
      "model_module": "@jupyter-widgets/base",
      "model_module_version": "2.0.0",
      "model_name": "LayoutModel",
      "state": {}
     },
     "426d22230b1d4c85a35125336e8d81bc": {
      "model_module": "@jupyter-widgets/base",
      "model_module_version": "2.0.0",
      "model_name": "LayoutModel",
      "state": {}
     },
     "4291105dbbca44a29eaef8d77b99122b": {
      "model_module": "@jupyter-widgets/controls",
      "model_module_version": "2.0.0",
      "model_name": "FloatLogSliderModel",
      "state": {
       "behavior": "drag-tap",
       "description": "Duration",
       "layout": "IPY_MODEL_25d618326457435fac7bc7943c356593",
       "max": 2,
       "min": -3,
       "style": "IPY_MODEL_dcc01a598a9744458df86ecdf4aa2d29"
      }
     },
     "4337c7189c7046768d1da980aaef8b02": {
      "model_module": "@jupyter-widgets/controls",
      "model_module_version": "2.0.0",
      "model_name": "FloatLogSliderModel",
      "state": {
       "behavior": "drag-tap",
       "description": "C",
       "layout": "IPY_MODEL_e3a23b23149b46b08e41f5f787470401",
       "max": 2,
       "min": -6,
       "style": "IPY_MODEL_3b2e978a87ee41b7af975239a34432e4",
       "value": 0.01
      }
     },
     "43a9834b97594adbb59c2b30789c0cd1": {
      "model_module": "@jupyter-widgets/controls",
      "model_module_version": "2.0.0",
      "model_name": "FloatLogSliderModel",
      "state": {
       "behavior": "drag-tap",
       "description": "C",
       "layout": "IPY_MODEL_853e2508f6cc42638d41e0fe51f4d26c",
       "max": 2,
       "min": -6,
       "style": "IPY_MODEL_3331f8c697674750a96cadd1f2f1f626",
       "value": 0.01
      }
     },
     "444bd0ce43104227b5e1a89a25593bc2": {
      "model_module": "@jupyter-widgets/controls",
      "model_module_version": "2.0.0",
      "model_name": "SliderStyleModel",
      "state": {
       "description_width": ""
      }
     },
     "44731c4abbff473a91822666805f885b": {
      "model_module": "@jupyter-widgets/controls",
      "model_module_version": "2.0.0",
      "model_name": "SliderStyleModel",
      "state": {
       "description_width": ""
      }
     },
     "4576938a8cad4a25882daadaafaa60dc": {
      "model_module": "@jupyter-widgets/controls",
      "model_module_version": "2.0.0",
      "model_name": "FloatLogSliderModel",
      "state": {
       "behavior": "drag-tap",
       "description": "C",
       "layout": "IPY_MODEL_625740e5a8144fc595c0ad3e172e9600",
       "max": 2,
       "min": -6,
       "style": "IPY_MODEL_c5881e10e2f74304a7bfcf6d2f51e001",
       "value": 0.01
      }
     },
     "45868551a7e84eed969247d2045166a4": {
      "model_module": "@jupyter-widgets/base",
      "model_module_version": "2.0.0",
      "model_name": "LayoutModel",
      "state": {}
     },
     "4660fe94da554049a8756241caecca5b": {
      "model_module": "@jupyter-widgets/base",
      "model_module_version": "2.0.0",
      "model_name": "LayoutModel",
      "state": {}
     },
     "470f118273e34611b6df8616f8877a03": {
      "model_module": "@jupyter-widgets/controls",
      "model_module_version": "2.0.0",
      "model_name": "FloatSliderModel",
      "state": {
       "behavior": "drag-tap",
       "description": "L",
       "layout": "IPY_MODEL_d88e7863896b4982b2f2449a69770e6d",
       "max": 1,
       "min": 0.001,
       "step": 0.001,
       "style": "IPY_MODEL_cbc3727bbbe2489eb94ad3fd10ec27d7",
       "value": 0.1
      }
     },
     "472d798fdf6c4969829b010512ffc0e3": {
      "model_module": "@jupyter-widgets/base",
      "model_module_version": "2.0.0",
      "model_name": "LayoutModel",
      "state": {}
     },
     "4799105f1e1f466691bc29a463871a36": {
      "model_module": "@jupyter-widgets/base",
      "model_module_version": "2.0.0",
      "model_name": "LayoutModel",
      "state": {}
     },
     "48dfd9fecc5040dfae0a7612ab3aa67b": {
      "model_module": "@jupyter-widgets/controls",
      "model_module_version": "2.0.0",
      "model_name": "FloatSliderModel",
      "state": {
       "behavior": "drag-tap",
       "description": "L",
       "layout": "IPY_MODEL_378bed5718bf474aac039954063674d2",
       "max": 1,
       "min": 0.001,
       "step": 0.001,
       "style": "IPY_MODEL_72589b8d0ad94aec9002ac5e957c7e17",
       "value": 0.1
      }
     },
     "4a25d40fd57a4608a2b5bfe2c7397c41": {
      "model_module": "@jupyter-widgets/controls",
      "model_module_version": "2.0.0",
      "model_name": "FloatSliderModel",
      "state": {
       "behavior": "drag-tap",
       "description": "L",
       "layout": "IPY_MODEL_4799105f1e1f466691bc29a463871a36",
       "max": 1,
       "min": 0.001,
       "step": 0.001,
       "style": "IPY_MODEL_f303f005d80f4d40879d64ac1849dd67",
       "value": 0.1
      }
     },
     "4a7c7dbfbd204dfa9c553a18141b54cd": {
      "model_module": "@jupyter-widgets/controls",
      "model_module_version": "2.0.0",
      "model_name": "SliderStyleModel",
      "state": {
       "description_width": ""
      }
     },
     "4a99cbddc3744fa58eff0328925fa1f7": {
      "model_module": "@jupyter-widgets/controls",
      "model_module_version": "2.0.0",
      "model_name": "SliderStyleModel",
      "state": {
       "description_width": ""
      }
     },
     "4af10a0f67fa44e88c6d2905d09243be": {
      "model_module": "@jupyter-widgets/controls",
      "model_module_version": "2.0.0",
      "model_name": "SliderStyleModel",
      "state": {
       "description_width": ""
      }
     },
     "4b1babee1ca64220a6be58bb95379cca": {
      "model_module": "@jupyter-widgets/controls",
      "model_module_version": "2.0.0",
      "model_name": "SliderStyleModel",
      "state": {
       "description_width": ""
      }
     },
     "4cbf3b30fa8c473d920ac35380f01a9b": {
      "model_module": "@jupyter-widgets/controls",
      "model_module_version": "2.0.0",
      "model_name": "FloatSliderModel",
      "state": {
       "behavior": "drag-tap",
       "description": "L",
       "layout": "IPY_MODEL_2955ae6a1d1645e8a57fcf14d428a389",
       "max": 1,
       "min": 0.001,
       "step": 0.001,
       "style": "IPY_MODEL_4a7c7dbfbd204dfa9c553a18141b54cd",
       "value": 0.1
      }
     },
     "4d004c02d09a42f2b5d2e649603d4507": {
      "model_module": "@jupyter-widgets/controls",
      "model_module_version": "2.0.0",
      "model_name": "FloatSliderModel",
      "state": {
       "behavior": "drag-tap",
       "description": "V0",
       "layout": "IPY_MODEL_ddd0b4748f3a4f60bf4390616056883d",
       "max": 450,
       "style": "IPY_MODEL_84d9e126d8e1400a9df9eb900f915f09",
       "value": 100
      }
     },
     "4d548aa1c873440ea081aced62674ea2": {
      "model_module": "@jupyter-widgets/controls",
      "model_module_version": "2.0.0",
      "model_name": "SliderStyleModel",
      "state": {
       "description_width": ""
      }
     },
     "4da1bbb5d97f400c9bd01fd7bfeb9f5b": {
      "model_module": "@jupyter-widgets/base",
      "model_module_version": "2.0.0",
      "model_name": "LayoutModel",
      "state": {}
     },
     "4eb5604c9ff549d2be43ff470226a0e3": {
      "model_module": "@jupyter-widgets/base",
      "model_module_version": "2.0.0",
      "model_name": "LayoutModel",
      "state": {}
     },
     "4ec394ed905f4594a75d59f0b818e1b4": {
      "model_module": "@jupyter-widgets/base",
      "model_module_version": "2.0.0",
      "model_name": "LayoutModel",
      "state": {}
     },
     "4fc4daaa851c472ba1dddcb6eccc2ec1": {
      "model_module": "@jupyter-widgets/controls",
      "model_module_version": "2.0.0",
      "model_name": "SliderStyleModel",
      "state": {
       "description_width": ""
      }
     },
     "4fcb352d4cd0422e9b1e7b4c742df429": {
      "model_module": "@jupyter-widgets/base",
      "model_module_version": "2.0.0",
      "model_name": "LayoutModel",
      "state": {}
     },
     "4fcd02988dde4a53bf753294cf4d456a": {
      "model_module": "@jupyter-widgets/controls",
      "model_module_version": "2.0.0",
      "model_name": "SliderStyleModel",
      "state": {
       "description_width": ""
      }
     },
     "4fcf54b76efc4fc1b7bfc4e83743be92": {
      "model_module": "@jupyter-widgets/controls",
      "model_module_version": "2.0.0",
      "model_name": "SliderStyleModel",
      "state": {
       "description_width": ""
      }
     },
     "4fdb284d5ce34e87a1dbd1f301a70086": {
      "model_module": "@jupyter-widgets/controls",
      "model_module_version": "2.0.0",
      "model_name": "FloatSliderModel",
      "state": {
       "behavior": "drag-tap",
       "description": "L",
       "layout": "IPY_MODEL_c27761d9e0654478adbecf6d3e70b1c8",
       "max": 1,
       "min": 0.001,
       "step": 0.001,
       "style": "IPY_MODEL_56cbc7e322b142a7b41e5762b0695659",
       "value": 0.1
      }
     },
     "5006843612434096a70037ca2269de3c": {
      "model_module": "@jupyter-widgets/controls",
      "model_module_version": "2.0.0",
      "model_name": "FloatLogSliderModel",
      "state": {
       "behavior": "drag-tap",
       "description": "C",
       "layout": "IPY_MODEL_5188967dc24b4d268d34dc929810ee51",
       "max": 2,
       "min": -6,
       "style": "IPY_MODEL_94c0fa9e7768439681fd9067c70b1c74",
       "value": 0.01
      }
     },
     "5142ca6c0e384572a887e46958c67966": {
      "model_module": "@jupyter-widgets/controls",
      "model_module_version": "2.0.0",
      "model_name": "SliderStyleModel",
      "state": {
       "description_width": ""
      }
     },
     "5159677ffe7c487a9f860d625a579238": {
      "model_module": "@jupyter-widgets/output",
      "model_module_version": "1.0.0",
      "model_name": "OutputModel",
      "state": {
       "layout": "IPY_MODEL_10f1cff045ea430988ee8e752e8d0a37",
       "outputs": [
        {
         "data": {
          "image/png": "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",
          "text/plain": "<Figure size 800x400 with 1 Axes>"
         },
         "metadata": {},
         "output_type": "display_data"
        }
       ]
      }
     },
     "5188967dc24b4d268d34dc929810ee51": {
      "model_module": "@jupyter-widgets/base",
      "model_module_version": "2.0.0",
      "model_name": "LayoutModel",
      "state": {}
     },
     "518a7a6c7ba64924a7e5cd0a9994ad20": {
      "model_module": "@jupyter-widgets/controls",
      "model_module_version": "2.0.0",
      "model_name": "FloatLogSliderModel",
      "state": {
       "behavior": "drag-tap",
       "description": "C",
       "layout": "IPY_MODEL_21713fe445f3475c98d4393b4fc55e17",
       "max": 2,
       "min": -6,
       "style": "IPY_MODEL_7072f5b2d3ac403d928769848bf97c62",
       "value": 0.01
      }
     },
     "535d09bc405f41b8a79e165fdfe9e50d": {
      "model_module": "@jupyter-widgets/controls",
      "model_module_version": "2.0.0",
      "model_name": "SliderStyleModel",
      "state": {
       "description_width": ""
      }
     },
     "53ba7394c7d04a2381049f2700a3d677": {
      "model_module": "@jupyter-widgets/base",
      "model_module_version": "2.0.0",
      "model_name": "LayoutModel",
      "state": {}
     },
     "54646b129c0b4e6c8090c9b68d722baa": {
      "model_module": "@jupyter-widgets/controls",
      "model_module_version": "2.0.0",
      "model_name": "SliderStyleModel",
      "state": {
       "description_width": ""
      }
     },
     "54e0e05ddabe4154a552bb1b66214881": {
      "model_module": "@jupyter-widgets/controls",
      "model_module_version": "2.0.0",
      "model_name": "SliderStyleModel",
      "state": {
       "description_width": ""
      }
     },
     "54f2f912492344c0834a7534f70d89a6": {
      "model_module": "@jupyter-widgets/controls",
      "model_module_version": "2.0.0",
      "model_name": "SliderStyleModel",
      "state": {
       "description_width": ""
      }
     },
     "5677faed0dbf4e1a8e7170c7b86cd395": {
      "model_module": "@jupyter-widgets/base",
      "model_module_version": "2.0.0",
      "model_name": "LayoutModel",
      "state": {}
     },
     "56ab10b5abd6448abc8ceaf66d6c390a": {
      "model_module": "@jupyter-widgets/controls",
      "model_module_version": "2.0.0",
      "model_name": "FloatSliderModel",
      "state": {
       "behavior": "drag-tap",
       "description": "L",
       "layout": "IPY_MODEL_5ec9bd52401a4eeba96981dec114408a",
       "max": 1,
       "min": 0.001,
       "step": 0.001,
       "style": "IPY_MODEL_dd65f110bdb84f9686594c3d8f555de7",
       "value": 0.1
      }
     },
     "56cbc7e322b142a7b41e5762b0695659": {
      "model_module": "@jupyter-widgets/controls",
      "model_module_version": "2.0.0",
      "model_name": "SliderStyleModel",
      "state": {
       "description_width": ""
      }
     },
     "5730c97a0be645c3ad268162e45f831b": {
      "model_module": "@jupyter-widgets/controls",
      "model_module_version": "2.0.0",
      "model_name": "SliderStyleModel",
      "state": {
       "description_width": ""
      }
     },
     "5788a91c0ece4dafbcfad16eebe540e6": {
      "model_module": "@jupyter-widgets/controls",
      "model_module_version": "2.0.0",
      "model_name": "FloatSliderModel",
      "state": {
       "behavior": "drag-tap",
       "description": "R",
       "layout": "IPY_MODEL_d6618f596a3d44c2ab63621862e4830b",
       "max": 10,
       "min": 0.1,
       "step": 0.1,
       "style": "IPY_MODEL_ccb9b260647346ea821db4db5105c752",
       "value": 1.0000000000000002
      }
     },
     "57c34af4b3f649bea3ec9075e3da6944": {
      "model_module": "@jupyter-widgets/base",
      "model_module_version": "2.0.0",
      "model_name": "LayoutModel",
      "state": {}
     },
     "5848def596ee444692d831f6ef37a5fb": {
      "model_module": "@jupyter-widgets/controls",
      "model_module_version": "2.0.0",
      "model_name": "FloatSliderModel",
      "state": {
       "behavior": "drag-tap",
       "description": "R",
       "layout": "IPY_MODEL_7bfaef6441c94a6ba79b934780b8854f",
       "max": 10,
       "min": 0.1,
       "step": 0.1,
       "style": "IPY_MODEL_7f5caf916fe04d32be6894efa4687d46",
       "value": 1
      }
     },
     "5859805db6514176b6a760284e52d88c": {
      "model_module": "@jupyter-widgets/controls",
      "model_module_version": "2.0.0",
      "model_name": "SliderStyleModel",
      "state": {
       "description_width": ""
      }
     },
     "587140c9adf549f787c8f9f1ba66a175": {
      "model_module": "@jupyter-widgets/controls",
      "model_module_version": "2.0.0",
      "model_name": "FloatLogSliderModel",
      "state": {
       "behavior": "drag-tap",
       "description": "Duration",
       "layout": "IPY_MODEL_284f43ce554f4e39afdca16b13e43eb5",
       "max": 2,
       "min": -3,
       "style": "IPY_MODEL_de0c45a454744c229aadd8c73a225517"
      }
     },
     "5880dabce19f4d2e9b9125a373563d19": {
      "model_module": "@jupyter-widgets/controls",
      "model_module_version": "2.0.0",
      "model_name": "VBoxModel",
      "state": {
       "_dom_classes": [
        "widget-interact"
       ],
       "children": [
        "IPY_MODEL_24a476382f27400e995ef806221566c2",
        "IPY_MODEL_4576938a8cad4a25882daadaafaa60dc",
        "IPY_MODEL_323fa7adb7774f4f92fdbbb01c0ecc0d",
        "IPY_MODEL_1e5eeed73cb94e018102307c217e70d4",
        "IPY_MODEL_e42a955fcda64487859be2a1755441cf",
        "IPY_MODEL_ae66c8c70b2d49498de5697a3139a922"
       ],
       "layout": "IPY_MODEL_e9693978e5bc41e482ada82bc5a77089"
      }
     },
     "589d8ebce62443018d81b691344e1dc6": {
      "model_module": "@jupyter-widgets/base",
      "model_module_version": "2.0.0",
      "model_name": "LayoutModel",
      "state": {}
     },
     "58da0ec993eb48db92350d57f3279432": {
      "model_module": "@jupyter-widgets/controls",
      "model_module_version": "2.0.0",
      "model_name": "FloatSliderModel",
      "state": {
       "behavior": "drag-tap",
       "description": "R",
       "layout": "IPY_MODEL_d150c718a8374afbb7746dacd5b28b50",
       "max": 10,
       "min": 0.1,
       "step": 0.1,
       "style": "IPY_MODEL_be578468a7f84e9989da95631a8758c9",
       "value": 1.0000000000000002
      }
     },
     "58ea795fbc1444e1a5eb808166407831": {
      "model_module": "@jupyter-widgets/base",
      "model_module_version": "2.0.0",
      "model_name": "LayoutModel",
      "state": {}
     },
     "5907ca128b6d49978498dc2b282f2cf4": {
      "model_module": "@jupyter-widgets/base",
      "model_module_version": "2.0.0",
      "model_name": "LayoutModel",
      "state": {}
     },
     "591e9b022e1845149b2dee7d16777be5": {
      "model_module": "@jupyter-widgets/controls",
      "model_module_version": "2.0.0",
      "model_name": "FloatLogSliderModel",
      "state": {
       "behavior": "drag-tap",
       "description": "Duration",
       "layout": "IPY_MODEL_b4c5fa78863e44dc82b3a8f706fce6d1",
       "max": 2,
       "min": -3,
       "style": "IPY_MODEL_b6031e23fa074a1cb1294033369f65fc"
      }
     },
     "5bd436329b344a14a21481d2d7689aa1": {
      "model_module": "@jupyter-widgets/controls",
      "model_module_version": "2.0.0",
      "model_name": "SliderStyleModel",
      "state": {
       "description_width": ""
      }
     },
     "5db844c5a7ce4fb19ac1df8c8650fda2": {
      "model_module": "@jupyter-widgets/base",
      "model_module_version": "2.0.0",
      "model_name": "LayoutModel",
      "state": {}
     },
     "5e26cc46fa3a405a8b0141b13041306f": {
      "model_module": "@jupyter-widgets/controls",
      "model_module_version": "2.0.0",
      "model_name": "VBoxModel",
      "state": {
       "_dom_classes": [
        "widget-interact"
       ],
       "children": [
        "IPY_MODEL_c29313e23abc454da6dd32aa105bc4d7",
        "IPY_MODEL_75359486bafb429f801f2e281c07ee65",
        "IPY_MODEL_470f118273e34611b6df8616f8877a03",
        "IPY_MODEL_5788a91c0ece4dafbcfad16eebe540e6",
        "IPY_MODEL_f4d8646a0f4e4e0991d02bc2efc0352e",
        "IPY_MODEL_5e5b9eaae85f485b885865ba55e43a8f"
       ],
       "layout": "IPY_MODEL_fb352471a5e848ad9ba0e066a8846c2e"
      }
     },
     "5e5b9eaae85f485b885865ba55e43a8f": {
      "model_module": "@jupyter-widgets/output",
      "model_module_version": "1.0.0",
      "model_name": "OutputModel",
      "state": {
       "layout": "IPY_MODEL_dc7dbd24d9ca4151a59658efd00ea576",
       "outputs": [
        {
         "data": {
          "image/png": "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",
          "text/plain": "<Figure size 800x400 with 1 Axes>"
         },
         "metadata": {},
         "output_type": "display_data"
        },
        {
         "data": {
          "text/plain": "  message: The solver successfully reached the end of the integration interval.\n  success: True\n   status: 0\n        t: [ 0.000e+00  1.000e-06 ...  1.000e+00  1.000e+00]\n        y: [[-1.000e+02 -1.000e+02 ... -6.366e-01 -6.366e-01]\n            [ 0.000e+00  1.000e-03 ... -3.966e-02 -3.965e-02]\n            [ 0.000e+00  1.079e-11 ...  1.611e+03  1.611e+03]]\n      sol: None\n t_events: None\n y_events: None\n     nfev: 266\n     njev: 0\n      nlu: 0"
         },
         "metadata": {},
         "output_type": "display_data"
        }
       ]
      }
     },
     "5ec9bd52401a4eeba96981dec114408a": {
      "model_module": "@jupyter-widgets/base",
      "model_module_version": "2.0.0",
      "model_name": "LayoutModel",
      "state": {}
     },
     "5efc73a31cda4a6497a04acd83897461": {
      "model_module": "@jupyter-widgets/controls",
      "model_module_version": "2.0.0",
      "model_name": "SliderStyleModel",
      "state": {
       "description_width": ""
      }
     },
     "5f8ffcb0a3874e1cbee9def9a3de5515": {
      "model_module": "@jupyter-widgets/controls",
      "model_module_version": "2.0.0",
      "model_name": "SliderStyleModel",
      "state": {
       "description_width": ""
      }
     },
     "5ffce6ef762a4648bbecbbd8ed121f5d": {
      "model_module": "@jupyter-widgets/base",
      "model_module_version": "2.0.0",
      "model_name": "LayoutModel",
      "state": {}
     },
     "6073ee2523174fceab89b56c3fcba1e3": {
      "model_module": "@jupyter-widgets/controls",
      "model_module_version": "2.0.0",
      "model_name": "VBoxModel",
      "state": {
       "_dom_classes": [
        "widget-interact"
       ],
       "children": [
        "IPY_MODEL_745e0e60acfa4584a19168c72b33a968",
        "IPY_MODEL_518a7a6c7ba64924a7e5cd0a9994ad20",
        "IPY_MODEL_f4f9b2240db541e6aa3c6185e72fdcf0",
        "IPY_MODEL_a2fd810ea1b04b2bac92f7e55425c223",
        "IPY_MODEL_95e09672c92d405aaa7db59ce8a339b6",
        "IPY_MODEL_cd40b77e8f4e412a83cd2a8095a4738b"
       ],
       "layout": "IPY_MODEL_6aee9f59b9a647d290612eca2b126396"
      }
     },
     "6096c8f5604c4773ac6a01ddf5e90d3f": {
      "model_module": "@jupyter-widgets/controls",
      "model_module_version": "2.0.0",
      "model_name": "SliderStyleModel",
      "state": {
       "description_width": ""
      }
     },
     "60d4604a87a143aa8aef9f98cae441c9": {
      "model_module": "@jupyter-widgets/base",
      "model_module_version": "2.0.0",
      "model_name": "LayoutModel",
      "state": {}
     },
     "625740e5a8144fc595c0ad3e172e9600": {
      "model_module": "@jupyter-widgets/base",
      "model_module_version": "2.0.0",
      "model_name": "LayoutModel",
      "state": {}
     },
     "63d16420afb94dc5b93f4062d6bf4e40": {
      "model_module": "@jupyter-widgets/controls",
      "model_module_version": "2.0.0",
      "model_name": "SliderStyleModel",
      "state": {
       "description_width": ""
      }
     },
     "6406eb13b0624016a7df492061829a91": {
      "model_module": "@jupyter-widgets/output",
      "model_module_version": "1.0.0",
      "model_name": "OutputModel",
      "state": {
       "layout": "IPY_MODEL_6ad9f8700daa4e60ade884dc7488f429",
       "outputs": [
        {
         "data": {
          "image/png": "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",
          "text/plain": "<Figure size 800x400 with 1 Axes>"
         },
         "metadata": {},
         "output_type": "display_data"
        }
       ]
      }
     },
     "6432602a50484effb1e6933f88c2f865": {
      "model_module": "@jupyter-widgets/controls",
      "model_module_version": "2.0.0",
      "model_name": "SliderStyleModel",
      "state": {
       "description_width": ""
      }
     },
     "648897965f7b4cf5a428aa757658908f": {
      "model_module": "@jupyter-widgets/controls",
      "model_module_version": "2.0.0",
      "model_name": "VBoxModel",
      "state": {
       "_dom_classes": [
        "widget-interact"
       ],
       "children": [
        "IPY_MODEL_9d932a38738e4b658de2555c2a5ab63e",
        "IPY_MODEL_e41968ad7c3c485f9dca21b8caff1009",
        "IPY_MODEL_981eb087e167421790e6c71b30b5dc72",
        "IPY_MODEL_3f4ff932c18648bab92257897e6a65ed",
        "IPY_MODEL_c9d786ccb75348068dd1ee103d362da4",
        "IPY_MODEL_f53ac42c2db64695beeb37e324dafde2"
       ],
       "layout": "IPY_MODEL_4ec394ed905f4594a75d59f0b818e1b4"
      }
     },
     "64bd6973b378467490df7daa9bd0982d": {
      "model_module": "@jupyter-widgets/base",
      "model_module_version": "2.0.0",
      "model_name": "LayoutModel",
      "state": {}
     },
     "6643d773f70f40cc89ae198f8d30a57b": {
      "model_module": "@jupyter-widgets/base",
      "model_module_version": "2.0.0",
      "model_name": "LayoutModel",
      "state": {}
     },
     "6648374a275546e881d558818df743c5": {
      "model_module": "@jupyter-widgets/controls",
      "model_module_version": "2.0.0",
      "model_name": "FloatSliderModel",
      "state": {
       "behavior": "drag-tap",
       "description": "V0",
       "layout": "IPY_MODEL_2e9971d5a7d34e558fb78d3db85cfb5c",
       "max": 450,
       "style": "IPY_MODEL_d7154fa012cc44e4b81be2fdbfd6e99a",
       "value": 100
      }
     },
     "6777ff32715742dea7ad0eb9db8c6bf4": {
      "model_module": "@jupyter-widgets/base",
      "model_module_version": "2.0.0",
      "model_name": "LayoutModel",
      "state": {}
     },
     "6830cd76640c41ebb3ea8d9c17df8744": {
      "model_module": "@jupyter-widgets/controls",
      "model_module_version": "2.0.0",
      "model_name": "FloatSliderModel",
      "state": {
       "behavior": "drag-tap",
       "description": "V0",
       "layout": "IPY_MODEL_15543440daea4a0ca13bd3574440a637",
       "max": 450,
       "style": "IPY_MODEL_63d16420afb94dc5b93f4062d6bf4e40",
       "value": 100
      }
     },
     "6ad9f8700daa4e60ade884dc7488f429": {
      "model_module": "@jupyter-widgets/base",
      "model_module_version": "2.0.0",
      "model_name": "LayoutModel",
      "state": {}
     },
     "6aee9f59b9a647d290612eca2b126396": {
      "model_module": "@jupyter-widgets/base",
      "model_module_version": "2.0.0",
      "model_name": "LayoutModel",
      "state": {}
     },
     "6c6fd203dd5f4167bd0f5b8a337dd9ce": {
      "model_module": "@jupyter-widgets/controls",
      "model_module_version": "2.0.0",
      "model_name": "SliderStyleModel",
      "state": {
       "description_width": ""
      }
     },
     "6cd9405a90214d55a64fe769a5febdcd": {
      "model_module": "@jupyter-widgets/controls",
      "model_module_version": "2.0.0",
      "model_name": "VBoxModel",
      "state": {
       "_dom_classes": [
        "widget-interact"
       ],
       "children": [
        "IPY_MODEL_98e65583dcb245508af2d78c81ed17fd",
        "IPY_MODEL_8ff88e486aa54407b700a78b0bfb640b",
        "IPY_MODEL_2ec8d1c4bcd34181ba2435d591180d4b",
        "IPY_MODEL_ed1b867c51894bf3add9a6473d38279e",
        "IPY_MODEL_591e9b022e1845149b2dee7d16777be5",
        "IPY_MODEL_e01a599a98e14e0eb117d3d6b92ddf68"
       ],
       "layout": "IPY_MODEL_5677faed0dbf4e1a8e7170c7b86cd395"
      }
     },
     "6decd0ccb1e94e429ddca58b87f9f561": {
      "model_module": "@jupyter-widgets/base",
      "model_module_version": "2.0.0",
      "model_name": "LayoutModel",
      "state": {}
     },
     "6e949b71451940f9839a7ba78f167100": {
      "model_module": "@jupyter-widgets/controls",
      "model_module_version": "2.0.0",
      "model_name": "VBoxModel",
      "state": {
       "_dom_classes": [
        "widget-interact"
       ],
       "children": [
        "IPY_MODEL_102b6e0b2c50443087967145e8700686",
        "IPY_MODEL_d609f860b2eb45ce9117e329c49b2be4",
        "IPY_MODEL_4a25d40fd57a4608a2b5bfe2c7397c41",
        "IPY_MODEL_f588444419aa4416b5e1afab8be99a12",
        "IPY_MODEL_d6643f97e9e34fe6baba3fc578d32f09",
        "IPY_MODEL_f15d83a4d3d746999dee36032bfb9727"
       ],
       "layout": "IPY_MODEL_b61b6981a5e6497e8706d9d78550c597"
      }
     },
     "6f03e9a98ff547daa78d6075c06167e2": {
      "model_module": "@jupyter-widgets/base",
      "model_module_version": "2.0.0",
      "model_name": "LayoutModel",
      "state": {}
     },
     "6f734feb79f8456f974d6e51c02de39b": {
      "model_module": "@jupyter-widgets/base",
      "model_module_version": "2.0.0",
      "model_name": "LayoutModel",
      "state": {}
     },
     "6f822845a03c41d8a977e2888d873be8": {
      "model_module": "@jupyter-widgets/base",
      "model_module_version": "2.0.0",
      "model_name": "LayoutModel",
      "state": {}
     },
     "6fe31ab65558450e84f923d21319da6c": {
      "model_module": "@jupyter-widgets/controls",
      "model_module_version": "2.0.0",
      "model_name": "SliderStyleModel",
      "state": {
       "description_width": ""
      }
     },
     "704c648747aa416fbb2c6ae10bdf81cb": {
      "model_module": "@jupyter-widgets/controls",
      "model_module_version": "2.0.0",
      "model_name": "VBoxModel",
      "state": {
       "_dom_classes": [
        "widget-interact"
       ],
       "children": [
        "IPY_MODEL_75d89fcbf361455bbe34483c3c142d13",
        "IPY_MODEL_2353a499dbf94d99a8d9310e00d45196",
        "IPY_MODEL_3161b2fb61cd4f5eb2e9bbbfcecd0989",
        "IPY_MODEL_2d3c0dd0b63f4007b8675725923e77fe",
        "IPY_MODEL_587140c9adf549f787c8f9f1ba66a175",
        "IPY_MODEL_c8c6f6865d9c43219e38f868a2c021f9"
       ],
       "layout": "IPY_MODEL_eff0546cbf2542fc9cea43214388d03d"
      }
     },
     "7072f5b2d3ac403d928769848bf97c62": {
      "model_module": "@jupyter-widgets/controls",
      "model_module_version": "2.0.0",
      "model_name": "SliderStyleModel",
      "state": {
       "description_width": ""
      }
     },
     "71a05e29e07544b8a1efe87ca62c6a47": {
      "model_module": "@jupyter-widgets/controls",
      "model_module_version": "2.0.0",
      "model_name": "FloatSliderModel",
      "state": {
       "behavior": "drag-tap",
       "description": "R",
       "layout": "IPY_MODEL_4660fe94da554049a8756241caecca5b",
       "max": 10,
       "min": 0.1,
       "step": 0.1,
       "style": "IPY_MODEL_dbc72d50157a4be0b6dfa0b489af91ea",
       "value": 1.0000000000000002
      }
     },
     "725161996961452087e80e5c7f9da91c": {
      "model_module": "@jupyter-widgets/base",
      "model_module_version": "2.0.0",
      "model_name": "LayoutModel",
      "state": {}
     },
     "72589b8d0ad94aec9002ac5e957c7e17": {
      "model_module": "@jupyter-widgets/controls",
      "model_module_version": "2.0.0",
      "model_name": "SliderStyleModel",
      "state": {
       "description_width": ""
      }
     },
     "741ea1fbc52a41b1b3229413615af906": {
      "model_module": "@jupyter-widgets/controls",
      "model_module_version": "2.0.0",
      "model_name": "FloatSliderModel",
      "state": {
       "behavior": "drag-tap",
       "description": "L",
       "layout": "IPY_MODEL_841a62d76a71421cbc8727c3ad8423a6",
       "max": 1,
       "min": 0.001,
       "step": 0.001,
       "style": "IPY_MODEL_d5ef8d71b4254c738c4a4c1ca4ea6765",
       "value": 0.1
      }
     },
     "745a00452a1b400e8670a5028546295c": {
      "model_module": "@jupyter-widgets/controls",
      "model_module_version": "2.0.0",
      "model_name": "FloatSliderModel",
      "state": {
       "behavior": "drag-tap",
       "description": "V0",
       "layout": "IPY_MODEL_b5a3e69877f94fa999926bf9292dd679",
       "max": 450,
       "style": "IPY_MODEL_4fcd02988dde4a53bf753294cf4d456a",
       "value": 100
      }
     },
     "745e0e60acfa4584a19168c72b33a968": {
      "model_module": "@jupyter-widgets/controls",
      "model_module_version": "2.0.0",
      "model_name": "FloatSliderModel",
      "state": {
       "behavior": "drag-tap",
       "description": "V0",
       "layout": "IPY_MODEL_14ab14128e0c4acab1c222dfc88509d5",
       "max": 450,
       "style": "IPY_MODEL_1fc3e5e4057c4c0f8ce67132e884f2dd",
       "value": 100
      }
     },
     "752c5274500b4e9394cf67b623154c9f": {
      "model_module": "@jupyter-widgets/controls",
      "model_module_version": "2.0.0",
      "model_name": "SliderStyleModel",
      "state": {
       "description_width": ""
      }
     },
     "75359486bafb429f801f2e281c07ee65": {
      "model_module": "@jupyter-widgets/controls",
      "model_module_version": "2.0.0",
      "model_name": "FloatLogSliderModel",
      "state": {
       "behavior": "drag-tap",
       "description": "C",
       "layout": "IPY_MODEL_6f822845a03c41d8a977e2888d873be8",
       "max": 2,
       "min": -6,
       "style": "IPY_MODEL_378d89ec7190423a96ac2c60e1799a55",
       "value": 0.01
      }
     },
     "753cd7b33e034c82a6d6b7285b37ba69": {
      "model_module": "@jupyter-widgets/controls",
      "model_module_version": "2.0.0",
      "model_name": "SliderStyleModel",
      "state": {
       "description_width": ""
      }
     },
     "75d89fcbf361455bbe34483c3c142d13": {
      "model_module": "@jupyter-widgets/controls",
      "model_module_version": "2.0.0",
      "model_name": "FloatSliderModel",
      "state": {
       "behavior": "drag-tap",
       "description": "V0",
       "layout": "IPY_MODEL_9ff6b76512de4d09b76be54b74afeb45",
       "max": 450,
       "style": "IPY_MODEL_6096c8f5604c4773ac6a01ddf5e90d3f",
       "value": 100
      }
     },
     "760410277d5649fcad6b443d66e50ea7": {
      "model_module": "@jupyter-widgets/base",
      "model_module_version": "2.0.0",
      "model_name": "LayoutModel",
      "state": {}
     },
     "765df39881a544889d0db0e261ba6fd2": {
      "model_module": "@jupyter-widgets/controls",
      "model_module_version": "2.0.0",
      "model_name": "SliderStyleModel",
      "state": {
       "description_width": ""
      }
     },
     "777311e339e547ce8afb09ce96cf8429": {
      "model_module": "@jupyter-widgets/controls",
      "model_module_version": "2.0.0",
      "model_name": "FloatSliderModel",
      "state": {
       "behavior": "drag-tap",
       "description": "R",
       "layout": "IPY_MODEL_27575c25e5264ee987fc6f3722041964",
       "max": 10,
       "min": 0.1,
       "step": 0.1,
       "style": "IPY_MODEL_f62a4db06a6b4c48ba7cb3b0ddd167b8",
       "value": 1.0000000000000002
      }
     },
     "77874cde88b84ba6b17d5f3568916344": {
      "model_module": "@jupyter-widgets/controls",
      "model_module_version": "2.0.0",
      "model_name": "SliderStyleModel",
      "state": {
       "description_width": ""
      }
     },
     "788a8b2df8a84bc1a3f9e095cb6434b8": {
      "model_module": "@jupyter-widgets/controls",
      "model_module_version": "2.0.0",
      "model_name": "FloatSliderModel",
      "state": {
       "behavior": "drag-tap",
       "description": "R",
       "layout": "IPY_MODEL_589d8ebce62443018d81b691344e1dc6",
       "max": 10,
       "min": 0.1,
       "step": 0.1,
       "style": "IPY_MODEL_54f2f912492344c0834a7534f70d89a6",
       "value": 1.0000000000000002
      }
     },
     "78b170f1bb4f471eba50315fb2245f3e": {
      "model_module": "@jupyter-widgets/controls",
      "model_module_version": "2.0.0",
      "model_name": "FloatSliderModel",
      "state": {
       "behavior": "drag-tap",
       "description": "R",
       "layout": "IPY_MODEL_4eb5604c9ff549d2be43ff470226a0e3",
       "max": 10,
       "min": 0.1,
       "step": 0.1,
       "style": "IPY_MODEL_16c57031d1434645a2b42ec151f9dee4",
       "value": 1
      }
     },
     "78e3d4f378fd490bb94942cea18bde22": {
      "model_module": "@jupyter-widgets/base",
      "model_module_version": "2.0.0",
      "model_name": "LayoutModel",
      "state": {}
     },
     "7930275212f040b9a2df8c0360de5de6": {
      "model_module": "@jupyter-widgets/base",
      "model_module_version": "2.0.0",
      "model_name": "LayoutModel",
      "state": {}
     },
     "794d6b62c6c54df9824548ca3fdbc2b6": {
      "model_module": "@jupyter-widgets/controls",
      "model_module_version": "2.0.0",
      "model_name": "FloatLogSliderModel",
      "state": {
       "behavior": "drag-tap",
       "description": "C",
       "layout": "IPY_MODEL_28c2df505a854d69b045a69dc3ac89fb",
       "max": 2,
       "min": -6,
       "style": "IPY_MODEL_5efc73a31cda4a6497a04acd83897461",
       "value": 0.01
      }
     },
     "79a9bc046b9b435dbfb51375d64cfe83": {
      "model_module": "@jupyter-widgets/base",
      "model_module_version": "2.0.0",
      "model_name": "LayoutModel",
      "state": {}
     },
     "7a3e13ceb5804d829561f0a4d34c3096": {
      "model_module": "@jupyter-widgets/base",
      "model_module_version": "2.0.0",
      "model_name": "LayoutModel",
      "state": {}
     },
     "7a55fcce96764aa5b3383708000dac25": {
      "model_module": "@jupyter-widgets/controls",
      "model_module_version": "2.0.0",
      "model_name": "FloatSliderModel",
      "state": {
       "behavior": "drag-tap",
       "description": "R",
       "layout": "IPY_MODEL_330612019d524577bc91d0802b041387",
       "max": 10,
       "min": 0.1,
       "step": 0.1,
       "style": "IPY_MODEL_44731c4abbff473a91822666805f885b",
       "value": 1.0000000000000002
      }
     },
     "7a72293f6bc64bd087f82ad545a8b0d7": {
      "model_module": "@jupyter-widgets/controls",
      "model_module_version": "2.0.0",
      "model_name": "FloatSliderModel",
      "state": {
       "behavior": "drag-tap",
       "description": "R",
       "layout": "IPY_MODEL_07b776c49ac64718b5089caa9abd6cb6",
       "max": 10,
       "min": 0.1,
       "step": 0.1,
       "style": "IPY_MODEL_5f8ffcb0a3874e1cbee9def9a3de5515",
       "value": 1.0000000000000002
      }
     },
     "7aa6f81b683440ddafcd4541f1c4c252": {
      "model_module": "@jupyter-widgets/controls",
      "model_module_version": "2.0.0",
      "model_name": "FloatSliderModel",
      "state": {
       "behavior": "drag-tap",
       "description": "V0",
       "layout": "IPY_MODEL_b68f2532b1414e8fa894c7aeda228223",
       "max": 450,
       "style": "IPY_MODEL_8171a71739b9449799d1abbb7d7ca90f",
       "value": 100
      }
     },
     "7b9304cf1d3445ddba8b3237f48cafec": {
      "model_module": "@jupyter-widgets/controls",
      "model_module_version": "2.0.0",
      "model_name": "SliderStyleModel",
      "state": {
       "description_width": ""
      }
     },
     "7bfaef6441c94a6ba79b934780b8854f": {
      "model_module": "@jupyter-widgets/base",
      "model_module_version": "2.0.0",
      "model_name": "LayoutModel",
      "state": {}
     },
     "7cc30e34248b4cb98bf81fc792583f0c": {
      "model_module": "@jupyter-widgets/controls",
      "model_module_version": "2.0.0",
      "model_name": "SliderStyleModel",
      "state": {
       "description_width": ""
      }
     },
     "7d3dca324498482c8818e980cc03930a": {
      "model_module": "@jupyter-widgets/controls",
      "model_module_version": "2.0.0",
      "model_name": "FloatLogSliderModel",
      "state": {
       "behavior": "drag-tap",
       "description": "Duration",
       "layout": "IPY_MODEL_bbb195bb0e4347c48b90963e9b9fa3f0",
       "max": 2,
       "min": -3,
       "style": "IPY_MODEL_5859805db6514176b6a760284e52d88c"
      }
     },
     "7da056031e2d4afe805145f3ab09a868": {
      "model_module": "@jupyter-widgets/controls",
      "model_module_version": "2.0.0",
      "model_name": "FloatSliderModel",
      "state": {
       "behavior": "drag-tap",
       "description": "L",
       "layout": "IPY_MODEL_f24b3579b8e04144a41e10093d01de20",
       "max": 1,
       "min": 0.001,
       "step": 0.001,
       "style": "IPY_MODEL_c4069cb184c445529b3467ab0537cdbf",
       "value": 0.1
      }
     },
     "7f20cca555664f9e89fb256eff237c0e": {
      "model_module": "@jupyter-widgets/controls",
      "model_module_version": "2.0.0",
      "model_name": "SliderStyleModel",
      "state": {
       "description_width": ""
      }
     },
     "7f5caf916fe04d32be6894efa4687d46": {
      "model_module": "@jupyter-widgets/controls",
      "model_module_version": "2.0.0",
      "model_name": "SliderStyleModel",
      "state": {
       "description_width": ""
      }
     },
     "80881c48f64449d4bdb84329f2c887d0": {
      "model_module": "@jupyter-widgets/controls",
      "model_module_version": "2.0.0",
      "model_name": "VBoxModel",
      "state": {
       "_dom_classes": [
        "widget-interact"
       ],
       "children": [
        "IPY_MODEL_a30d519de17845e08f799075491688c4",
        "IPY_MODEL_5006843612434096a70037ca2269de3c",
        "IPY_MODEL_9b8eb40945fd47b79cc86ee9dbbfee2b",
        "IPY_MODEL_788a8b2df8a84bc1a3f9e095cb6434b8",
        "IPY_MODEL_4291105dbbca44a29eaef8d77b99122b",
        "IPY_MODEL_d1ea3426522c479eb9cf2c3f012e2851"
       ],
       "layout": "IPY_MODEL_8528a09dcd9f4437a5a3d82e9a95afdc"
      }
     },
     "80c9a9e522c24f3288b13787f15dda46": {
      "model_module": "@jupyter-widgets/controls",
      "model_module_version": "2.0.0",
      "model_name": "FloatSliderModel",
      "state": {
       "behavior": "drag-tap",
       "description": "V0",
       "layout": "IPY_MODEL_57c34af4b3f649bea3ec9075e3da6944",
       "max": 450,
       "style": "IPY_MODEL_9cfe3b7221f94c1a827b0c5b6fa9c9de",
       "value": 100
      }
     },
     "80d38d484ae244428f1e7830ebd4d5d8": {
      "model_module": "@jupyter-widgets/controls",
      "model_module_version": "2.0.0",
      "model_name": "SliderStyleModel",
      "state": {
       "description_width": ""
      }
     },
     "80f4d4e17f564ceca908c32c065ea3d8": {
      "model_module": "@jupyter-widgets/controls",
      "model_module_version": "2.0.0",
      "model_name": "SliderStyleModel",
      "state": {
       "description_width": ""
      }
     },
     "8171a71739b9449799d1abbb7d7ca90f": {
      "model_module": "@jupyter-widgets/controls",
      "model_module_version": "2.0.0",
      "model_name": "SliderStyleModel",
      "state": {
       "description_width": ""
      }
     },
     "818c1666daef47e6a2ed07e350aaace7": {
      "model_module": "@jupyter-widgets/base",
      "model_module_version": "2.0.0",
      "model_name": "LayoutModel",
      "state": {}
     },
     "820a92ac3a92479ab350f14e96507e90": {
      "model_module": "@jupyter-widgets/controls",
      "model_module_version": "2.0.0",
      "model_name": "SliderStyleModel",
      "state": {
       "description_width": ""
      }
     },
     "8218ffc477654e4184939b21a9ff8fee": {
      "model_module": "@jupyter-widgets/controls",
      "model_module_version": "2.0.0",
      "model_name": "SliderStyleModel",
      "state": {
       "description_width": ""
      }
     },
     "8306e059f4554c95ac0792af885a91cf": {
      "model_module": "@jupyter-widgets/base",
      "model_module_version": "2.0.0",
      "model_name": "LayoutModel",
      "state": {}
     },
     "83c1b33f34e143f29716170281342662": {
      "model_module": "@jupyter-widgets/base",
      "model_module_version": "2.0.0",
      "model_name": "LayoutModel",
      "state": {}
     },
     "841a62d76a71421cbc8727c3ad8423a6": {
      "model_module": "@jupyter-widgets/base",
      "model_module_version": "2.0.0",
      "model_name": "LayoutModel",
      "state": {}
     },
     "84d9e126d8e1400a9df9eb900f915f09": {
      "model_module": "@jupyter-widgets/controls",
      "model_module_version": "2.0.0",
      "model_name": "SliderStyleModel",
      "state": {
       "description_width": ""
      }
     },
     "8528a09dcd9f4437a5a3d82e9a95afdc": {
      "model_module": "@jupyter-widgets/base",
      "model_module_version": "2.0.0",
      "model_name": "LayoutModel",
      "state": {}
     },
     "853e2508f6cc42638d41e0fe51f4d26c": {
      "model_module": "@jupyter-widgets/base",
      "model_module_version": "2.0.0",
      "model_name": "LayoutModel",
      "state": {}
     },
     "85af2eaa96674c479b37cda846fd76ae": {
      "model_module": "@jupyter-widgets/controls",
      "model_module_version": "2.0.0",
      "model_name": "FloatLogSliderModel",
      "state": {
       "behavior": "drag-tap",
       "description": "Duration",
       "layout": "IPY_MODEL_bd03be1ab15d4427b0c21637baa35442",
       "max": 2,
       "min": -3,
       "style": "IPY_MODEL_7f20cca555664f9e89fb256eff237c0e"
      }
     },
     "866ff41d8e884dd08561e4ee84d8e0de": {
      "model_module": "@jupyter-widgets/base",
      "model_module_version": "2.0.0",
      "model_name": "LayoutModel",
      "state": {}
     },
     "86cf07a5837547f382788de4d276cad3": {
      "model_module": "@jupyter-widgets/controls",
      "model_module_version": "2.0.0",
      "model_name": "SliderStyleModel",
      "state": {
       "description_width": ""
      }
     },
     "873dbd0c6b7645c6b7715399f788de73": {
      "model_module": "@jupyter-widgets/base",
      "model_module_version": "2.0.0",
      "model_name": "LayoutModel",
      "state": {}
     },
     "8818e29c65f748b2a31659ac9cf326f2": {
      "model_module": "@jupyter-widgets/base",
      "model_module_version": "2.0.0",
      "model_name": "LayoutModel",
      "state": {}
     },
     "898b64c7d13b4b4e9a5b50a98deea7be": {
      "model_module": "@jupyter-widgets/base",
      "model_module_version": "2.0.0",
      "model_name": "LayoutModel",
      "state": {}
     },
     "8a787596e5d34f788d4fc32b6ede285d": {
      "model_module": "@jupyter-widgets/base",
      "model_module_version": "2.0.0",
      "model_name": "LayoutModel",
      "state": {}
     },
     "8b49be670aca431c9fec2f3627e00f88": {
      "model_module": "@jupyter-widgets/base",
      "model_module_version": "2.0.0",
      "model_name": "LayoutModel",
      "state": {}
     },
     "8b7ba934c3f743cd8294abba724aa1f4": {
      "model_module": "@jupyter-widgets/controls",
      "model_module_version": "2.0.0",
      "model_name": "FloatSliderModel",
      "state": {
       "behavior": "drag-tap",
       "description": "R",
       "layout": "IPY_MODEL_cf8c043b95f545f88470134f10cc0fe1",
       "max": 10,
       "min": 0.1,
       "step": 0.1,
       "style": "IPY_MODEL_25b4f948d4b4406ca8105f5e7d3b63c4",
       "value": 1
      }
     },
     "8b853d9e64df4115b7b4ca2033a31709": {
      "model_module": "@jupyter-widgets/controls",
      "model_module_version": "2.0.0",
      "model_name": "FloatSliderModel",
      "state": {
       "behavior": "drag-tap",
       "description": "L",
       "layout": "IPY_MODEL_1732825becba4cb4bed72d465bf4aac0",
       "max": 1,
       "min": 0.001,
       "step": 0.001,
       "style": "IPY_MODEL_979ed3b05cca40a28cbe2e337138bdd6",
       "value": 0.1
      }
     },
     "8ce24b1212884b01842d3607643c05d2": {
      "model_module": "@jupyter-widgets/controls",
      "model_module_version": "2.0.0",
      "model_name": "SliderStyleModel",
      "state": {
       "description_width": ""
      }
     },
     "8f97dece33e04ad6b32cc93b1ed71bd4": {
      "model_module": "@jupyter-widgets/controls",
      "model_module_version": "2.0.0",
      "model_name": "SliderStyleModel",
      "state": {
       "description_width": ""
      }
     },
     "8fd966c84e8148ffa8c86fb526a6148c": {
      "model_module": "@jupyter-widgets/controls",
      "model_module_version": "2.0.0",
      "model_name": "SliderStyleModel",
      "state": {
       "description_width": ""
      }
     },
     "8ff88e486aa54407b700a78b0bfb640b": {
      "model_module": "@jupyter-widgets/controls",
      "model_module_version": "2.0.0",
      "model_name": "FloatLogSliderModel",
      "state": {
       "behavior": "drag-tap",
       "description": "C",
       "layout": "IPY_MODEL_426d22230b1d4c85a35125336e8d81bc",
       "max": 2,
       "min": -6,
       "style": "IPY_MODEL_e28063a6ef204ef3aa792d71feb81752",
       "value": 0.01
      }
     },
     "9055d2fc897b4924ab25aa5e628f8b3e": {
      "model_module": "@jupyter-widgets/base",
      "model_module_version": "2.0.0",
      "model_name": "LayoutModel",
      "state": {}
     },
     "9099272ab3cd456fb6c8b289a9733d6f": {
      "model_module": "@jupyter-widgets/controls",
      "model_module_version": "2.0.0",
      "model_name": "SliderStyleModel",
      "state": {
       "description_width": ""
      }
     },
     "9099324c0f6347a49fea14b07b897958": {
      "model_module": "@jupyter-widgets/controls",
      "model_module_version": "2.0.0",
      "model_name": "FloatSliderModel",
      "state": {
       "behavior": "drag-tap",
       "description": "L",
       "layout": "IPY_MODEL_472d798fdf6c4969829b010512ffc0e3",
       "max": 1,
       "min": 0.001,
       "step": 0.001,
       "style": "IPY_MODEL_1699be19083f4828b1b5022635ff1cb2",
       "value": 0.1
      }
     },
     "9161432ef63a491a81a0f78b142d7282": {
      "model_module": "@jupyter-widgets/controls",
      "model_module_version": "2.0.0",
      "model_name": "FloatSliderModel",
      "state": {
       "behavior": "drag-tap",
       "description": "V0",
       "layout": "IPY_MODEL_8b49be670aca431c9fec2f3627e00f88",
       "max": 450,
       "style": "IPY_MODEL_e29f348de07f416eb29775a9bbb11820",
       "value": 100
      }
     },
     "92eab091caa642be8086223814b833ab": {
      "model_module": "@jupyter-widgets/base",
      "model_module_version": "2.0.0",
      "model_name": "LayoutModel",
      "state": {}
     },
     "943f032119154e7b8bb1184bec1c47b7": {
      "model_module": "@jupyter-widgets/controls",
      "model_module_version": "2.0.0",
      "model_name": "SliderStyleModel",
      "state": {
       "description_width": ""
      }
     },
     "94c0fa9e7768439681fd9067c70b1c74": {
      "model_module": "@jupyter-widgets/controls",
      "model_module_version": "2.0.0",
      "model_name": "SliderStyleModel",
      "state": {
       "description_width": ""
      }
     },
     "95ce3a1893914354829caac8421e3c0f": {
      "model_module": "@jupyter-widgets/controls",
      "model_module_version": "2.0.0",
      "model_name": "SliderStyleModel",
      "state": {
       "description_width": ""
      }
     },
     "95e09672c92d405aaa7db59ce8a339b6": {
      "model_module": "@jupyter-widgets/controls",
      "model_module_version": "2.0.0",
      "model_name": "FloatLogSliderModel",
      "state": {
       "behavior": "drag-tap",
       "description": "Duration",
       "layout": "IPY_MODEL_5907ca128b6d49978498dc2b282f2cf4",
       "max": 2,
       "min": -3,
       "style": "IPY_MODEL_17331ca2db9b4feb836eea5a67cac68d"
      }
     },
     "965ed701e40046cd877b953b4192d779": {
      "model_module": "@jupyter-widgets/controls",
      "model_module_version": "2.0.0",
      "model_name": "SliderStyleModel",
      "state": {
       "description_width": ""
      }
     },
     "979ed3b05cca40a28cbe2e337138bdd6": {
      "model_module": "@jupyter-widgets/controls",
      "model_module_version": "2.0.0",
      "model_name": "SliderStyleModel",
      "state": {
       "description_width": ""
      }
     },
     "9815d8fce50348c7be21906751a5acf2": {
      "model_module": "@jupyter-widgets/controls",
      "model_module_version": "2.0.0",
      "model_name": "SliderStyleModel",
      "state": {
       "description_width": ""
      }
     },
     "981eb087e167421790e6c71b30b5dc72": {
      "model_module": "@jupyter-widgets/controls",
      "model_module_version": "2.0.0",
      "model_name": "FloatSliderModel",
      "state": {
       "behavior": "drag-tap",
       "description": "L",
       "layout": "IPY_MODEL_f7eb8552a9c74e04967857f594fe8bb3",
       "max": 1,
       "min": 0.001,
       "step": 0.001,
       "style": "IPY_MODEL_5142ca6c0e384572a887e46958c67966",
       "value": 0.1
      }
     },
     "9846ee1309574a0dbe4d6c4c5fd76fac": {
      "model_module": "@jupyter-widgets/controls",
      "model_module_version": "2.0.0",
      "model_name": "VBoxModel",
      "state": {
       "_dom_classes": [
        "widget-interact"
       ],
       "children": [
        "IPY_MODEL_2beaaf20fed740abb41e6d1ad63d9ae3",
        "IPY_MODEL_d75cb6973fa34023a9cd8a5c9fac6df6",
        "IPY_MODEL_4cbf3b30fa8c473d920ac35380f01a9b",
        "IPY_MODEL_f9fc3fc6fd934dc0b22d9a0f76b1b34e",
        "IPY_MODEL_cd24684fecd3448a8dc2a2c38c2896a6",
        "IPY_MODEL_2a6c685d2a97446da0a35e52d83b8f5b"
       ],
       "layout": "IPY_MODEL_53ba7394c7d04a2381049f2700a3d677"
      }
     },
     "98e65583dcb245508af2d78c81ed17fd": {
      "model_module": "@jupyter-widgets/controls",
      "model_module_version": "2.0.0",
      "model_name": "FloatSliderModel",
      "state": {
       "behavior": "drag-tap",
       "description": "V0",
       "layout": "IPY_MODEL_8818e29c65f748b2a31659ac9cf326f2",
       "max": 450,
       "style": "IPY_MODEL_820a92ac3a92479ab350f14e96507e90",
       "value": 100
      }
     },
     "99d23fc7d7d741779bee106d0a8a60d3": {
      "model_module": "@jupyter-widgets/base",
      "model_module_version": "2.0.0",
      "model_name": "LayoutModel",
      "state": {}
     },
     "99df0d0cfb724f34b5f2d5468fb3c6e9": {
      "model_module": "@jupyter-widgets/base",
      "model_module_version": "2.0.0",
      "model_name": "LayoutModel",
      "state": {}
     },
     "9b21b9412d42437296cb86c7a18f7917": {
      "model_module": "@jupyter-widgets/controls",
      "model_module_version": "2.0.0",
      "model_name": "SliderStyleModel",
      "state": {
       "description_width": ""
      }
     },
     "9b54b9bd3f2846ce98affefe888a6a03": {
      "model_module": "@jupyter-widgets/controls",
      "model_module_version": "2.0.0",
      "model_name": "FloatSliderModel",
      "state": {
       "behavior": "drag-tap",
       "description": "R",
       "layout": "IPY_MODEL_6643d773f70f40cc89ae198f8d30a57b",
       "max": 10,
       "min": 0.1,
       "step": 0.1,
       "style": "IPY_MODEL_6432602a50484effb1e6933f88c2f865",
       "value": 1.0000000000000002
      }
     },
     "9b8cdf6e041c40888f5978b7fe985b0b": {
      "model_module": "@jupyter-widgets/controls",
      "model_module_version": "2.0.0",
      "model_name": "SliderStyleModel",
      "state": {
       "description_width": ""
      }
     },
     "9b8eb40945fd47b79cc86ee9dbbfee2b": {
      "model_module": "@jupyter-widgets/controls",
      "model_module_version": "2.0.0",
      "model_name": "FloatSliderModel",
      "state": {
       "behavior": "drag-tap",
       "description": "L",
       "layout": "IPY_MODEL_873dbd0c6b7645c6b7715399f788de73",
       "max": 1,
       "min": 0.001,
       "step": 0.001,
       "style": "IPY_MODEL_ab40677152324f74a298d1346cad5de4",
       "value": 0.1
      }
     },
     "9cd90762eb184f63be3467f307a3dc7a": {
      "model_module": "@jupyter-widgets/controls",
      "model_module_version": "2.0.0",
      "model_name": "FloatSliderModel",
      "state": {
       "behavior": "drag-tap",
       "description": "R",
       "layout": "IPY_MODEL_fcfe6d424772465ca62efe12f1b4a765",
       "max": 10,
       "min": 0.1,
       "step": 0.1,
       "style": "IPY_MODEL_abd69b4cf3884988bba8ca4d6562c70f",
       "value": 1
      }
     },
     "9ce9ac6a4e96498884910f00176bc8e9": {
      "model_module": "@jupyter-widgets/controls",
      "model_module_version": "2.0.0",
      "model_name": "VBoxModel",
      "state": {
       "_dom_classes": [
        "widget-interact"
       ],
       "children": [
        "IPY_MODEL_6648374a275546e881d558818df743c5",
        "IPY_MODEL_4337c7189c7046768d1da980aaef8b02",
        "IPY_MODEL_e20432642fdf40f6a80c68e752fd2ebe",
        "IPY_MODEL_b1441d195f4343099ff7a0a352e24e40",
        "IPY_MODEL_7d3dca324498482c8818e980cc03930a",
        "IPY_MODEL_a0e76812ddb648d1be701300b11d3a25"
       ],
       "layout": "IPY_MODEL_e5e311550aad4435a8d16618b2283fb7"
      }
     },
     "9cfe3b7221f94c1a827b0c5b6fa9c9de": {
      "model_module": "@jupyter-widgets/controls",
      "model_module_version": "2.0.0",
      "model_name": "SliderStyleModel",
      "state": {
       "description_width": ""
      }
     },
     "9d932a38738e4b658de2555c2a5ab63e": {
      "model_module": "@jupyter-widgets/controls",
      "model_module_version": "2.0.0",
      "model_name": "FloatSliderModel",
      "state": {
       "behavior": "drag-tap",
       "description": "V0",
       "layout": "IPY_MODEL_144360df275c4d8c864fd3fd3557b175",
       "max": 450,
       "style": "IPY_MODEL_535d09bc405f41b8a79e165fdfe9e50d",
       "value": 100
      }
     },
     "9debb8b263de4cd2bfae9c41ba70fa7d": {
      "model_module": "@jupyter-widgets/controls",
      "model_module_version": "2.0.0",
      "model_name": "SliderStyleModel",
      "state": {
       "description_width": ""
      }
     },
     "9ff66c71293b4eeab1b443e1a1f11819": {
      "model_module": "@jupyter-widgets/controls",
      "model_module_version": "2.0.0",
      "model_name": "SliderStyleModel",
      "state": {
       "description_width": ""
      }
     },
     "9ff6b76512de4d09b76be54b74afeb45": {
      "model_module": "@jupyter-widgets/base",
      "model_module_version": "2.0.0",
      "model_name": "LayoutModel",
      "state": {}
     },
     "a0958ed3aa13456bbddf5d51b417bd3c": {
      "model_module": "@jupyter-widgets/controls",
      "model_module_version": "2.0.0",
      "model_name": "SliderStyleModel",
      "state": {
       "description_width": ""
      }
     },
     "a0e76812ddb648d1be701300b11d3a25": {
      "model_module": "@jupyter-widgets/output",
      "model_module_version": "1.0.0",
      "model_name": "OutputModel",
      "state": {
       "layout": "IPY_MODEL_64bd6973b378467490df7daa9bd0982d",
       "outputs": [
        {
         "data": {
          "image/png": "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",
          "text/plain": "<Figure size 800x400 with 1 Axes>"
         },
         "metadata": {},
         "output_type": "display_data"
        }
       ]
      }
     },
     "a228ec3b0f96460bbffeaeef53e23420": {
      "model_module": "@jupyter-widgets/controls",
      "model_module_version": "2.0.0",
      "model_name": "SliderStyleModel",
      "state": {
       "description_width": ""
      }
     },
     "a244e6a8eafd4558b6d6ece2b18e0f8b": {
      "model_module": "@jupyter-widgets/controls",
      "model_module_version": "2.0.0",
      "model_name": "SliderStyleModel",
      "state": {
       "description_width": ""
      }
     },
     "a27a2af7b2e24cbca87961f890830694": {
      "model_module": "@jupyter-widgets/controls",
      "model_module_version": "2.0.0",
      "model_name": "SliderStyleModel",
      "state": {
       "description_width": ""
      }
     },
     "a2fd810ea1b04b2bac92f7e55425c223": {
      "model_module": "@jupyter-widgets/controls",
      "model_module_version": "2.0.0",
      "model_name": "FloatSliderModel",
      "state": {
       "behavior": "drag-tap",
       "description": "R",
       "layout": "IPY_MODEL_10ba8224ed2e49268d502ac249d203ad",
       "max": 10,
       "min": 0.1,
       "step": 0.1,
       "style": "IPY_MODEL_8218ffc477654e4184939b21a9ff8fee",
       "value": 1.0000000000000002
      }
     },
     "a30d519de17845e08f799075491688c4": {
      "model_module": "@jupyter-widgets/controls",
      "model_module_version": "2.0.0",
      "model_name": "FloatSliderModel",
      "state": {
       "behavior": "drag-tap",
       "description": "V0",
       "layout": "IPY_MODEL_a4c7e9fbca7342fbb2a5eb56de8957b9",
       "max": 450,
       "style": "IPY_MODEL_acd177a2f7d249ad8952df7905982a91",
       "value": 100
      }
     },
     "a340f119cdfa4895be766efaa74fb125": {
      "model_module": "@jupyter-widgets/base",
      "model_module_version": "2.0.0",
      "model_name": "LayoutModel",
      "state": {}
     },
     "a366b2a2724c4fed8f405319773cb6cd": {
      "model_module": "@jupyter-widgets/output",
      "model_module_version": "1.0.0",
      "model_name": "OutputModel",
      "state": {
       "layout": "IPY_MODEL_1a18d024c3d94fa1a85aec1fcb817411",
       "outputs": [
        {
         "name": "stdout",
         "output_type": "stream",
         "text": "AAAAAAAAAA\nBBBBBBBBBBb\nCCCCCCCCCCCC\n"
        },
        {
         "data": {
          "image/png": "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",
          "text/plain": "<Figure size 800x400 with 1 Axes>"
         },
         "metadata": {},
         "output_type": "display_data"
        },
        {
         "data": {
          "text/plain": "  message: The solver successfully reached the end of the integration interval.\n  success: True\n   status: 0\n        t: [ 0.000e+00  1.000e-06 ...  1.000e+00  1.000e+00]\n        y: [[-1.000e+02 -1.000e+02 ... -6.366e-01 -6.366e-01]\n            [ 0.000e+00  1.000e-03 ... -3.966e-02 -3.965e-02]\n            [ 0.000e+00  1.079e-11 ...  1.611e+03  1.611e+03]]\n      sol: None\n t_events: None\n y_events: None\n     nfev: 266\n     njev: 0\n      nlu: 0"
         },
         "metadata": {},
         "output_type": "display_data"
        }
       ]
      }
     },
     "a36f01fdd4f345318ddee91152c82e25": {
      "model_module": "@jupyter-widgets/controls",
      "model_module_version": "2.0.0",
      "model_name": "VBoxModel",
      "state": {
       "_dom_classes": [
        "widget-interact"
       ],
       "children": [
        "IPY_MODEL_80c9a9e522c24f3288b13787f15dda46",
        "IPY_MODEL_184d708c533841b4b9f611d80ce8a2ce",
        "IPY_MODEL_9099324c0f6347a49fea14b07b897958",
        "IPY_MODEL_9b54b9bd3f2846ce98affefe888a6a03",
        "IPY_MODEL_c6c9c8ad5cc34852b330821beed824e9",
        "IPY_MODEL_f0c7a903a10a47a3bc1d83bebba2b26e"
       ],
       "layout": "IPY_MODEL_760410277d5649fcad6b443d66e50ea7"
      }
     },
     "a38c6202cce44493a80629c6e6422b6e": {
      "model_module": "@jupyter-widgets/controls",
      "model_module_version": "2.0.0",
      "model_name": "FloatSliderModel",
      "state": {
       "behavior": "drag-tap",
       "description": "L",
       "layout": "IPY_MODEL_a5735bc1e65a46fcbb1420de8a925749",
       "max": 1,
       "min": 0.001,
       "step": 0.001,
       "style": "IPY_MODEL_6fe31ab65558450e84f923d21319da6c",
       "value": 0.1
      }
     },
     "a43209fd15f04583937a244c1ccf2497": {
      "model_module": "@jupyter-widgets/controls",
      "model_module_version": "2.0.0",
      "model_name": "SliderStyleModel",
      "state": {
       "description_width": ""
      }
     },
     "a492cb5b9e7a4434870ea6cd970e1c99": {
      "model_module": "@jupyter-widgets/base",
      "model_module_version": "2.0.0",
      "model_name": "LayoutModel",
      "state": {}
     },
     "a4c7e9fbca7342fbb2a5eb56de8957b9": {
      "model_module": "@jupyter-widgets/base",
      "model_module_version": "2.0.0",
      "model_name": "LayoutModel",
      "state": {}
     },
     "a5735bc1e65a46fcbb1420de8a925749": {
      "model_module": "@jupyter-widgets/base",
      "model_module_version": "2.0.0",
      "model_name": "LayoutModel",
      "state": {}
     },
     "a5f6091db9f9455782639134eb0af17b": {
      "model_module": "@jupyter-widgets/output",
      "model_module_version": "1.0.0",
      "model_name": "OutputModel",
      "state": {
       "layout": "IPY_MODEL_b1df1bc84fd6471b96e0dde221a5f69e",
       "outputs": [
        {
         "data": {
          "image/png": "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",
          "text/plain": "<Figure size 800x400 with 1 Axes>"
         },
         "metadata": {},
         "output_type": "display_data"
        },
        {
         "data": {
          "text/plain": "  message: The solver successfully reached the end of the integration interval.\n  success: True\n   status: 0\n        t: [ 0.000e+00  1.000e-06 ...  1.000e+00  1.000e+00]\n        y: [[-1.000e+02 -1.000e+02 ... -6.366e-01 -6.366e-01]\n            [ 0.000e+00  1.000e-03 ... -3.966e-02 -3.965e-02]\n            [ 0.000e+00  1.079e-11 ...  1.611e+03  1.611e+03]]\n      sol: None\n t_events: None\n y_events: None\n     nfev: 266\n     njev: 0\n      nlu: 0"
         },
         "metadata": {},
         "output_type": "display_data"
        }
       ]
      }
     },
     "a64c7ed3344c4476bf920e879575ad89": {
      "model_module": "@jupyter-widgets/base",
      "model_module_version": "2.0.0",
      "model_name": "LayoutModel",
      "state": {}
     },
     "a64e0774c1084921a315e003c6d81c15": {
      "model_module": "@jupyter-widgets/base",
      "model_module_version": "2.0.0",
      "model_name": "LayoutModel",
      "state": {}
     },
     "a817ada2f126451995e6bf83335041cf": {
      "model_module": "@jupyter-widgets/base",
      "model_module_version": "2.0.0",
      "model_name": "LayoutModel",
      "state": {}
     },
     "ab3757f1ff6d4b00964a013a7d88558e": {
      "model_module": "@jupyter-widgets/controls",
      "model_module_version": "2.0.0",
      "model_name": "FloatSliderModel",
      "state": {
       "behavior": "drag-tap",
       "description": "V0",
       "layout": "IPY_MODEL_ad5a08337c484f8bbb8b8b6e5540f893",
       "max": 450,
       "style": "IPY_MODEL_f4beb0be387a400486d724a417ac6323",
       "value": 100
      }
     },
     "ab40677152324f74a298d1346cad5de4": {
      "model_module": "@jupyter-widgets/controls",
      "model_module_version": "2.0.0",
      "model_name": "SliderStyleModel",
      "state": {
       "description_width": ""
      }
     },
     "abd69b4cf3884988bba8ca4d6562c70f": {
      "model_module": "@jupyter-widgets/controls",
      "model_module_version": "2.0.0",
      "model_name": "SliderStyleModel",
      "state": {
       "description_width": ""
      }
     },
     "abe217752a3b4ca78f27063b7ae6eeee": {
      "model_module": "@jupyter-widgets/controls",
      "model_module_version": "2.0.0",
      "model_name": "FloatSliderModel",
      "state": {
       "behavior": "drag-tap",
       "description": "L",
       "layout": "IPY_MODEL_b0e87f2dacca4c418d4f73346aa9c9ee",
       "max": 1,
       "min": 0.001,
       "step": 0.001,
       "style": "IPY_MODEL_cb11a3282e4e43399f57d3947f2ffe98",
       "value": 0.1
      }
     },
     "ac00838bf4d74e5abf4c2fed94186acd": {
      "model_module": "@jupyter-widgets/base",
      "model_module_version": "2.0.0",
      "model_name": "LayoutModel",
      "state": {}
     },
     "acd177a2f7d249ad8952df7905982a91": {
      "model_module": "@jupyter-widgets/controls",
      "model_module_version": "2.0.0",
      "model_name": "SliderStyleModel",
      "state": {
       "description_width": ""
      }
     },
     "ad5a08337c484f8bbb8b8b6e5540f893": {
      "model_module": "@jupyter-widgets/base",
      "model_module_version": "2.0.0",
      "model_name": "LayoutModel",
      "state": {}
     },
     "ad73a5eb8ab842eb9873212f9ed368ec": {
      "model_module": "@jupyter-widgets/controls",
      "model_module_version": "2.0.0",
      "model_name": "SliderStyleModel",
      "state": {
       "description_width": ""
      }
     },
     "adf49c5cbb87440390191d3540eb453e": {
      "model_module": "@jupyter-widgets/controls",
      "model_module_version": "2.0.0",
      "model_name": "FloatLogSliderModel",
      "state": {
       "behavior": "drag-tap",
       "description": "Duration",
       "layout": "IPY_MODEL_6f03e9a98ff547daa78d6075c06167e2",
       "max": 2,
       "min": -3,
       "style": "IPY_MODEL_7cc30e34248b4cb98bf81fc792583f0c"
      }
     },
     "ae2a958c75d04c5795e30f9a51c4cc10": {
      "model_module": "@jupyter-widgets/base",
      "model_module_version": "2.0.0",
      "model_name": "LayoutModel",
      "state": {}
     },
     "ae66c8c70b2d49498de5697a3139a922": {
      "model_module": "@jupyter-widgets/output",
      "model_module_version": "1.0.0",
      "model_name": "OutputModel",
      "state": {
       "layout": "IPY_MODEL_28dc910a030148f69bf6958554d81d67",
       "outputs": [
        {
         "data": {
          "image/png": "iVBORw0KGgoAAAANSUhEUgAAArMAAAGJCAYAAACZ7rtNAAAAOXRFWHRTb2Z0d2FyZQBNYXRwbG90bGliIHZlcnNpb24zLjkuMCwgaHR0cHM6Ly9tYXRwbG90bGliLm9yZy80BEi2AAAACXBIWXMAAA9hAAAPYQGoP6dpAABYP0lEQVR4nO3deViUVf/H8feACKKiGIqouO+aS5qmlUu5ZGn5q9Qs19SsXJ6ysszd3NK0VTPLJSvT7HnKFrXIJXMrNXfLJbfcNQVEEAbm/v1xAhxBZRuGgc/ruubK+8w9c3/nOA0fD2fOsVmWZSEiIiIi4oG83F2AiIiIiEhGKcyKiIiIiMdSmBURERERj6UwKyIiIiIeS2FWRERERDyWwqyIiIiIeCyFWRERERHxWAqzIiIiIuKxFGZFRERExGMpzIqIiEuVL1+eXr16ubsMEcmlFGZFxKP99ddf9O/fn4oVK+Ln50dAQAB33nknb7/9NjExMe4uL8OWLVvGmDFj3F1GqtasWYPNZkvTTUTE1WyWZVnuLkJEJCO+//57OnXqhK+vLz169KB27drExcWxbt06/vvf/9KrVy9mz57t7jIzZODAgcyYMYOc+BF95swZwsLCnNqGDRtGoUKFGD58uFN7t27diI2NxcvLCx8fn+wsU0TyCIVZEfFIhw8fpk6dOpQpU4ZVq1YREhLidP/Bgwf5/vvv+c9//pPpa12+fJmCBQumaLcsiytXrlCgQIFMX+NaOTnMpqZ27doEBQWxZs0ad5ciInmMphmIiEeaMmUKUVFRzJkzJ0WQBahcuXJSkD1y5Ag2m4358+enOM9mszn9On/MmDHYbDb27t3L448/TmBgIHfddRdg5n62b9+eH374gYYNG1KgQAE++OADAMLDw3nuuecIDQ3F19eXypUr8/rrr+NwOJKeO7GON954g9mzZ1OpUiV8fX25/fbb2bx5c9J5vXr1YsaMGUn13exX9u3bt6dixYqp3tekSRMaNmyYdBwWFsZdd91F0aJFKVSoENWqVePVV1+97nNnhWvnzM6fPx+bzca6desYPHgwxYsXp2jRovTv35+4uDjCw8Pp0aMHgYGBBAYGMnTo0BSh3uFw8NZbb1GrVi38/PwIDg6mf//+XLx40aWvRURynnzuLkBEJCO+/fZbKlasSNOmTV3y/J06daJKlSpMnDjRKUjt27ePrl270r9/f/r160e1atWIjo6mefPmnDhxgv79+1O2bFk2bNjAsGHDOHXqFG+99ZbTcy9cuJBLly7Rv39/bDYbU6ZM4eGHH+bQoUP4+PjQv39/Tp48SVhYGJ988slNa+3SpQs9evRg8+bN3H777UntR48eZdOmTUydOhWAPXv20L59e+rUqcO4cePw9fXl4MGDrF+/Pms6LZ0GDRpEyZIlGTt2LJs2bWL27NkULVqUDRs2ULZsWSZOnMiyZcuYOnUqtWvXpkePHkmP7d+/P/Pnz6d3794MHjyYw4cP895777Ft2zbWr1+vKQ0ieYklIuJhIiIiLMB66KGH0nT+4cOHLcCaN29eivsAa/To0UnHo0ePtgCra9euKc4tV66cBVgrVqxwan/ttdesggULWvv373dqf+WVVyxvb2/r2LFjTnXccsst1oULF5LOW7p0qQVY3377bVLbgAEDrLR+REdERFi+vr7WCy+84NQ+ZcoUy2azWUePHrUsy7LefPNNC7DOnTuXpudNj1q1alnNmzdP9b5y5cpZPXv2TDqeN2+eBVht27a1HA5HUnuTJk0sm81mPf3000lt8fHxVpkyZZye+5dffrEA67PPPnO6zooVK1JtF5HcTdMMRMTjREZGAlC4cGGXXePpp59Otb1ChQq0bdvWqW3JkiXcfffdBAYGcv78+aRbq1atSEhIYO3atU7nd+nShcDAwKTju+++G4BDhw5lqNaAgADatWvHF1984TSKvHjxYu644w7Kli0LQNGiRQFYunSp0/QHd+nTp4/T9InGjRtjWRZ9+vRJavP29qZhw4ZOfbNkyRKKFClC69atnfq7QYMGFCpUiNWrV2fr6xAR91KYFRGPExAQAMClS5dcdo0KFSqkuf3AgQOsWLGC4sWLO91atWoFwNmzZ53OTwyXiRKDbWbme3bp0oW///6bjRs3AmbJsq1bt9KlSxenc+6880769u1LcHAwjz32GF988YXbgu21/VCkSBEAQkNDU7Rf3TcHDhwgIiKCEiVKpOjzqKioFP0tIrmb5syKiMcJCAigVKlS7N69O03nX+/LUwkJCdd9zPVWKEit3eFw0Lp1a4YOHZrqY6pWrep07O3tnep5ViZWLujQoQP+/v588cUXNG3alC+++AIvLy86derkVPvatWtZvXo133//PStWrGDx4sXcc889/Pjjj9ety1Wud73U2q/uG4fDQYkSJfjss89SfXzx4sWzpkAR8QgKsyLikdq3b8/s2bPZuHEjTZo0ueG5iSOf4eHhTu1Hjx7NkloqVapEVFRU0khsVkjvhgMFCxakffv2LFmyhOnTp7N48WLuvvtuSpUq5XSel5cX9957L/feey/Tp09n4sSJDB8+nNWrV2dp/a5UqVIlfvrpJ+68806XLIsmIp5F0wxExCMNHTqUggUL0rdvX86cOZPi/r/++ou3334bMCO5QUFBKeauzpw5M0tq6dy5Mxs3buSHH35IcV94eDjx8fHpfs7EdW2vDeA30qVLF06ePMlHH33Ejh07nKYYAFy4cCHFY+rVqwdAbGxsUtuff/7JsWPH0l1zduncuTMJCQm89tprKe6Lj49PV5+JiOfTyKyIeKRKlSqxcOFCunTpQo0aNZx2ANuwYQNLlixxWtu0b9++TJ48mb59+9KwYUPWrl3L/v37s6SWl156iW+++Yb27dvTq1cvGjRowOXLl9m1axdffvklR44cISgoKF3P2aBBAwAGDx5M27Zt8fb25rHHHrvhY+6//34KFy7Miy++iLe3N4888ojT/ePGjWPt2rU88MADlCtXjrNnzzJz5kzKlCmTtJYuQI0aNWjevHmO3QChefPm9O/fn0mTJrF9+3batGmDj48PBw4cYMmSJbz99ts8+uij7i5TRLKJwqyIeKwHH3yQnTt3MnXqVJYuXcr777+Pr68vderUYdq0afTr1y/p3FGjRnHu3Dm+/PJLvvjiC9q1a8fy5cspUaJEpuvw9/fn559/ZuLEiSxZsoQFCxYQEBBA1apVGTt2bNIXm9Lj4YcfZtCgQSxatIhPP/0Uy7JuGmb9/Px48MEH+eyzz2jVqlWK1/bggw9y5MgR5s6dy/nz5wkKCqJ58+YZrtGdZs2aRYMGDfjggw949dVXyZcvH+XLl6dbt27ceeed7i5PRLKRtrMVEREREY+lObMiIiIi4rEUZkVERETEYynMioiIiIjHUpgVEREREY+lMCsiIiIiHkthVkREREQ8Vp5bZ9bhcHDy5EkKFy6c7u0iRURERMT1LMvi0qVLlCpVCi+vG4+95rkwe/LkSUJDQ91dhoiIiIjcxN9//02ZMmVueE6eC7OFCxcGTOcEBAS4/Hp2u50ff/wxabtFcQ31s+upj11Pfex66mPXUx+7Xl7o48jISEJDQ5Ny243kuTCbOLUgICAg28Ksv78/AQEBufYNlxOon11Pfex66mPXUx+7nvrY9fJSH6dlSqi+ACYiIiIiHkthVkREREQ8lsKsiIiIiHisPDdnNi0syyI+Pp6EhIRMP5fdbidfvnxcuXIlS55PUpeZfvb29iZfvnxaqk1ERMQDKcxeIy4ujlOnThEdHZ0lz2dZFiVLluTvv/9WWHKhzPazv78/ISEh5M+f3wXViYiIiKsozF7F4XBw+PBhvL29KVWqFPnz5890AHU4HERFRVGoUKGbLvorGZfRfrYsi7i4OM6dO8fhw4epUqWK/p5EREQ8iMLsVeLi4nA4HISGhuLv758lz+lwOIiLi8PPz08hyYUy088FChTAx8eHo0ePJj2HiIiIeAalq1QodOY9+jsXERHxTPoJLiIiIiIeS2FWRERERG7sjz9gxgx3V5EqhVnxKHPmzKFNmzbpesz58+cpUaIEx48fd1FVIiIiudTOndC5M9SqBYMGwZ9/uruiFBRmc5HTp08zaNAgKlasiK+vL6GhoXTo0IGVK1e6u7QbstlsfP311zc978qVK4wcOZLRo0enuO/48eOUKFGCOnXqpLgvKCiIHj16pPo4ERERScXWrdCxI9StC0uWgGXBQw9BDvyOSc6rSDLkyJEjNGjQgFWrVjF16lR27drFihUraNmyJQMGDMjw8yZuIHGtuLi4zJSbIV9++SUBAQHceeedKe77+OOP6dixI5GRkfz6668p7u/duzefffYZFy5cyI5SRUREPNPGjXD//dCwISxdCjabGZndsQO++gqqVnV3hSkozN6MZcHly+65WVaay3z22Wex2Wz89ttvPPLII1StWpVatWoxZMgQNm3aBJjAa7PZ2L59e9LjwsPDsdlsrFmzBoA1a9Zgs9lYvnw5DRo0wNfXl3Xr1tGiRQsGDhzIc889R1BQEG3btgVg9+7dtGvXjkKFChEcHEz37t05f/580vO3aNGCwYMHM3ToUIoVK0bJkiUZM2ZM0v3ly5cH4P/+7/+w2WxJx6lZtGgRHTp0SOWvyGL+/Pl06dKFrl27MmfOnBTn1KpVi1KlSvHVV1+lsUdFRETyCMuCNWvg3nuhaVNYvtyMwHbrBnv2wOLFkMpvPnMKhdmbiY6GQoUyfPMKCKBomTJ4BQSk//Fp3IXswoULrFixggEDBlCwYMEU9xctWjTdL/uVV15h8uTJ/PHHH0m/uv/444/Jnz8/69evZ9asWYSHh3PPPfdQv359tmzZwooVKzhz5gydO3d2eq6PP/6YggUL8uuvvzJlyhTGjRtHWFgYAJs3bwZg3rx5nDp1Kuk4NevWraNhw4Yp2levXk10dDQtWrTgiSeeYNGiRVy+fDnFeY0aNeKXX35Jd1+IiIjkSpYFP/4IzZpBy5awahXkywd9+sC+ffDJJ1CjhrurvCltmpALHDx4EMuyqF69epY957hx42jdurVTW5UqVZgyZUrS8fjx46lfvz4TJ05Maps7dy6hoaHs37+fqv/+KqJOnTpJ81WrVKnCe++9x8qVK2ndujXFixcHTOAuWbLkdesJDw8nIiKCUqVKpbhvzpw5dOnSBW9vb2rXrk3FihVZsmQJvXr1cjqvVKlSbNu2LX0dISIikttYFnz/PYwfD4lT8/LnNyH25ZehXDn31pdOCrM34+8PUVEZfrjD4SAyMpKAgID0L8yfxl3IrHRMR0ir1EZAGzRo4HS8Y8cOVq9eTaFChVKc+9dffzmF2auFhIRw9uzZdNUTExMDkGJ3rvDwcP73v/+xdu3apLZu3boxZ86cFGG2QIECRKdxtFtERCTXcTjg669NiE0c3PHzg/794aWXoHRpt5aXUe4Ns++/b25HjpjjWrVg1Cho1+76j1myBEaONI+pUgVef91MVHYVmw1S+dV9mjkckJBgnsNF3wCsUqUKNpuNP2+yXEZimL46/Nrt9lTPTW26wrVtUVFRdOjQgddffz3FuSEhIUl/9vHxcbrPZrPhcDhuWOu1brnlFmw2GxcvXnRqX7hwIVeuXKFJkyZJbZZl4XA4nEaHwUzHSBwJFhERyTMSEkx+Gj/ezIEFk0uefRZeeAGCg91bXya5d85smTIwebJZ/mHLFrjnHrPsQ2JHX2vDBuja1QyDb9tmlozo2BF2787OqnOcYsWK0bZtW2bMmJHqXNHw8HCApCB36tSppPuu/jJYet12223s2bOH8uXLU7lyZadbamH4enx8fEhISLjhOfnz56dmzZrs3bvXqX3OnDm88MIL/P7776xdu5bff/+dHTt2cPfddzN37lync3fv3k39+vXT/gJFREQ8WXw8fPwx1Kxp8tOePRAQAMOHm0HBKVM8PsiCu0dmr/1m+oQJZqR20yYzSnutt9+G++4zQ+EAr70GYWHw3nswa1aql4iNjSU2NjbpODIyEjAjkteOStrt9qRRvfSOHF5P4iho4vO6yrvvvsvdd99No0aNGDNmDHXq1CE+Pp6ffvqJWbNmsWfPHnx9fbnjjjuYPHky5cqV4+zZs4wYMQIg6TUn1phaH1z7Gp555hk+/PBDHnvsMV566SWKFSvGwYMHWbx4MR9++CHe3t6pPs6yLKe28uXL89NPP9GkSRN8fX0JDAxM9TW2adOGX375hcGDBwMmiP/+++988sknVKtWjUuXLlG4cGFsNhtdunRh/PjxjBs3jnz58hEdHc3WrVsZP358qn8PDocDy7Kw2+1JdYuzxP9frjeaL5mnPnY99bHrqY9d76Z9HBeH7ZNP8J4yBdvhwwBYgYE4Bg/GMWAAJH4xPAf/HaXn/ZNz5swmDoFfvgxX/crYycaNMGSIc1vbtmb+x3VMmjSJsWPHpmj/8ccf8b9mTmq+fPkoWbIkUVFRWb6O6qVLl7L0+a4VFBTE6tWrmTZtGi+88AJnzpwhKCiIunXrMnXq1KQQ/9ZbbzFo0CBuv/12KleuzNixY3n44YeJjo4mMjIyaU7ppUuXnOb4xsfHExcXl/Q8AIUKFWL58uWMGTOGtm3bEhcXR2hoKPfeey9RUVHYbLZUHxcfH4/dbk9qGzt2LCNGjOCjjz4iJCSEnTt3pvoaO3fuzD333MPff/9NkSJFmDVrFtWrV6dUqVJJ/Zv431atWjF48GC+/PJL7r//fr788kvKlClD3bp1nWpJFBcXR0xMDGvXrk11XV1JlrgShbiO+tj11Meupz52vWv72CsujnI//UTl//0P/3+XyYwtUoSDDz3EkXbtiC9QwPyW2wOk5zsuNssV3x5Kj127THi9csUsR7Vw4fXnwObPb4bLu3ZNbps5E8aOhTNnUn1IaiOzoaGhnD9/noCAAKdzr1y5wt9//0358uVTfNEooyzLchoxlMzp3Lkzt912G6+88opT+836uWnTpgwcOJDHH3881ee9cuUKR44cITQ0NMv+7nMbu91OWFgYrVu3TjEPWrKG+tj11Meupz52vRR9HB2N14cf4jV9OrZ/pxJaISE4hgzB0bdv5r774yaRkZEEBQURERGRIq9dy/0js9WqwfbtEBEBX34JPXvCzz+b+R1ZwNfXF19f3xTtPj4+Kf4nS0hIwGaz4eXllf6VB64j8Vfaic8rmfPGG2/w7bffpujLG/Xz+fPnefjhh3niiSeu+w8KLy8vbDZbqu8LcaY+cj31seupj11Pfex6Pleu4PPuuzBtGpw7ZxpDQ+Hll7H16YO3nx+eOnEuPe8d94fZ/PmhcmXz5wYNYPNmMzf2gw9SnluyZMoR2DNnTLvkCeXLl2fQoEHpekxQUBBDhw51UUUiIiLZLDycqosXk+/JJyFxm/aKFWHYMOjRw2SrPCTnDRU6HHDVtAAnTZrAypXObWFh159jKyIiIpJb/PMPjBhBvsqVqfH559guXICqVc0UzH37oG/fPBdkwd0js8OGmTVly5aFS5fMfNk1a+CHH8z9PXqYBXwnTTLH//kPNG9uhtMfeAAWLTJLes2e7baXICIiIuJSZ86Y7DNzJly+jA2ILFsW/wkTyNe1K+TxVXjcG2bPnjWB9dQpKFIE6tQxQTZxG9Vjx5w3Gmja1ATeESPg1VfNpglffw21a2dpWe7+TpxkP/2di4hIjnPyJEydaqZe/rsTJvXrE//KK6z28eH+9u3zfJAFd4fZOXNufP+aNSnbOnUyNxdInGwcHR1NgQIFXHINyZkSlwDRlxVERMTtjh0zO5zOmZM89bJxY7MD6v33Y8XHw7Jl7q0xB3H/F8ByEG9vb4oWLcrZs2cB8Pf3z/RyWg6Hg7i4OK5cuaLVDFwoo/1sWRbR0dGcPXuWokWLasMEERFxn8OHzdTK+fOTNzS46y4TYlu3Bi3xmSqF2WuU/HdlhMRAm1mWZRETE0OBAgW0zqwLZbafixYtmvR3LyIikq0OHICJE+GTT8wmUgAtW8KoUea7QsoPN6Qwew2bzUZISAglSpTIkq347HY7a9eupVmzZvoVtgtlpp99fHw0IisiItnvjz9gwgT4/HOzmhOYnU1HjoQ773RvbR5EYfY6vL29syTgeHt7Ex8fj5+fn8KsC6mfRUTEY+zaBePHw5IlkPgF5PbtTYht1Mi9tXkghVkRERGR7LBtG7z2Gnz1VXLb//2fWaXpttvcV5eHU5gVERERcaXffjMh9rvvzLHNZlZmGjECbr3VvbXlAgqzIiIiIq6wfr0JsYmbQXl5QdeuMHw41Kjh3tpyEYVZERERkaxiWfDzzzBuHKxebdq8vaF79+QNnyRLKcyKiIiIZJZlwU8/mRC7bp1p8/GBXr3glVegYkW3lpebKcyKiIiIZJRlwfLlJsT++qtpy58f+vaFl1+GsmXdW18eoDArIiIikl6WBd98Y+bEbt1q2vz84Omn4aWXoFQp99aXhyjMioiIiKSVwwH//a9ZJ3bnTtNWsCA8+yy88AIEB7u3vjxIYVZERETkZhIS4IsvTIjdu9e0FS4MgwbB889DUJB768vDFGZFREREric+Hj77DCZOhP37TVvRovCf/8DgwVCsmFvLE4VZERERkZTi4mDBApg0CQ4dMm3FisGQITBwIBQp4t76JInCrIiIiEii2FiYOxcmT4Zjx0xb8eLw4ovwzDNmaoHkKAqzIiIiIjEx8OGH8PrrcPKkaStZEoYOhaeeMl/ykhxJYVZERETyrsuXYdYsmDoVzpwxbWXKmDVi+/SBAgXcW5/clMKsiIiI5D2XLsGMGTBtGpw/b9rKlYNhw8yuXb6+bi1P0k5hVkRERPKO8HB491148024eNG0VaoEw4dDt25mC1rxKAqzIiIikvv98w+89Ra88w5ERpq2atVgxAh47DHIp0jkqfQ3JyIiIrnXuXNmKsGMGRAVZdpq1YKRI+HRR8Hb2731SaYpzIqIiEjuc+oUvPGG+XJXdLRpq1fPhNiOHcHLy53VSRZSmBUREZHc4/hxmDLFLLN15Yppu/12E2Lbtwebzb31SZZTmBURERHPd/So2ehg7lyzexdA06YmxLZtqxCbiynMioiIiOf66y+z5ezHH0N8vGlr3hxGjYKWLRVi8wCFWREREfE8+/bBxInw2WeQkGDaWrUyI7HNmrm3NslWCrMiIiLiOfbsgQkTYPFicDhMW7t2JsQ2aeLe2sQtFGZFREQk59uxA8aPhy+/TG578EETYhs2dF9d4nYKsyIiIpJzbdkCr70G33yT3PbII2azg3r13FaW5BwKsyIiIpLzbNxoQuzy5ebYZjM7dQ0fbjY9EPmXwqyIiIjkHL/8AuPGwU8/mWNvb3jiCXj1VbP9rMg1FGZFRETEvSwLVq82Ifbnn01bvnzQsycMGwaVKrm3PsnRFGZFRETEPSwLfvzRhNgNG0xb/vzw5JPw8stQvrxbyxPP4N6NiSdNMlvMFS4MJUqYvZL37bvxY+bPN/Nmrr75+WVHtSIiIpIVLAu+/RYaN4b77jNB1s8PBg0ymyC8/76CrKSZe0dmf/4ZBgwwgTY+3syHadMG9u6FggWv/7iAAOfQq909REREcj6HA77+2iyxtW2baStQAJ55Bl58EUJC3FqeeCb3htkVK5yP5883I7Rbt9549w6bDUqWTNMlYmNjiY2NTTqOjIwEwG63Y7fb01txuiVeIzuulZepn11Pfex66mPXUx+7Xqp9nJCA7b//xXvSJGx79gBgFSqE4+mncTz3nPnZbx6UzdV6przwPk7Pa7NZlmW5sJb0OXgQqlSBXbugdu3Uz5k/H/r2hdKlzb/wbrvNbGd3nWU6xowZw9ixY1O0L1y4EH9//ywsXkRERK5mS0ig9C+/UPXLLyl8/DgAdn9/Dj3wAH916IA9IMDNFUpOFR0dzeOPP05ERAQBN3mf5Jww63CYnTzCw2Hduuuft3EjHDgAdepARAS88QasXWu2tytTJsXpqY3MhoaGcv78+Zt2Tlaw2+2EhYXRunVrfHx8XH69vEr97HrqY9dTH7ue+tj17HY7Py1fTttz58g/bRq2gwcBsAIDcQwahGPgQCha1L1Feri88D6OjIwkKCgoTWE256xmMGAA7N594yALZt/lq/debtoUatSADz4wiytfw9fXF19f3xTtPj4+2foGyO7r5VXqZ9dTH7ue+tj11McuEheHbcEC7h09Gt+zZ01bUBC88AK2Z5/FOyAAb/dWmKvk5vdxel5XzgizAwfCd9+ZEdZURldvyMcH6tc3UxREREQk+8XGwty5MGkS+f7+m3yAFRyM7aWX4Omnb/ylbpFMcm+YtSyzDMdXX8GaNVChQvqfIyHBzLG9//4sL09ERERuICYGPvoIXn8dTpwAwCpVit3t2lF9+nR8NCdWsoF715kdMAA+/RQWLjRrzZ4+bW4xMcnn9Ohhdv9ING6cWWD50CH4/Xfo1g2OHjVfChMRERHXi46GN9+EihVh8GATZMuUgRkziP/zTw516GCW3BLJBu4dmX3/ffPfFi2c2+fNg169zJ+PHQOvqzL3xYvQr58JvYGB0KCBWWy5Zs3sqFhERCTvioqCWbNg6lRInBNbtqxZJ75XL/D11fJaku3cP83gZtascT5+801zExERkexx6RLMmAHTpsH586atQgUYPhy6dzdb0Iq4Sc74ApiIiIjkPBER8N57MH06XLhg2ipXNiH2iSfMl7BF3ExhVkRERJxdvAjvvANvvWXWfweoVg1GjIDHHoN8ig+Sc+jdKCIiIsY//5gA+8478O/279SsCSNHQqdO4K1VYiXnUZgVERHJ686fN1MJ3n3XfMkLzLbyo0bBI484fxFbJIdRmBUREcmrzpwxX+qaORMuXzZt9eqZEPvQQwqx4hEUZkVERPKaU6fM8lqzZiWv7d6ggQmxHTqAzebe+kTSQWFWREQkrzhxAqZMgdmz4coV09aoEYweDe3aKcSKR1KYFRERye2OHTNbzn70EcTFmbamTU2Ibd1aIVY8msKsiIhIbnXkCEyaZHbWTNyZ6+67TYi95x6FWMkVFGZFRERym0OHYOJE+PhjiI83bS1bmhDbvLl7axPJYgqzIiIiucWBAzBhAnz6KSQkmLbWrc06sXff7d7aRFxEYVZERMTT/fmnCbELF4LDYdratTMhtkkT99Ym4mIKsyIiIp5qzx4YPx4WLwbLMm3t25sltm6/3b21iWQThVkRERFPs3OnCbFffpkcYjt2NCOxt93m1tJEspvCrIiIiKfYtg1eew2++iq57dFHYcQIqFvXfXWJuJHCrIiISE63ZQuMGwfffmuObTbo3NmE2Nq13VubiJspzIqIiORUmzaZkdhly8yxlxd07QrDh0ONGu6tTSSHUJgVERHJadavNyOxP/5ojr29oVs3ePVVqFrVvbWJ5DAKsyIiIjnF2rUwdiysWmWO8+WDHj1g2DCoXNm9tYnkUAqzIiIi7mRZsHq1GYn9+WfT5uMDvXvDK69AhQrurU8kh1OYFRERcQfLgrAwE2LXrzdt+fNDnz4mxJYt6976RDyEwqyIiEh2sixYscKE2E2bTJuvLzz1FAwdCmXKuLc+EQ+jMCsiIpIdLAu++86E2C1bTJufHzz9tAmxISHurU/EQynMioiIuJLDAUuXmiW2tm0zbf7+8Oyz8MILULKke+sT8XAKsyIiIq7gcMD//mdC7M6dpq1QIRg4EIYMgeLF3VufSC6hMCsiIpKVEhJgyRITYvfuNW2FC8PgwfD883DLLe6tTySXUZgVERHJCvHxsHgxjB8Pf/5p2ooUgeeeg//8BwID3VqeSG6lMCsiIpIZ8fHw2WcwYQIcOGDaAgPNVIJBg0ygFRGXUZgVERHJCLsdFiyAiRPh0CHTdsst5ktdAwZAQIB76xPJIxRmRURE0iMuDubPNyH26FHTVrw4vPQSPPOM+ZKXiGQbhVkREZG0uHIF5s6FyZPh779NW3CwWSO2f38oWNC99YnkUQqzIiIiNxITAx9+CK+/DidPmrZSpeDll6FfPyhQwL31ieRxCrMiIiKpiY6GDz6AKVPg9GnTVqYMDBsGTz5pdu8SEbdTmBUREblaVBS8/z688QacPWvaypaFV1+FXr3A19et5YmIMy+3Xn3SJLj9drOYdIkS0LEj7Nt388ctWQLVq5t/Fd96Kyxb5vJSRUQkl7t0ycyHrVDBzIM9e9b8+aOPzJJb/fsryIrkQO4Nsz//bJYv2bQJwsLMMidt2sDly9d/zIYN0LUr9Olj9rju2NHcdu/OrqpFRCQ3iYgwGx2UL2+mEJw/D5Urw7x5ZoClTx/In9/dVYrIdbh3msGKFc7H8+ebEdqtW6FZs9Qf8/bbcN99ZgkUMNsFhoXBe+/BrFkuLVdERHKRixfhnXfgrbcgPNy0VasGI0bAY49BPs3EE/EEOev/1IgI899ixa5/zsaNZleVq7VtC19/nerpsbGxxMbGJh1HRkYCYLfbsdvtmak2TRKvkR3XysvUz66nPnY99bHr2e12fC5dglGjsGbOxPbvzwSrRg0SXn0V69FHwdsbLMv8tlDSTe9j18sLfZye12azLMtyYS1p53DAgw+afx2vW3f98/Lnh48/NlMNEs2cCWPHwpkzKU4fM2YMY8eOTdG+cOFC/P39s6BwERHxBD6RkVT69lsqfvcdPjExAESWLcu+zp052bQpeLl35p2IJIuOjubxxx8nIiKCgJvsppdzRmYHDDDzXm8UZDNg2LBhDLlqJDcyMpLQ0FDatGlz087JCna7nbCwMFq3bo2Pj4/Lr5dXqZ9dT33seupjFzl/Hq8338Tr/fexRUUB4KhdG8eIERTo2JF6Xl7Uc2+FuYrex66XF/o48TfpaZEzwuzAgfDdd7B2rVnD70ZKlkw5AnvmjGlPha+vL76pfPvUx8cnW98A2X29vEr97HrqY9dTH2eRc+fM8lozZiR9sdiqW5ff2rXjtjFj8NHKBC6l97Hr5eY+Ts/rcu/vVCzLBNmvvoJVq8wSKDfTpAmsXOncFhZm2kVERM6eNV8SLl/ebHhw+TLcdhssXUr8b79x+o47NKVAJBdJ98hseHg4X331Fb/88gtHjx4lOjqa4sWLU79+fdq2bUvTpk3T/mQDBsDChbB0qVlrNnGHlSJFkrcH7NEDSpc2a9IC/Oc/0Lw5TJsGDzwAixbBli0we3Z6X4qIiOQmp0/D1Klmw4N/58TSsCGMHm1+Xths+lKXSC6U5n+anjx5kr59+xISEsL48eOJiYmhXr163HvvvZQpU4bVq1fTunVratasyeLFi9P2pO+/b1YwaNECQkKSb1c//tgxOHUq+bhpUxOAZ8+GunXhyy/NSga1a6f1pYiISG5y6hQ8/7z57d706SbINmoE338Pv/0G7dubICsiuVKaR2br169Pz5492bp1KzVr1kz1nJiYGL7++mveeust/v77b1588cUbP2laFlJYsyZlW6dO5iYiInnXyZPw+utmcOPKFdN2xx1mJLZtWwVYkTwizWF279693HLLLTc8p0CBAnTt2pWuXbvyzz//ZLo4ERGRFI4fNyH2ww8hcR3xpk1NiG3dWiFWJI9J8zSDmwVZAIfDwXfffZfm80VERNLs77/h2WehUiWz62NsLNx9N/z0k1nWsU0bBVmRPChLluY6ePAgc+fOZf78+Zw7dy5X70ghIiLZ7OhR8yXguXOTv8DVvLkZiW3RQgFWJI/L8NokMTExLFiwgGbNmlGtWjU2bNjAqFGjOH78eFbWJyIiedWRI/DUU1ClCnzwgQmyLVua71KsWWP+rCArkuele2R28+bNfPTRRyxatIhKlSrxxBNPsGHDBmbOnHndL4aJiIik2aFDMHGi2bo8Pt603XuvGYm9+2731iYiOU66wmydOnWIjIzk8ccfZ8OGDdSqVQuAV155xSXFiYhIHvLXXzBhAixYAAkJpq11axNi77zTvbWJSI6VrmkG+/bto1mzZrRs2VKjsCIikjUOHIBevaBaNZg3zwTZtm1hwwb48UcFWRG5oXSF2UOHDlGtWjWeeeYZypQpw4svvsi2bduwac6SiIik17590L07VK9uphQkJEC7drBpE6xYoW3KRSRN0hVmS5cuzfDhwzl48CCffPIJp0+f5s477yQ+Pp758+ezf/9+V9UpIiK5xZ9/whNPQM2a8Omn4HCY7WZ//RWWLYPGjd1doYh4kAyvZnDPPffw6aefcurUKd577z1WrVpF9erVqVOnTlbWJyIiucXevdC1qwmxCxeaENuhA2zeDN99Z7agFRFJpwyH2URFihTh2WefZcuWLfz++++0aNEiC8oSEZFcY/du6NIFateGRYvMVuYdO8Lvv8M330DDhu6uUEQ8WJZsmpCoXr16vPPOO1n5lCIi4ql27YJx4+DLL5PbHn4YRo6EevXcVpaI5C5pHpm977772LRp003Pu3TpEq+//jozZszIVGEiIuKhduyARx6BOnWSg+yjj5r2//5XQVZEslSaR2Y7derEI488QpEiRejQoQMNGzakVKlS+Pn5cfHiRfbu3cu6detYtmwZDzzwAFOnTnVl3SIiktNs2wZjx8LSpebYZoNOncxIbO3a7q1NRHKtNIfZPn360K1bN5YsWcLixYuZPXs2ERERANhsNmrWrEnbtm3ZvHkzNWrUcFnBIiKSw2zdakLst9+aY5vNzJEdOdJ82UtExIXSNWfW19eXbt260a1bNwAiIiKIiYnhlltuwcfHxyUFiohIDrV5swmx339vjr284LHHYMQI0KCGiGSTTH0BrEiRIhQpUiSrahEREU/w668mxC5fbo69vMy6scOHm128RESyUZauZiAiIrnYxo0mxP7wgzn29oZu3UyIrVLFvbWJSJ6lMCsiIje2fr0JsWFh5tjbG3r0gFdfhcqV3VubiOR5CrMiIpK6X34xIXblSnOcLx/07GlCbMWK7q1NRORfCrMiIuJszRoTYtesMcf58kHv3ibEli/vxsJERFLK0Ha2FStW5J9//knRHh4eTkX9a11ExPNYFqxeDS1aQMuWJsj6+ED//nDwIMyerSArIjlShkZmjxw5QkJCQor22NhYTpw4kemiREQkm1iWmUYwbpyZVgCQPz/07Qsvvwxly7q3PhGRm0hXmP3mm2+S/vzDDz84LcuVkJDAypUrKa9/uYuI5HyWZb7QNXYsbNhg2nx9oV8/E2LLlHFvfSIiaZSuMNuxY0fA7PjVs2dPp/t8fHwoX74806ZNy7LiREQki1mWWVpr7FjYtMm0+fqa6QRDh0Lp0u6tT0QkndIVZh0OBwAVKlRg8+bNBAUFuaQoERHJYpZlNjkYN85segDg5wdPP21CbEiIe+sTEcmgDM2ZPXz4cFbXISIirmBZZrvZsWNhyxbTVqAAPPMMvPQSlCzp3vpERDIpw0tzrVy5kpUrV3L27NmkEdtEc+fOzXRhIiKSCZYF335rRmK3bjVt/v7w7LPw4osQHOze+kREskiGwuzYsWMZN24cDRs2JCQkBJvNltV1iYhIRjgcsHSpCbHbt5u2ggVhwAB44QUoUcKt5YmIZLUMhdlZs2Yxf/58unfvntX1iIhIRjgc8NVXJsTu3GnaChWCQYNgyBDQdxxEJJfKUJiNi4ujadOmWV2LiIikl8MB//0vvPYa7Npl2goXhsGD4fnn4ZZb3FufiIiLZWgHsL59+7Jw4cKsrkVERNIqIQEWL4Y6daBzZxNkAwJg5Eg4cgTGj1eQFZE8IUMjs1euXGH27Nn89NNP1KlTBx8fH6f7p0+fniXFiYjINRIS4IsvzEjsH3+YtiJF4Lnn4D//gcBAt5YnIpLdMhRmd+7cSb169QDYvXu30336MpiIiAskJMCiRWbE9c8/TVvRomYqweDB5s8iInlQhsLs6tWrs+bqa9fC1Klm2ZhTp8yXF/7dZSxVa9ZAy5Yp20+d0lqJIpI7xcfD55+bELt/v2kLDDRf6ho0yIzKiojkYRleZxbg4MGD/PXXXzRr1owCBQpgWVb6RmYvX4a6deHJJ+Hhh9P+uH37zNywRFpqRkRym/h4WLjQTCc4eNC0FStmltcaOND5M1BEJA/LUJj9559/6Ny5M6tXr8Zms3HgwAEqVqxInz59CAwMZNq0aWl7onbtzC29SpTQr9REJFeyJSRgW7AAJk9ODrG33GI2OhgwwKxUICIiSTIUZp9//nl8fHw4duwYNWrUSGrv0qULQ4YMSXuYzah69SA2FmrXhjFj4M47r3tqbGwssbGxSceRkZEA2O127Ha7a+v89zpX/1dcQ/3seupjF4uPx7FgAfeMGUO+06cBsIKCcAwZguPpp82asQDq/0zR+9j11Meulxf6OD2vzWZZlpXeC5QsWZIffviBunXrUrhwYXbs2EHFihU5dOgQderUISoqKr1PCTbbzefM7ttn5s02bGjC7EcfwSefwK+/wm23pfqQMWPGMHbs2BTtCxcuxN/fP/11iohkIVtCAmXWrKHqkiUU+jfExgYEcPD//o/D991HQoECbq5QRCT7RUdH8/jjjxMREUHATaZVZWhk9vLly6kGwQsXLuDr65uRp0ybatXMLVHTpvDXX/DmmybUpmLYsGEMGTIk6TgyMpLQ0FDatGlz087JCna7nbCwMFq3bp1iCTPJOupn11MfZzG7HdvChXhPmoTt0CHAjMTufeABKkyZQtXAQKq6ucTcSO9j11Mfu15e6OPE36SnRYbC7N13382CBQt47bXXALMcl8PhYMqUKbRMbbUBV2rUCNatu+7dvr6+qQZsHx+fbH0DZPf18ir1s+upjzPJbjf/+B4/Hg4fNm3Fi8PQocT37cvBn3+mamCg+tjF9D52PfWx6+XmPk7P68pQmJ0yZQr33nsvW7ZsIS4ujqFDh7Jnzx4uXLjA+vXrM/KUGbd9O4SEZO81RUTSK7UQW6IEDB0KTz8NBQtqPqyISAZkKMzWrl2b/fv3895771G4cGGioqJ4+OGHGTBgACHpCZZRUcnf1gXzAb99u1l+pmxZGDYMTpyABQvM/W+9BRUqQK1acOWKmTO7ahX8+GNGXoaIiOvZ7eYzbMIE5xD78ssmxGruvohIpqQ7zNrtdu677z5mzZrF8OHDM3f1LVucN0FInNvasyfMn282Qzh2LPn+uDizxuKJE+YHQJ068NNPqW+kICLiTnY7fPyxCbFHjpg2hVgRkSyX7jDr4+PDzp07s+bqLVrAjRZTmD/f+XjoUHMTEcmp4uJMiJ04MTnEBgebENu/v0KsiEgW88rIg7p168acOXOyuhYREc8VFwcffghVq8JTT5kgGxxsVls5dAief15BVkTEBTI0ZzY+Pp65c+fy008/0aBBAwoWLOh0//Tp07OkOBGRHC8uzvwWacKE5GlRJUuakdinnlKAFRFxsQyF2d27d3Pbv5sU7N+/3+k+m82W+apERHK6uDiYN89MJ7g6xL7yigmx2uxARCRbpDvMJiQkMHbsWG699VYCAwNdUZOISM6VWogNCTEhtl8/hVgRkWyW7jmz3t7etGnThvDwcBeUIyKSQ8XGwqxZULmyWY3g2DETYt9+2+xEOHiwgqyIiBtkeJ3ZQ4cOUaFChayuR0QkZ4mNhblzzUjs8eOmLSTErIPdrx/4+bm3PhGRPC5DqxmMHz+eF198ke+++45Tp04RGRnpdBMR8XixsfD++2Yk9tlnTZAtVQrefdesTjBokIKsiEgOkKGR2fvvvx+ABx980OkLX5ZlYbPZSEhIyJrqRESyW2wszJkDkyYlj8SWLm3mxPbtqwArIpLDZCjMrl69OqvrEBFxrytXkkPsiROmrXRpM52gTx+FWBGRHCpDYbZ58+ZZXYeIiHtcL8S++io8+aRCrIhIDpehMLt27dob3t+sWbMMFSMikm2uXIGPPjIh9uRJ01amTPJIrK+ve+sTEZE0yVCYbdGiRYq2q+fOas6siORYV66YbWcnT3YOsYkjsQqxIiIeJUNh9uLFi07Hdrudbdu2MXLkSCZMmJAlhYmIZKmYGBNiX389OcSGhpoQ27u3QqyIiIfKUJgtUqRIirbWrVuTP39+hgwZwtatWzNdmIhIlkgMsZMnw6lTpi00FIYPh169FGJFRDxchsLs9QQHB7Nv376sfEoRkYyJiYHZs02IPX3atCnEiojkOhkKszt37nQ6tiyLU6dOMXnyZOrVq5cVdYmIZExMDHzwgZlOkBhiy5ZNDrH587u1PBERyVoZCrP16tXDZrNhWZZT+x133MHcuXOzpDARkXRJLcSWK2dCbM+eCrEiIrlUhsLs4cOHnY69vLwoXrw4flqPUUSyW3R0cog9c8a0KcSKiOQZGQqz5cqVy+o6RETSJzoaZs2CKVOSQ2z58ibE9uihECsikkd4pefkVatWUbNmTSIjI1PcFxERQa1atfjll1+yrDgRkRSio2H6dKhQAV54wQTZ8uXNBgj790PfvgqyIiJ5SLrC7FtvvUW/fv0ICAhIcV+RIkXo378/06dPz7LiRESSXL4M06Ylh9izZ82fE0Nsnz7g4+PuKkVEJJulK8zu2LGD++6777r3t2nTRmvMikjWunwZ3njDBNcXX0wOsXPmwL59CrEiInlcuubMnjlzBp8b/NDIly8f586dy3RRIiJcvgwzZ8LUqZD4uVKxIowYAd26KcCKiAiQzjBbunRpdu/eTeXKlVO9f+fOnYSEhGRJYSKSRynEiohIOqRrmsH999/PyJEjuXLlSor7YmJiGD16NO3bt8+y4kQkD4mKMisTlC8PQ4eaIFupEsybB3/+Cb17K8iKiEgK6RqZHTFiBP/73/+oWrUqAwcOpFq1agD8+eefzJgxg4SEBIYPH+6SQkUkl4qKghkzzLzY8+dNW6VKMHIkPPEE5MvSXbdFRCSXSddPieDgYDZs2MAzzzzDsGHDknYAs9lstG3blhkzZhAcHOySQkUkl0kMsVOnwj//mLbKlc10AoVYERFJo3T/tChXrhzLli3j4sWLHDx4EMuyqFKlCoGBga6oT0Rym0uXkkdirw6xI0fC448rxIqISLpk+KdGYGAgt99+e1bWIiK52aVL8N57JsReuGDaqlQxIbZrV4VYERHJEP30EBHXul6IHTUKHntMIVZERDJFP0VExDUiI02InTYtOcRWrWpGYhViRUQki+iniYhkrchIePddE2IvXjRtVasmj8R6e7u3PhERyVUUZkUka0RGwjvvwPTpySG2WjUTYrt0UYgVERGXUJgVkcyJiDAjsQqxIiLiBunaASzLrV0LHTpAqVJgs8HXX9/8MWvWwG23ga+vWc5n/nwXFykiqYqIgPHjoUIFMw/24kWoXh0WLoQ9e8wyWwqyIiLiYu4Ns5cvQ926Zs3JtDh8GB54AFq2hO3b4bnnoG9f+OEHV1YpIleLjEwZYmvUgM8/h927zTJbCrEiIpJN3DvNoF07c0urWbPMD9Bp08xxjRqwbh28+Sa0beuaGkXEiIyk6pIl5OvdO3k6QfXqZjpB584KsCIi4haeNWd240Zo1cq5rW1bM0J7HbGxscTGxiYdR0ZGAmC327Hb7a6o0kniNbLjWnmZ+tmFIiPxmjGDfG+9RY1/Q6xVrRoJw4djdepkQqzDYW6SKXofu5762PXUx66XF/o4Pa/Ns8Ls6dMQHOzcFhxsfu0ZEwMFCqR4yKRJkxg7dmyK9h9//BF/f39XVZpCWFhYtl0rL1M/Z518MTFU+O47Kn/zDd6XLgFwqXRp9nXuzIm77jIhVlN8XELvY9dTH7ue+tj1cnMfR0dHp/lczwqzGTBs2DCGDBmSdBwZGUloaCht2rQhICDA5de32+2EhYXRunVrfHx8XH69vEr9nIUuXcJr5ky83nwT27+bHVhVqxL3yiusKlKE1vfdR131sUvofex66mPXUx+7Xl7o48TfpKeFZ4XZkiXhzBnntjNnICAg1VFZAF9fX3x9fVO0+/j4ZOsbILuvl1epnzPh0iXzZcw33oB//jFt/252YHvsMbwcDli2TH2cDdTHrqc+dj31sevl5j5Oz+vyrDDbpAksW+bcFhZm2kUkY6KizLazV4fYKlWSd+xK3HZWc2JFRCQHcm+YjYqCgweTjw8fNktuFSsGZcvCsGFw4gQsWGDuf/pp80N36FB48klYtQq++AK+/94t5Yt4tKgoMxI7dapziB050iyvlc+z/q0rIiJ5k3t/Wm3ZYtaMTZQ4t7VnT7MZwqlTcOxY8v0VKpjg+vzz8PbbUKYMfPSRluUSSY+oKJg504TY8+dNW+XKZiRWIVZERDyMe39qtWgBlnX9+1Pb3atFC9i2zUUFieRily+bEDtlinOIHTnS7NalECsiIh5IP71EcrvEEDt1Kpw7Z9oqVTIh9oknFGJFRMSj6aeYSG51+TK8/74ZiU0MsRUrmhDbrZtCrIiI5Ar6aSaS20RHJ4fYs2dNW2KIfeIJyKXLuIiISN6kMCuSW0RHw6xZ8PrrySG2QoXkkViFWBERyYUUZkU83fVC7IgR0L27QqyIiORqCrMinio6Gj74wITYxJ3xypc3IbZHD4VYERHJExRmRTxNTExyiD192rQpxIqISB6lMCviKWJiYPZsmDw5OcSWK5ccYvPnd299IiIibqAwK5LTXS/EDh9udstTiBURkTxMYVYkp4qJgQ8/NCH21CnTVrasCbG9einEioiIoDArkvNcuWJC7KRJCrEiIiI3oTArklNcuQIffWRC7MmTpi001ITY3r0VYkVERFKhMCvibtcLsa++akKsr6976xMREcnBFGZF3OXKFZgzx4TYEydMW5kyJsQ++aRCrIiISBoozIpkt9hYE2InTlSIFRERySSFWZHsEhsLc+eaEHv8uGkrXdqE2D59FGJFREQyQGFWxNWuF2KHDYO+fRViRUREMkFhVsRVYmNh3jwTYv/+27SVKpU8Euvn5976REREcgGFWZGsFhdnQuyECc4hNnEkViFWREQkyyjMimSVuDiYP9+E2GPHTFtIiAmx/fopxIqIiLiAwqxIZl0vxL7yCjz1lEKsiIiICynMimRUXBx8/LEJsUePmraSJZNHYgsUcG99IiIieYDCrEh62e3JIfbIEdNWsmTySKxCrIiISLZRmBVJK7sdFiyA8eOTQ2xwsAmx/fsrxIqIiLiBwqzIzVwvxL78sgmx/v5uLU9ERCQvU5gVuR67HT75xITYw4dNm0KsiIhIjqIwK3Itux0+/dSE2EOHTFuJEibEPv20QqyIiEgOojArkig+PjnE/vWXaStRAoYONSG2YEH31iciIiIpKMyKpBZiixc3IfaZZxRiRUREcjCFWcm74uPhs8/gtdcUYkVERDyUwqzkPfHxsHChCbEHD5q2oCATYp99ViFWRETEgyjMSt4RHw+ff25C7IEDpi0oCF56yYTYQoXcW5+IiIikm8Ks5H6phdhbbjEhdsAAhVgREREPpjAruVdCQnKI3b/ftCnEioiI5Cpe7i4AgBkzoHx58PODxo3ht9+uf+78+WCzOd/8/LKrUvEECQnmi101a0L37ibIFisGkyaZzQ9efllBVkREJJdw/8js4sUwZAjMmmWC7FtvQdu2sG+fWeMzNQEB5v5ENlu2lCo5XEICts8/h4kTk98fxYrBiy/CwIFQuLB76xMREZEs5/4wO3069OsHvXub41mz4PvvYe5ceOWV1B9js0HJktlXo+RsDge2xYu5Z9gw8h0/btoCA02IHTRIIVZERCQXc2+YjYuDrVth2LDkNi8vaNUKNm68/uOioqBcOXA44LbbzEhcrVqpnhobG0tsbGzScWRkJAB2ux273Z4lL+NGEq+RHdfKcxwObP/7H97jx5Nv714KA1bRojieew7HwIFmBB/M9rSSaXovu5762PXUx66nPna9vNDH6XltNsuyLBfWcmMnT0Lp0rBhAzRpktw+dCj8/DP8+mvKx2zcaL6RXqcORETAG2/A2rWwZw+UKZPi9DFjxjB27NgU7QsXLsTf3z8rX41kF4eDkE2bqLZ4MUWOHgXA7u/PwYce4lD79sRrnVgRERGPFh0dzeOPP05ERAQBiYNT1+F5YfZadjvUqAFdu5pvrV8jtZHZ0NBQzp8/f9POyQp2u52wsDBat26Nj4+Py6+Xq1kWtqVL8X7tNWy7dpmmgAAcgwcT+8wzhG3erH52Ib2XXU997HrqY9dTH7teXujjyMhIgoKC0hRm3TvNICgIvL3hzBnn9jNn0j4n1scH6tdP3snpGr6+vvj6+qbyMJ9sfQNk9/VyFcuCb76BMWNg+3bTVrgwPPcctuefxzswEJ9/fx2hfnY99bHrqY9dT33seupj18vNfZye1+Xepbny54cGDWDlyuQ2h8McXz1SeyMJCbBrF4SEuKZGcR/Lgm+/hYYNoWNHE2QLFYLhw+HIERg3znzRS0RERPIs969mMGQI9OxpAkujRmZprsuXk1c36NHDTEWYNMkcjxsHd9wBlStDeDhMnQpHj0Lfvu56BZLVLAuWLTMjsVu2mLaCBc3KBC+8YEb0RURERMgJYbZLFzh3DkaNgtOnoV49WLECgoPN/ceOmRUOEl28aJbyOn3ajMo1aGDm3Nas6ZbyJQtZlvm7HzMmeeMMf3+zRuyLL0Lx4m4tT0RERHIe94dZMGFl4MDU71uzxvn4zTfNTXIPy4IffzQhdtMm01aggNly9qWXrr95hoiIiOR5OSPMSt5kWWZ+9OjRZnQdzNbEzz5rVrRIHJ0XERERuQ6FWcl+lgWrV5sQu26dafPzg6efhpdf1u5uIiIikmYKs5K91qwxIXbtWnPs6wv9+5uti7UihYiIiKSTwqxkj7VrTYhNnAOdPz889ZQJsaVLu7U0ERER8VwKs+Ja69aZELtqlTn28TGrUQwblur2wyIiIiLpoTArrrFxowmxYWHm2McHnnwSXn0VypZ1b20iIiKSayjMStb69VcTYn/4wRzny2c2wBg+HMqVc29tIiIikusozErW+O03s07s8uXm2NsbevUyIbZCBXdWJiIiIrmYwqxkztatZiT2++/Nsbe32YJ4xAioWNG9tYmIiEiupzArGfP772Yk9ttvzbGXF3TvbkJs5cpuLU1ERETyDoVZSZ/t202IXbrUHHt5wRNPwMiRUKWKOysTERGRPEhhVtJm504TYr/6yhzbbPD44ybEVqvm1tJEREQk71KYlRvbvduE2P/+1xzbbPDYYzBqFFSv7tbSRERERBRmJXV798LYsbBkCViWCbGdOpkQW6uWu6sTERERARRm5Vp//AHjxsHixSbEAjz6qFmxoHZt99YmIiIicg2FWTH27TMh9vPPk0Psww+bEFunjntrExEREbkOhdm8bv9+eO01WLgQHA7T1rGjCbH16rmzMhEREZGbUpjNqw4eNCH200+TQ+yDD5ove9Wv79bSRERERNJKYTavOXTIhNhPPoGEBNPWvr0JsQ0auLU0ERERkfRSmM0rDh+G8ePh44+TQ+z995sQe/vtbi1NREREJKMUZnO7I0dgwgSYPx/i401b27Zm2a3Gjd1ZmYiIiEimKczmVseOwcSJMHcu2O2mrXVrE2KbNHFvbSIiIiJZRGE2tzl+3ITYjz5KDrH33mtC7J13urc2ERERkSymMJtbnDgBkybBhx9CXJxpa9nShNi773ZvbSIiIiIuojDr6U6ehMmTYfZsiI01bc2amQ0Qmjd3b20iIiIiLqYw66lOnzYh9oMP4MoV03bXXWYktmVLsNncW5+IiIhINlCY9TRnzsDrr8P77yeH2KZNTYi9916FWBEREclTFGY9xdmzMGUKzJwJMTGm7Y47TIht3VohVkRERPIkhdmc7tw5mDoVZsyA6GjT1qiRCbFt2yrEioiISJ6mMJtT/fMPvPEGvPsuXL5s2ho2NCG2XTuFWBEREREUZnOeCxdg2jR45x2IijJtt91mQuwDDyjEioiIiFxFYTanuHgRpk+Ht9+GS5dMW/36MGYMdOigECsiIiKSCoVZdwsPhzffhLfegshI01a3rgmxDz2kECsiIiJyAwqz7hIRYQLsm2+aPwPUrm1C7P/9H3h5ubM6EREREY+QMxLTjBlQvjz4+UHjxvDbbzc+f8kSqF7dnH/rrbBsWbaUmSUiI2H8ePN6x4wxQbZWLfjiC9ixAx55REFWREREJI3cn5oWL4YhQ2D0aPj9d/Mr9rZtzbqqqdmwAbp2hT59YNs26NjR3Hbvzs6q0+/SJZg4ESpUgJEjzfSCGjVg0SLYuRM6dVKIFREREUkn96en6dOhXz/o3Rtq1oRZs8DfH+bOTf38t9+G++6Dl14yYfC118y3/d97L3vrTquoKKr897/kq1oVhg83qxVUrw4LF8KuXdCli0KsiIiISAa5d85sXBxs3QrDhiW3eXlBq1awcWPqj9m40YzkXq1tW/j661RPj42NJTY2Nuk48t8vWdntdux2e2aqTxOv//s/av78MwBWlSokDB+O1aULeHuDw2FukmmJf5fZ8XeaV6mPXU997HrqY9dTH7teXujj9Lw294bZ8+chIQGCg53bg4Phzz9Tf8zp06mff/p0qqdPmjSJsWPHpmj/8ccf8ff3z0jV6RLSpAk19+9nX+fOnGjWDMvbG374weXXzavCwsLcXUKupz52PfWx66mPXU997Hq5uY+jE3c9TYNcv5rBsGHDGHLVSG5kZCShoaG0adOGgIAAl1/f3qoVP91+O63uu486Pj4uv15eZbfbCQsLo3Xr1vion11Cfex66mPXUx+7nvrY9fJCHyf+Jj0t3Btmg4LMr9vPnHFuP3MGSpZM/TElS6brfF9fX3x9fVO0+/j4ZNsbwPL2ztbr5WXqZ9dTH7ue+tj11Meupz52vdzcx+l5Xe795lH+/NCgAaxcmdzmcJjjJk1Sf0yTJs7nA4SFXf98EREREcm13D/NYMgQ6NkTGjaERo3MRgKXL5vVDQB69IDSpWHSJHP8n/9A8+YwbRo88IBZ2mrLFpg9220vQURERETcw/1htksXOHcORo0yX+KqVw9WrEj+ktexY85LVzVtapa1GjECXn0VqlQxKxnUru2O6kVERETEjdwfZgEGDjS31KxZk7KtUydzExEREZE8Tav1i4iIiIjHUpgVEREREY+lMCsiIiIiHkthVkREREQ8lsKsiIiIiHgshVkRERER8Vg5Y2mubGRZFpC+PX8zw263Ex0dTWRkZK7dci4nUD+7nvrY9dTHrqc+dj31sevlhT5OzGmJue1G8lyYvXTpEgChoaFurkREREREbuTSpUsUKVLkhufYrLRE3lzE4XBw8uRJChcujM1mc/n1IiMjCQ0N5e+//yYgIMDl18ur1M+upz52PfWx66mPXU997Hp5oY8ty+LSpUuUKlUKL68bz4rNcyOzXl5elClTJtuvGxAQkGvfcDmJ+tn11Meupz52PfWx66mPXS+39/HNRmQT6QtgIiIiIuKxFGZFRERExGMpzLqYr68vo0ePxtfX192l5GrqZ9dTH7ue+tj11Meupz52PfWxszz3BTARERERyT00MisiIiIiHkthVkREREQ8lsKsiIiIiHgshVkRERER8VgKs9eYMWMG5cuXx8/Pj8aNG/Pbb7/d8PwlS5ZQvXp1/Pz8uPXWW1m2bJnT/ZZlMWrUKEJCQihQoACtWrXiwIEDTudcuHCBJ554goCAAIoWLUqfPn2IiopyOmfnzp3cfffd+Pn5ERoaypQpU7LmBbtBTuzjI0eOYLPZUtw2bdqUdS88G7mjjydMmEDTpk3x9/enaNGiqV7n2LFjPPDAA/j7+1OiRAleeukl4uPjM/Va3Smn9nNq7+VFixZl6rW6S3b38ZEjR+jTpw8VKlSgQIECVKpUidGjRxMXF+f0PPpMdm0f6zM5858VDz74IGXLlsXPz4+QkBC6d+/OyZMnnc7JNe9jS5IsWrTIyp8/vzV37lxrz549Vr9+/ayiRYtaZ86cSfX89evXW97e3taUKVOsvXv3WiNGjLB8fHysXbt2JZ0zefJkq0iRItbXX39t7dixw3rwwQetChUqWDExMUnn3HfffVbdunWtTZs2Wb/88otVuXJlq2vXrkn3R0REWMHBwdYTTzxh7d692/r888+tAgUKWB988IHrOsNFcmofHz582AKsn376yTp16lTSLS4uznWd4SLu6uNRo0ZZ06dPt4YMGWIVKVIkxXXi4+Ot2rVrW61atbK2bdtmLVu2zAoKCrKGDRuW5X2QHXJqP1uWZQHWvHnznN7LVz+Hp3BHHy9fvtzq1auX9cMPP1h//fWXtXTpUqtEiRLWCy+8kPQc+kx2fR/rMznznxXTp0+3Nm7caB05csRav3691aRJE6tJkyZJ9+em97HC7FUaNWpkDRgwIOk4ISHBKlWqlDVp0qRUz+/cubP1wAMPOLU1btzY6t+/v2VZluVwOKySJUtaU6dOTbo/PDzc8vX1tT7//HPLsixr7969FmBt3rw56Zzly5dbNpvNOnHihGVZljVz5kwrMDDQio2NTTrn5ZdftqpVq5bJV5z9cmofJ35wbtu2LUtepzu5o4+vNm/evFRD1rJlyywvLy/r9OnTSW3vv/++FRAQ4PTe9hQ5tZ8ty4TZr776Kp2vKOdxdx8nmjJlilWhQoWkY30mu76P9Zmc9X28dOlSy2azJf2DIDe9jzXN4F9xcXFs3bqVVq1aJbV5eXnRqlUrNm7cmOpjNm7c6HQ+QNu2bZPOP3z4MKdPn3Y6p0iRIjRu3DjpnI0bN1K0aFEaNmyYdE6rVq3w8vLi119/TTqnWbNm5M+f3+k6+/bt4+LFi5l85dknJ/dxogcffJASJUpw11138c0332TuBbuBu/o4LTZu3Mitt95KcHCw03UiIyPZs2dPmp8nJ8jJ/ZxowIABBAUF0ahRI+bOnYvlYUuK56Q+joiIoFixYk7X0WdyMlf0cSJ9JhuZ7eMLFy7w2Wef0bRpU3x8fJKukxvex6A5s0nOnz9PQkKC0w9agODgYE6fPp3qY06fPn3D8xP/e7NzSpQo4XR/vnz5KFasmNM5qT3H1dfwBDm5jwsVKsS0adNYsmQJ33//PXfddRcdO3b0uA9Pd/VxWuSW9zHk7H4GGDduHF988QVhYWE88sgjPPvss7z77rvpeg53yyl9fPDgQd5991369+9/0+tcfQ1PkJP7WJ/JWdPHL7/8MgULFuSWW27h2LFjLF269KbXufoaniKfuwsQyQmCgoIYMmRI0vHtt9/OyZMnmTp1Kg8++KAbKxNJv5EjRyb9uX79+ly+fJmpU6cyePBgN1bleU6cOMF9991Hp06d6Nevn7vLyZWu18f6TM4aL730En369OHo0aOMHTuWHj168N1332Gz2dxdWpbSyOy/goKC8Pb25syZM07tZ86coWTJkqk+pmTJkjc8P/G/Nzvn7NmzTvfHx8dz4cIFp3NSe46rr+EJcnIfp6Zx48YcPHgwDa8s53BXH6dFbnkfQ87u59Q0btyY48ePExsbm6nnyU7u7uOTJ0/SsmVLmjZtyuzZs9N0nauv4Qlych+nRp/J6e/joKAgqlatSuvWrVm0aBHLli1LWhEit7yPQWE2Sf78+WnQoAErV65ManM4HKxcuZImTZqk+pgmTZo4nQ8QFhaWdH6FChUoWbKk0zmRkZH8+uuvSec0adKE8PBwtm7dmnTOqlWrcDgcNG7cOOmctWvXYrfbna5TrVo1AgMDM/nKs09O7uPUbN++nZCQkPS/UDdyVx+nRZMmTdi1a5fTPyzCwsIICAigZs2aaX6enCAn93Nqtm/fTmBgIL6+vpl6nuzkzj4+ceIELVq0oEGDBsybNw8vL+cflfpMdn0fp0afyZn7rHA4HABJ/6jNLe9jQEtzXW3RokWWr6+vNX/+fGvv3r3WU089ZRUtWjTp29fdu3e3XnnllaTz169fb+XLl8964403rD/++MMaPXp0qstnFC1a1Fq6dKm1c+dO66GHHkp12aj69etbv/76q7Vu3TqrSpUqTstGhYeHW8HBwVb37t2t3bt3W4sWLbL8/f09cvmMnNrH8+fPtxYuXGj98ccf1h9//GFNmDDB8vLysubOnZsNvZK13NXHR48etbZt22aNHTvWKlSokLVt2zZr27Zt1qVLlyzLSl6aq02bNtb27dutFStWWMWLF/fopblyYj9/88031ocffmjt2rXLOnDggDVz5kzL39/fGjVqVDb1TNZxRx8fP37cqly5snXvvfdax48fd1oWKpE+k13fx/pMzlwfb9q0yXr33Xetbdu2WUeOHLFWrlxpNW3a1KpUqZJ15coVy7Jy1/tYYfYa7777rlW2bFkrf/78VqNGjaxNmzYl3de8eXOrZ8+eTud/8cUXVtWqVa38+fNbtWrVsr7//nun+x0OhzVy5EgrODjY8vX1te69915r3759Tuf8888/VteuXa1ChQpZAQEBVu/evZN+MCXasWOHddddd1m+vr5W6dKlrcmTJ2ftC89GObGP58+fb9WoUcPy9/e3AgICrEaNGllLlizJ+hefTdzRxz179rSAFLfVq1cnnXPkyBGrXbt2VoECBaygoCDrhRdesOx2e5a//uySE/t5+fLlVr169axChQpZBQsWtOrWrWvNmjXLSkhIcEkfuFp29/G8efNS7d9rx370mezaPtZncub6eOfOnVbLli2tYsWKWb6+vlb58uWtp59+2jp+/LjT8+SW97HNsjxsvRYRERERkX9pzqyIiIiIeCyFWRERERHxWAqzIiIiIuKxFGZFRERExGMpzIqIiIiIx1KYFRERERGPpTArIiIiIh5LYVZEREREPJbCrIiIm/Tq1YuOHTu67frdu3dn4sSJaTr3scceY9q0aS6uSEQk/bQDmIiIC9hsthveP3r0aJ5//nksy6Jo0aLZU9RVduzYwT333MPRo0cpVKjQTc/fvXs3zZo14/DhwxQpUiQbKhQRSRuFWRERFzh9+nTSnxcvXsyoUaPYt29fUluhQoXSFCJdpW/fvuTLl49Zs2al+TG33347vXr1YsCAAS6sTEQkfTTNQETEBUqWLJl0K1KkCDabzamtUKFCKaYZtGjRgkGDBvHcc88RGBhIcHAwH374IZcvX6Z3794ULlyYypUrs3z5cqdr7d69m3bt2lGoUCGCg4Pp3r0758+fv25tCQkJfPnll3To0MGpfebMmVSpUgU/Pz+Cg4N59NFHne7v0KEDixYtynzniIhkIYVZEZEc5OOPPyYoKIjffvuNQYMG8cwzz9CpUyeaNm3K77//Tps2bejevTvR0dEAhIeHc88991C/fn22bNnCihUrOHPmDJ07d77uNXbu3ElERAQNGzZMatuyZQuDBw9m3Lhx7Nu3jxUrVtCsWTOnxzVq1IjffvuN2NhY17x4EZEMUJgVEclB6taty4gRI6hSpQrDhg3Dz8+PoKAg+vXrR5UqVRg1ahT//PMPO3fuBOC9996jfv36TJw4kerVq1O/fn3mzp3L6tWr2b9/f6rXOHr0KN7e3pQoUSKp7dixYxQsWJD27dtTrlw56tevz+DBg50eV6pUKeLi4pymUIiIuJvCrIhIDlKnTp2kP3t7e3PLLbdw6623JrUFBwcDcPbsWcB8kWv16tVJc3ALFSpE9erVAfjrr79SvUZMTAy+vr5OX1Jr3bo15cqVo2LFinTv3p3PPvssafQ3UYECBQBStIuIuJPCrIhIDuLj4+N0bLPZnNoSA6jD4QAgKiqKDh06sH37dqfbgQMHUkwTSBQUFER0dDRxcXFJbYULF+b333/n888/JyQkhFGjRlG3bl3Cw8OTzrlw4QIAxYsXz5LXKiKSFRRmRUQ82G233caePXsoX748lStXdroVLFgw1cfUq1cPgL179zq158uXj1atWjFlyhR27tzJkSNHWLVqVdL9u3fvpkyZMgQFBbns9YiIpJfCrIiIBxswYAAXLlyga9eubN68mb/++osffviB3r17k5CQkOpjihcvzm233ca6deuS2r777jveeecdtm/fztGjR1mwYAEOh4Nq1aolnfPLL7/Qpk0bl78mEZH0UJgVEfFgpUqVYv369SQkJNCmTRtuvfVWnnvuOYoWLYqX1/U/4vv27ctnn32WdFy0aFH+97//cc8991CjRg1mzZrF559/Tq1atQC4cuUKX3/9Nf369XP5axIRSQ9tmiAikgfFxMRQrVo1Fi9eTJMmTW56/vvvv89XX33Fjz/+mA3ViYiknUZmRUTyoAIFCrBgwYIbbq5wNR8fH959910XVyUikn4amRURERERj6WRWRERERHxWAqzIiIiIuKxFGZFRERExGMpzIqIiIiIx1KYFRERERGPpTArIiIiIh5LYVZEREREPJbCrIiIiIh4LIVZEREREfFY/w/gGgKyfu+ucgAAAABJRU5ErkJggg==",
          "text/plain": "<Figure size 800x400 with 1 Axes>"
         },
         "metadata": {},
         "output_type": "display_data"
        }
       ]
      }
     },
     "af316331895a46d4bd0a50dfab9dfdce": {
      "model_module": "@jupyter-widgets/controls",
      "model_module_version": "2.0.0",
      "model_name": "SliderStyleModel",
      "state": {
       "description_width": ""
      }
     },
     "afdeb585ea3d42008bfa6021fa3e2b0e": {
      "model_module": "@jupyter-widgets/controls",
      "model_module_version": "2.0.0",
      "model_name": "SliderStyleModel",
      "state": {
       "description_width": ""
      }
     },
     "b0e87f2dacca4c418d4f73346aa9c9ee": {
      "model_module": "@jupyter-widgets/base",
      "model_module_version": "2.0.0",
      "model_name": "LayoutModel",
      "state": {}
     },
     "b0e8a87568a24d05a3b1b2c6f930df64": {
      "model_module": "@jupyter-widgets/controls",
      "model_module_version": "2.0.0",
      "model_name": "SliderStyleModel",
      "state": {
       "description_width": ""
      }
     },
     "b1441d195f4343099ff7a0a352e24e40": {
      "model_module": "@jupyter-widgets/controls",
      "model_module_version": "2.0.0",
      "model_name": "FloatSliderModel",
      "state": {
       "behavior": "drag-tap",
       "description": "R",
       "layout": "IPY_MODEL_04484527c2da420f9a81635b72ef13f5",
       "max": 10,
       "min": 0.1,
       "step": 0.1,
       "style": "IPY_MODEL_12b70e8576594d2b86b6138bba1e6cba",
       "value": 1.0000000000000002
      }
     },
     "b1df1bc84fd6471b96e0dde221a5f69e": {
      "model_module": "@jupyter-widgets/base",
      "model_module_version": "2.0.0",
      "model_name": "LayoutModel",
      "state": {}
     },
     "b279e6add6c64e228ce14013818286c6": {
      "model_module": "@jupyter-widgets/base",
      "model_module_version": "2.0.0",
      "model_name": "LayoutModel",
      "state": {}
     },
     "b34203a5f6414fac863337619d2df5da": {
      "model_module": "@jupyter-widgets/controls",
      "model_module_version": "2.0.0",
      "model_name": "FloatLogSliderModel",
      "state": {
       "behavior": "drag-tap",
       "description": "Duration",
       "layout": "IPY_MODEL_a64e0774c1084921a315e003c6d81c15",
       "max": 2,
       "min": -3,
       "style": "IPY_MODEL_9debb8b263de4cd2bfae9c41ba70fa7d"
      }
     },
     "b4c5fa78863e44dc82b3a8f706fce6d1": {
      "model_module": "@jupyter-widgets/base",
      "model_module_version": "2.0.0",
      "model_name": "LayoutModel",
      "state": {}
     },
     "b4cf41b5247343eea2424978289766d3": {
      "model_module": "@jupyter-widgets/base",
      "model_module_version": "2.0.0",
      "model_name": "LayoutModel",
      "state": {}
     },
     "b55029492ca443069d95793aa927b33a": {
      "model_module": "@jupyter-widgets/controls",
      "model_module_version": "2.0.0",
      "model_name": "SliderStyleModel",
      "state": {
       "description_width": ""
      }
     },
     "b5a3e69877f94fa999926bf9292dd679": {
      "model_module": "@jupyter-widgets/base",
      "model_module_version": "2.0.0",
      "model_name": "LayoutModel",
      "state": {}
     },
     "b6031e23fa074a1cb1294033369f65fc": {
      "model_module": "@jupyter-widgets/controls",
      "model_module_version": "2.0.0",
      "model_name": "SliderStyleModel",
      "state": {
       "description_width": ""
      }
     },
     "b61b6981a5e6497e8706d9d78550c597": {
      "model_module": "@jupyter-widgets/base",
      "model_module_version": "2.0.0",
      "model_name": "LayoutModel",
      "state": {}
     },
     "b65d6edc88da49dd975519b2d43ac058": {
      "model_module": "@jupyter-widgets/base",
      "model_module_version": "2.0.0",
      "model_name": "LayoutModel",
      "state": {}
     },
     "b68f2532b1414e8fa894c7aeda228223": {
      "model_module": "@jupyter-widgets/base",
      "model_module_version": "2.0.0",
      "model_name": "LayoutModel",
      "state": {}
     },
     "b75254ac1c754d6e9e9f5037f646e866": {
      "model_module": "@jupyter-widgets/controls",
      "model_module_version": "2.0.0",
      "model_name": "SliderStyleModel",
      "state": {
       "description_width": ""
      }
     },
     "b8546a926ecb4eb0867ec13687258648": {
      "model_module": "@jupyter-widgets/controls",
      "model_module_version": "2.0.0",
      "model_name": "FloatSliderModel",
      "state": {
       "behavior": "drag-tap",
       "description": "L",
       "layout": "IPY_MODEL_deb100abad9e41b8ad994f2d070e1a95",
       "max": 1,
       "min": 0.001,
       "step": 0.001,
       "style": "IPY_MODEL_9ff66c71293b4eeab1b443e1a1f11819",
       "value": 0.1
      }
     },
     "b983933a9946499187481e88301cccc4": {
      "model_module": "@jupyter-widgets/controls",
      "model_module_version": "2.0.0",
      "model_name": "FloatSliderModel",
      "state": {
       "behavior": "drag-tap",
       "description": "L",
       "layout": "IPY_MODEL_221ed089477e487c9576fc4b5fdd56c6",
       "max": 1,
       "min": 0.001,
       "step": 0.001,
       "style": "IPY_MODEL_3b374493e6024f20849a21e4f2338e07",
       "value": 0.1
      }
     },
     "baad81558fdf45e2a6dbe8a527e281d5": {
      "model_module": "@jupyter-widgets/controls",
      "model_module_version": "2.0.0",
      "model_name": "VBoxModel",
      "state": {
       "_dom_classes": [
        "widget-interact"
       ],
       "children": [
        "IPY_MODEL_9161432ef63a491a81a0f78b142d7282",
        "IPY_MODEL_1a1714da4c89496697df2915bb00d690",
        "IPY_MODEL_abe217752a3b4ca78f27063b7ae6eeee",
        "IPY_MODEL_012bbb05645c4c0a9813a59ecbaec676",
        "IPY_MODEL_e6e6dcda98b84eba9baee5b18031295b",
        "IPY_MODEL_5159677ffe7c487a9f860d625a579238"
       ],
       "layout": "IPY_MODEL_c09eec085f3544248a18c0283702621d"
      }
     },
     "bada574fd09b472e99a489d7535ba6d5": {
      "model_module": "@jupyter-widgets/controls",
      "model_module_version": "2.0.0",
      "model_name": "FloatSliderModel",
      "state": {
       "behavior": "drag-tap",
       "description": "L",
       "layout": "IPY_MODEL_3e576ab98d2749068fbabe5eea91d968",
       "max": 1,
       "min": 0.001,
       "step": 0.001,
       "style": "IPY_MODEL_5730c97a0be645c3ad268162e45f831b",
       "value": 0.1
      }
     },
     "bb4bdfce4faf454eb698da104c204d42": {
      "model_module": "@jupyter-widgets/controls",
      "model_module_version": "2.0.0",
      "model_name": "FloatLogSliderModel",
      "state": {
       "behavior": "drag-tap",
       "description": "C",
       "layout": "IPY_MODEL_333c7a3e37254845843666b15701d4f6",
       "max": 2,
       "min": -6,
       "style": "IPY_MODEL_f17a87d99743466aa847cfb2410e9297",
       "value": 0.01
      }
     },
     "bbb195bb0e4347c48b90963e9b9fa3f0": {
      "model_module": "@jupyter-widgets/base",
      "model_module_version": "2.0.0",
      "model_name": "LayoutModel",
      "state": {}
     },
     "bcfcb0a136fc4e678f8ba6ae838ebda7": {
      "model_module": "@jupyter-widgets/base",
      "model_module_version": "2.0.0",
      "model_name": "LayoutModel",
      "state": {}
     },
     "bd03be1ab15d4427b0c21637baa35442": {
      "model_module": "@jupyter-widgets/base",
      "model_module_version": "2.0.0",
      "model_name": "LayoutModel",
      "state": {}
     },
     "bd11fbd1791249308f52f2471cffa006": {
      "model_module": "@jupyter-widgets/output",
      "model_module_version": "1.0.0",
      "model_name": "OutputModel",
      "state": {
       "layout": "IPY_MODEL_8306e059f4554c95ac0792af885a91cf",
       "outputs": [
        {
         "data": {
          "image/png": "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",
          "text/plain": "<Figure size 800x400 with 1 Axes>"
         },
         "metadata": {},
         "output_type": "display_data"
        }
       ]
      }
     },
     "be578468a7f84e9989da95631a8758c9": {
      "model_module": "@jupyter-widgets/controls",
      "model_module_version": "2.0.0",
      "model_name": "SliderStyleModel",
      "state": {
       "description_width": ""
      }
     },
     "becd6e571950420fa272d58468fda87e": {
      "model_module": "@jupyter-widgets/controls",
      "model_module_version": "2.0.0",
      "model_name": "VBoxModel",
      "state": {
       "_dom_classes": [
        "widget-interact"
       ],
       "children": [
        "IPY_MODEL_4d004c02d09a42f2b5d2e649603d4507",
        "IPY_MODEL_794d6b62c6c54df9824548ca3fdbc2b6",
        "IPY_MODEL_741ea1fbc52a41b1b3229413615af906",
        "IPY_MODEL_22cf85d1827d4c2ea12b0ad8dcbe3fd0",
        "IPY_MODEL_272c844e137942a5803041b4a2d05502",
        "IPY_MODEL_6406eb13b0624016a7df492061829a91"
       ],
       "layout": "IPY_MODEL_c611583ff40e4f578f49a0a311ebdea6"
      }
     },
     "bee827f665c547f68c43d9add6b95bde": {
      "model_module": "@jupyter-widgets/base",
      "model_module_version": "2.0.0",
      "model_name": "LayoutModel",
      "state": {}
     },
     "bf1c37382c3a416cb4f03e067085c3a7": {
      "model_module": "@jupyter-widgets/controls",
      "model_module_version": "2.0.0",
      "model_name": "SliderStyleModel",
      "state": {
       "description_width": ""
      }
     },
     "c09eec085f3544248a18c0283702621d": {
      "model_module": "@jupyter-widgets/base",
      "model_module_version": "2.0.0",
      "model_name": "LayoutModel",
      "state": {}
     },
     "c0ef0765ff2847208e3a9e76a23dfdc7": {
      "model_module": "@jupyter-widgets/base",
      "model_module_version": "2.0.0",
      "model_name": "LayoutModel",
      "state": {}
     },
     "c1cd6ccf9ad44b6298fae75bbba4e4c9": {
      "model_module": "@jupyter-widgets/controls",
      "model_module_version": "2.0.0",
      "model_name": "SliderStyleModel",
      "state": {
       "description_width": ""
      }
     },
     "c27761d9e0654478adbecf6d3e70b1c8": {
      "model_module": "@jupyter-widgets/base",
      "model_module_version": "2.0.0",
      "model_name": "LayoutModel",
      "state": {}
     },
     "c29313e23abc454da6dd32aa105bc4d7": {
      "model_module": "@jupyter-widgets/controls",
      "model_module_version": "2.0.0",
      "model_name": "FloatSliderModel",
      "state": {
       "behavior": "drag-tap",
       "description": "V0",
       "layout": "IPY_MODEL_78e3d4f378fd490bb94942cea18bde22",
       "max": 450,
       "style": "IPY_MODEL_a0958ed3aa13456bbddf5d51b417bd3c",
       "value": 100
      }
     },
     "c3fe4ff49ecd47fbaaf91f5c268a29b2": {
      "model_module": "@jupyter-widgets/controls",
      "model_module_version": "2.0.0",
      "model_name": "FloatSliderModel",
      "state": {
       "behavior": "drag-tap",
       "description": "R",
       "layout": "IPY_MODEL_725161996961452087e80e5c7f9da91c",
       "max": 10,
       "min": 0.1,
       "step": 0.1,
       "style": "IPY_MODEL_35f80397b3194bb0a7232ec67e678d82",
       "value": 1
      }
     },
     "c4069cb184c445529b3467ab0537cdbf": {
      "model_module": "@jupyter-widgets/controls",
      "model_module_version": "2.0.0",
      "model_name": "SliderStyleModel",
      "state": {
       "description_width": ""
      }
     },
     "c54efffe18814032914e95d1224b392a": {
      "model_module": "@jupyter-widgets/base",
      "model_module_version": "2.0.0",
      "model_name": "LayoutModel",
      "state": {}
     },
     "c5881e10e2f74304a7bfcf6d2f51e001": {
      "model_module": "@jupyter-widgets/controls",
      "model_module_version": "2.0.0",
      "model_name": "SliderStyleModel",
      "state": {
       "description_width": ""
      }
     },
     "c611583ff40e4f578f49a0a311ebdea6": {
      "model_module": "@jupyter-widgets/base",
      "model_module_version": "2.0.0",
      "model_name": "LayoutModel",
      "state": {}
     },
     "c62907537f6147cf9c46ee26b046b14e": {
      "model_module": "@jupyter-widgets/controls",
      "model_module_version": "2.0.0",
      "model_name": "SliderStyleModel",
      "state": {
       "description_width": ""
      }
     },
     "c63539df98be4228a11bd39f8596e611": {
      "model_module": "@jupyter-widgets/controls",
      "model_module_version": "2.0.0",
      "model_name": "FloatSliderModel",
      "state": {
       "behavior": "drag-tap",
       "description": "R",
       "layout": "IPY_MODEL_79a9bc046b9b435dbfb51375d64cfe83",
       "max": 10,
       "min": 0.1,
       "step": 0.1,
       "style": "IPY_MODEL_a228ec3b0f96460bbffeaeef53e23420",
       "value": 1
      }
     },
     "c6c9c8ad5cc34852b330821beed824e9": {
      "model_module": "@jupyter-widgets/controls",
      "model_module_version": "2.0.0",
      "model_name": "FloatLogSliderModel",
      "state": {
       "behavior": "drag-tap",
       "description": "Duration",
       "layout": "IPY_MODEL_ae2a958c75d04c5795e30f9a51c4cc10",
       "max": 2,
       "min": -3,
       "style": "IPY_MODEL_d13dd4fdf39347f289ad371519bd5eb3"
      }
     },
     "c82a55d977bc4004a554bef62046a80e": {
      "model_module": "@jupyter-widgets/controls",
      "model_module_version": "2.0.0",
      "model_name": "SliderStyleModel",
      "state": {
       "description_width": ""
      }
     },
     "c8c6f6865d9c43219e38f868a2c021f9": {
      "model_module": "@jupyter-widgets/output",
      "model_module_version": "1.0.0",
      "model_name": "OutputModel",
      "state": {
       "layout": "IPY_MODEL_20d1a88bf12041d8a6d818cbdb51fc05",
       "outputs": [
        {
         "data": {
          "image/png": "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",
          "text/plain": "<Figure size 800x400 with 1 Axes>"
         },
         "metadata": {},
         "output_type": "display_data"
        },
        {
         "data": {
          "text/plain": "  message: The solver successfully reached the end of the integration interval.\n  success: True\n   status: 0\n        t: [ 0.000e+00  1.000e-06 ...  1.000e+00  1.000e+00]\n        y: [[-1.000e+02 -1.000e+02 ... -6.366e-01 -6.366e-01]\n            [ 0.000e+00  1.000e-03 ... -3.966e-02 -3.965e-02]\n            [ 0.000e+00  1.079e-11 ...  1.611e+03  1.611e+03]]\n      sol: None\n t_events: None\n y_events: None\n     nfev: 266\n     njev: 0\n      nlu: 0"
         },
         "metadata": {},
         "output_type": "display_data"
        }
       ]
      }
     },
     "c9d786ccb75348068dd1ee103d362da4": {
      "model_module": "@jupyter-widgets/controls",
      "model_module_version": "2.0.0",
      "model_name": "FloatLogSliderModel",
      "state": {
       "behavior": "drag-tap",
       "description": "Duration",
       "layout": "IPY_MODEL_413b2903212445b48d3d6ca7d8ec1c63",
       "max": 2,
       "min": -3,
       "style": "IPY_MODEL_943f032119154e7b8bb1184bec1c47b7"
      }
     },
     "cb11a3282e4e43399f57d3947f2ffe98": {
      "model_module": "@jupyter-widgets/controls",
      "model_module_version": "2.0.0",
      "model_name": "SliderStyleModel",
      "state": {
       "description_width": ""
      }
     },
     "cbc3727bbbe2489eb94ad3fd10ec27d7": {
      "model_module": "@jupyter-widgets/controls",
      "model_module_version": "2.0.0",
      "model_name": "SliderStyleModel",
      "state": {
       "description_width": ""
      }
     },
     "ccb9b260647346ea821db4db5105c752": {
      "model_module": "@jupyter-widgets/controls",
      "model_module_version": "2.0.0",
      "model_name": "SliderStyleModel",
      "state": {
       "description_width": ""
      }
     },
     "cd24684fecd3448a8dc2a2c38c2896a6": {
      "model_module": "@jupyter-widgets/controls",
      "model_module_version": "2.0.0",
      "model_name": "FloatLogSliderModel",
      "state": {
       "behavior": "drag-tap",
       "description": "Duration",
       "layout": "IPY_MODEL_898b64c7d13b4b4e9a5b50a98deea7be",
       "max": 2,
       "min": -3,
       "style": "IPY_MODEL_a244e6a8eafd4558b6d6ece2b18e0f8b"
      }
     },
     "cd40b77e8f4e412a83cd2a8095a4738b": {
      "model_module": "@jupyter-widgets/output",
      "model_module_version": "1.0.0",
      "model_name": "OutputModel",
      "state": {
       "layout": "IPY_MODEL_6decd0ccb1e94e429ddca58b87f9f561",
       "outputs": [
        {
         "data": {
          "image/png": "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",
          "text/plain": "<Figure size 800x400 with 1 Axes>"
         },
         "metadata": {},
         "output_type": "display_data"
        }
       ]
      }
     },
     "cd56c0eea288456ea91ed0d0aa76db84": {
      "model_module": "@jupyter-widgets/controls",
      "model_module_version": "2.0.0",
      "model_name": "FloatSliderModel",
      "state": {
       "behavior": "drag-tap",
       "description": "V0",
       "layout": "IPY_MODEL_3e0dbce0de6b44c6ade59fb3adb2583c",
       "max": 450,
       "style": "IPY_MODEL_af316331895a46d4bd0a50dfab9dfdce",
       "value": 100
      }
     },
     "cd59cd060fdb404c90798dc0c6ef81e2": {
      "model_module": "@jupyter-widgets/controls",
      "model_module_version": "2.0.0",
      "model_name": "FloatLogSliderModel",
      "state": {
       "behavior": "drag-tap",
       "description": "C",
       "layout": "IPY_MODEL_149ec5dc7e694d38b21225a7cfff6fca",
       "max": 2,
       "min": -6,
       "style": "IPY_MODEL_05bb3d943f88487e80a4e2545640579d",
       "value": 0.01
      }
     },
     "cd65653f66ef4e7f9d31cdd43e3a3219": {
      "model_module": "@jupyter-widgets/base",
      "model_module_version": "2.0.0",
      "model_name": "LayoutModel",
      "state": {}
     },
     "cf8c043b95f545f88470134f10cc0fe1": {
      "model_module": "@jupyter-widgets/base",
      "model_module_version": "2.0.0",
      "model_name": "LayoutModel",
      "state": {}
     },
     "d13dd4fdf39347f289ad371519bd5eb3": {
      "model_module": "@jupyter-widgets/controls",
      "model_module_version": "2.0.0",
      "model_name": "SliderStyleModel",
      "state": {
       "description_width": ""
      }
     },
     "d150c718a8374afbb7746dacd5b28b50": {
      "model_module": "@jupyter-widgets/base",
      "model_module_version": "2.0.0",
      "model_name": "LayoutModel",
      "state": {}
     },
     "d1ea3426522c479eb9cf2c3f012e2851": {
      "model_module": "@jupyter-widgets/output",
      "model_module_version": "1.0.0",
      "model_name": "OutputModel",
      "state": {
       "layout": "IPY_MODEL_a64c7ed3344c4476bf920e879575ad89",
       "outputs": [
        {
         "name": "stdout",
         "output_type": "stream",
         "text": "AAAAAAAAAA\nBBBBBBBBBBb\nCCCCCCCCCCCC\n"
        },
        {
         "data": {
          "image/png": "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",
          "text/plain": "<Figure size 800x400 with 1 Axes>"
         },
         "metadata": {},
         "output_type": "display_data"
        },
        {
         "data": {
          "text/plain": "  message: The solver successfully reached the end of the integration interval.\n  success: True\n   status: 0\n        t: [ 0.000e+00  1.000e-06 ...  1.000e+00  1.000e+00]\n        y: [[-1.000e+02 -1.000e+02 ... -6.366e-01 -6.366e-01]\n            [ 0.000e+00  1.000e-03 ... -3.966e-02 -3.965e-02]\n            [ 0.000e+00  1.079e-11 ...  1.611e+03  1.611e+03]]\n      sol: None\n t_events: None\n y_events: None\n     nfev: 266\n     njev: 0\n      nlu: 0"
         },
         "metadata": {},
         "output_type": "display_data"
        }
       ]
      }
     },
     "d1ff1d3a39c145d99f69068b3af118df": {
      "model_module": "@jupyter-widgets/output",
      "model_module_version": "1.0.0",
      "model_name": "OutputModel",
      "state": {
       "layout": "IPY_MODEL_b4cf41b5247343eea2424978289766d3",
       "outputs": [
        {
         "data": {
          "image/png": "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",
          "text/plain": "<Figure size 800x400 with 1 Axes>"
         },
         "metadata": {},
         "output_type": "display_data"
        }
       ]
      }
     },
     "d3e92373c1de41ea9b7c5198ae22cc4f": {
      "model_module": "@jupyter-widgets/controls",
      "model_module_version": "2.0.0",
      "model_name": "FloatLogSliderModel",
      "state": {
       "behavior": "drag-tap",
       "description": "C",
       "layout": "IPY_MODEL_b65d6edc88da49dd975519b2d43ac058",
       "max": 2,
       "min": -6,
       "style": "IPY_MODEL_4b1babee1ca64220a6be58bb95379cca",
       "value": 0.01
      }
     },
     "d50ab7f52d32408d86b69aa79bd59a61": {
      "model_module": "@jupyter-widgets/controls",
      "model_module_version": "2.0.0",
      "model_name": "SliderStyleModel",
      "state": {
       "description_width": ""
      }
     },
     "d59a737401384d4ab971f3976f7b2380": {
      "model_module": "@jupyter-widgets/base",
      "model_module_version": "2.0.0",
      "model_name": "LayoutModel",
      "state": {}
     },
     "d5ef8d71b4254c738c4a4c1ca4ea6765": {
      "model_module": "@jupyter-widgets/controls",
      "model_module_version": "2.0.0",
      "model_name": "SliderStyleModel",
      "state": {
       "description_width": ""
      }
     },
     "d609f860b2eb45ce9117e329c49b2be4": {
      "model_module": "@jupyter-widgets/controls",
      "model_module_version": "2.0.0",
      "model_name": "FloatLogSliderModel",
      "state": {
       "behavior": "drag-tap",
       "description": "C",
       "layout": "IPY_MODEL_83c1b33f34e143f29716170281342662",
       "max": 2,
       "min": -6,
       "style": "IPY_MODEL_193e221a22f74d9893fd86ac8f8057b6",
       "value": 0.01
      }
     },
     "d6618f596a3d44c2ab63621862e4830b": {
      "model_module": "@jupyter-widgets/base",
      "model_module_version": "2.0.0",
      "model_name": "LayoutModel",
      "state": {}
     },
     "d6643f97e9e34fe6baba3fc578d32f09": {
      "model_module": "@jupyter-widgets/controls",
      "model_module_version": "2.0.0",
      "model_name": "FloatLogSliderModel",
      "state": {
       "behavior": "drag-tap",
       "description": "Duration",
       "layout": "IPY_MODEL_1eb5582fd7ac459eafd9583ff2906e43",
       "max": 2,
       "min": -3,
       "style": "IPY_MODEL_26b841bbf1bf4cd5a5305ba33ec91a13"
      }
     },
     "d677ce6e68804d018a51fb21af0bbc97": {
      "model_module": "@jupyter-widgets/controls",
      "model_module_version": "2.0.0",
      "model_name": "VBoxModel",
      "state": {
       "_dom_classes": [
        "widget-interact"
       ],
       "children": [
        "IPY_MODEL_6830cd76640c41ebb3ea8d9c17df8744",
        "IPY_MODEL_cd59cd060fdb404c90798dc0c6ef81e2",
        "IPY_MODEL_bada574fd09b472e99a489d7535ba6d5",
        "IPY_MODEL_58da0ec993eb48db92350d57f3279432",
        "IPY_MODEL_21d877935a044bb0b1aeb7a11a50b932",
        "IPY_MODEL_a5f6091db9f9455782639134eb0af17b"
       ],
       "layout": "IPY_MODEL_3d030b4e262449fe83a7b244261e23e0"
      }
     },
     "d6785f54ef004298b41c40218c7227ea": {
      "model_module": "@jupyter-widgets/base",
      "model_module_version": "2.0.0",
      "model_name": "LayoutModel",
      "state": {}
     },
     "d7154fa012cc44e4b81be2fdbfd6e99a": {
      "model_module": "@jupyter-widgets/controls",
      "model_module_version": "2.0.0",
      "model_name": "SliderStyleModel",
      "state": {
       "description_width": ""
      }
     },
     "d75cb6973fa34023a9cd8a5c9fac6df6": {
      "model_module": "@jupyter-widgets/controls",
      "model_module_version": "2.0.0",
      "model_name": "FloatLogSliderModel",
      "state": {
       "behavior": "drag-tap",
       "description": "C",
       "layout": "IPY_MODEL_818c1666daef47e6a2ed07e350aaace7",
       "max": 2,
       "min": -6,
       "style": "IPY_MODEL_0e2babd665b1488c935ad387133d0afa",
       "value": 0.01
      }
     },
     "d77d93a0c9814c8e8065de4d96263122": {
      "model_module": "@jupyter-widgets/controls",
      "model_module_version": "2.0.0",
      "model_name": "SliderStyleModel",
      "state": {
       "description_width": ""
      }
     },
     "d88e7863896b4982b2f2449a69770e6d": {
      "model_module": "@jupyter-widgets/base",
      "model_module_version": "2.0.0",
      "model_name": "LayoutModel",
      "state": {}
     },
     "d90bfdd3445740b0b8e4c1648f715be9": {
      "model_module": "@jupyter-widgets/controls",
      "model_module_version": "2.0.0",
      "model_name": "SliderStyleModel",
      "state": {
       "description_width": ""
      }
     },
     "db06805c124f494599bd671111c55333": {
      "model_module": "@jupyter-widgets/base",
      "model_module_version": "2.0.0",
      "model_name": "LayoutModel",
      "state": {}
     },
     "dbc72d50157a4be0b6dfa0b489af91ea": {
      "model_module": "@jupyter-widgets/controls",
      "model_module_version": "2.0.0",
      "model_name": "SliderStyleModel",
      "state": {
       "description_width": ""
      }
     },
     "dc2ccbd2dbfa48d9b92f94e169ac8a2a": {
      "model_module": "@jupyter-widgets/base",
      "model_module_version": "2.0.0",
      "model_name": "LayoutModel",
      "state": {}
     },
     "dc7dbd24d9ca4151a59658efd00ea576": {
      "model_module": "@jupyter-widgets/base",
      "model_module_version": "2.0.0",
      "model_name": "LayoutModel",
      "state": {}
     },
     "dc8b0d90806447ccb4572e894f68b668": {
      "model_module": "@jupyter-widgets/base",
      "model_module_version": "2.0.0",
      "model_name": "LayoutModel",
      "state": {}
     },
     "dcc01a598a9744458df86ecdf4aa2d29": {
      "model_module": "@jupyter-widgets/controls",
      "model_module_version": "2.0.0",
      "model_name": "SliderStyleModel",
      "state": {
       "description_width": ""
      }
     },
     "dd1dcf093f944bd88b06c261c1079943": {
      "model_module": "@jupyter-widgets/base",
      "model_module_version": "2.0.0",
      "model_name": "LayoutModel",
      "state": {}
     },
     "dd531894ac1b4aeeb2d5362f84a592ae": {
      "model_module": "@jupyter-widgets/base",
      "model_module_version": "2.0.0",
      "model_name": "LayoutModel",
      "state": {}
     },
     "dd65f110bdb84f9686594c3d8f555de7": {
      "model_module": "@jupyter-widgets/controls",
      "model_module_version": "2.0.0",
      "model_name": "SliderStyleModel",
      "state": {
       "description_width": ""
      }
     },
     "ddd0b4748f3a4f60bf4390616056883d": {
      "model_module": "@jupyter-widgets/base",
      "model_module_version": "2.0.0",
      "model_name": "LayoutModel",
      "state": {}
     },
     "de0c45a454744c229aadd8c73a225517": {
      "model_module": "@jupyter-widgets/controls",
      "model_module_version": "2.0.0",
      "model_name": "SliderStyleModel",
      "state": {
       "description_width": ""
      }
     },
     "dea91b2c68614718ad9693e3b663fae3": {
      "model_module": "@jupyter-widgets/base",
      "model_module_version": "2.0.0",
      "model_name": "LayoutModel",
      "state": {}
     },
     "deb100abad9e41b8ad994f2d070e1a95": {
      "model_module": "@jupyter-widgets/base",
      "model_module_version": "2.0.0",
      "model_name": "LayoutModel",
      "state": {}
     },
     "dec177a2aded4d70801c3fe312c3d2f5": {
      "model_module": "@jupyter-widgets/base",
      "model_module_version": "2.0.0",
      "model_name": "LayoutModel",
      "state": {}
     },
     "df9373498dc944778ab6f026d7f9316a": {
      "model_module": "@jupyter-widgets/controls",
      "model_module_version": "2.0.0",
      "model_name": "SliderStyleModel",
      "state": {
       "description_width": ""
      }
     },
     "e01a599a98e14e0eb117d3d6b92ddf68": {
      "model_module": "@jupyter-widgets/output",
      "model_module_version": "1.0.0",
      "model_name": "OutputModel",
      "state": {
       "layout": "IPY_MODEL_45868551a7e84eed969247d2045166a4",
       "outputs": [
        {
         "name": "stdout",
         "output_type": "stream",
         "text": "AAAAAAAAAA\nBBBBBBBBBBb\nCCCCCCCCCCCC\n"
        },
        {
         "data": {
          "image/png": "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",
          "text/plain": "<Figure size 800x400 with 1 Axes>"
         },
         "metadata": {},
         "output_type": "display_data"
        }
       ]
      }
     },
     "e06537fb013a45b48b1ddf6f3d86b09c": {
      "model_module": "@jupyter-widgets/controls",
      "model_module_version": "2.0.0",
      "model_name": "FloatLogSliderModel",
      "state": {
       "behavior": "drag-tap",
       "description": "C",
       "layout": "IPY_MODEL_5ffce6ef762a4648bbecbbd8ed121f5d",
       "max": 2,
       "min": -6,
       "style": "IPY_MODEL_b55029492ca443069d95793aa927b33a",
       "value": 0.01
      }
     },
     "e1d18c4fa2104a02b7a3ef1ab5dc64b4": {
      "model_module": "@jupyter-widgets/controls",
      "model_module_version": "2.0.0",
      "model_name": "FloatLogSliderModel",
      "state": {
       "behavior": "drag-tap",
       "description": "C",
       "layout": "IPY_MODEL_4fcb352d4cd0422e9b1e7b4c742df429",
       "max": 2,
       "min": -6,
       "style": "IPY_MODEL_30ab6132dbdd4e0bad79258a747d3a60",
       "value": 0.01
      }
     },
     "e20432642fdf40f6a80c68e752fd2ebe": {
      "model_module": "@jupyter-widgets/controls",
      "model_module_version": "2.0.0",
      "model_name": "FloatSliderModel",
      "state": {
       "behavior": "drag-tap",
       "description": "L",
       "layout": "IPY_MODEL_ac00838bf4d74e5abf4c2fed94186acd",
       "max": 1,
       "min": 0.001,
       "step": 0.001,
       "style": "IPY_MODEL_a43209fd15f04583937a244c1ccf2497",
       "value": 0.1
      }
     },
     "e28063a6ef204ef3aa792d71feb81752": {
      "model_module": "@jupyter-widgets/controls",
      "model_module_version": "2.0.0",
      "model_name": "SliderStyleModel",
      "state": {
       "description_width": ""
      }
     },
     "e29f348de07f416eb29775a9bbb11820": {
      "model_module": "@jupyter-widgets/controls",
      "model_module_version": "2.0.0",
      "model_name": "SliderStyleModel",
      "state": {
       "description_width": ""
      }
     },
     "e2c61af04f024581a127c49f67b2f75c": {
      "model_module": "@jupyter-widgets/base",
      "model_module_version": "2.0.0",
      "model_name": "LayoutModel",
      "state": {}
     },
     "e3a23b23149b46b08e41f5f787470401": {
      "model_module": "@jupyter-widgets/base",
      "model_module_version": "2.0.0",
      "model_name": "LayoutModel",
      "state": {}
     },
     "e41968ad7c3c485f9dca21b8caff1009": {
      "model_module": "@jupyter-widgets/controls",
      "model_module_version": "2.0.0",
      "model_name": "FloatLogSliderModel",
      "state": {
       "behavior": "drag-tap",
       "description": "C",
       "layout": "IPY_MODEL_6777ff32715742dea7ad0eb9db8c6bf4",
       "max": 2,
       "min": -6,
       "style": "IPY_MODEL_df9373498dc944778ab6f026d7f9316a",
       "value": 0.01
      }
     },
     "e42a955fcda64487859be2a1755441cf": {
      "model_module": "@jupyter-widgets/controls",
      "model_module_version": "2.0.0",
      "model_name": "FloatLogSliderModel",
      "state": {
       "behavior": "drag-tap",
       "description": "Duration",
       "layout": "IPY_MODEL_216b2b9b45834005ab4318bc616ed795",
       "max": 2,
       "min": -3,
       "style": "IPY_MODEL_95ce3a1893914354829caac8421e3c0f",
       "value": 0.0031622776601683794
      }
     },
     "e4706aeabb8844b5b23663b02663e47c": {
      "model_module": "@jupyter-widgets/base",
      "model_module_version": "2.0.0",
      "model_name": "LayoutModel",
      "state": {}
     },
     "e5af78a0bd98489eb74a8216de4c155a": {
      "model_module": "@jupyter-widgets/controls",
      "model_module_version": "2.0.0",
      "model_name": "FloatSliderModel",
      "state": {
       "behavior": "drag-tap",
       "description": "L",
       "layout": "IPY_MODEL_d6785f54ef004298b41c40218c7227ea",
       "max": 1,
       "min": 0.001,
       "step": 0.001,
       "style": "IPY_MODEL_4fcf54b76efc4fc1b7bfc4e83743be92",
       "value": 0.1
      }
     },
     "e5e311550aad4435a8d16618b2283fb7": {
      "model_module": "@jupyter-widgets/base",
      "model_module_version": "2.0.0",
      "model_name": "LayoutModel",
      "state": {}
     },
     "e6e6dcda98b84eba9baee5b18031295b": {
      "model_module": "@jupyter-widgets/controls",
      "model_module_version": "2.0.0",
      "model_name": "FloatLogSliderModel",
      "state": {
       "behavior": "drag-tap",
       "description": "Duration",
       "layout": "IPY_MODEL_8a787596e5d34f788d4fc32b6ede285d",
       "max": 2,
       "min": -3,
       "style": "IPY_MODEL_d50ab7f52d32408d86b69aa79bd59a61"
      }
     },
     "e756d5902bee443d84f096e5988288b3": {
      "model_module": "@jupyter-widgets/base",
      "model_module_version": "2.0.0",
      "model_name": "LayoutModel",
      "state": {}
     },
     "e95ceaa210c84913ab703a88a941da2a": {
      "model_module": "@jupyter-widgets/controls",
      "model_module_version": "2.0.0",
      "model_name": "SliderStyleModel",
      "state": {
       "description_width": ""
      }
     },
     "e9693978e5bc41e482ada82bc5a77089": {
      "model_module": "@jupyter-widgets/base",
      "model_module_version": "2.0.0",
      "model_name": "LayoutModel",
      "state": {}
     },
     "ecf4961ac1ec43cd8f8dc0351b80ccbf": {
      "model_module": "@jupyter-widgets/controls",
      "model_module_version": "2.0.0",
      "model_name": "FloatLogSliderModel",
      "state": {
       "behavior": "drag-tap",
       "description": "C",
       "layout": "IPY_MODEL_3a7e69f13c154c2caaef41d3c69a1f78",
       "max": 2,
       "min": -6,
       "style": "IPY_MODEL_4fc4daaa851c472ba1dddcb6eccc2ec1",
       "value": 0.01
      }
     },
     "ed1b867c51894bf3add9a6473d38279e": {
      "model_module": "@jupyter-widgets/controls",
      "model_module_version": "2.0.0",
      "model_name": "FloatSliderModel",
      "state": {
       "behavior": "drag-tap",
       "description": "R",
       "layout": "IPY_MODEL_dc2ccbd2dbfa48d9b92f94e169ac8a2a",
       "max": 10,
       "min": 0.1,
       "step": 0.1,
       "style": "IPY_MODEL_8ce24b1212884b01842d3607643c05d2",
       "value": 1.0000000000000002
      }
     },
     "edb32987cef04e5fbf9c05d94129ba97": {
      "model_module": "@jupyter-widgets/controls",
      "model_module_version": "2.0.0",
      "model_name": "VBoxModel",
      "state": {
       "_dom_classes": [
        "widget-interact"
       ],
       "children": [
        "IPY_MODEL_3bf478d0fe2145cfbfec8212a80257c6",
        "IPY_MODEL_e1d18c4fa2104a02b7a3ef1ab5dc64b4",
        "IPY_MODEL_311c0eea317e4aedb4dc301eaa032752",
        "IPY_MODEL_7a55fcce96764aa5b3383708000dac25",
        "IPY_MODEL_b34203a5f6414fac863337619d2df5da",
        "IPY_MODEL_d1ff1d3a39c145d99f69068b3af118df"
       ],
       "layout": "IPY_MODEL_23205f13960e483eaf856cefe73526b6"
      }
     },
     "ef0532654bb04f6483bd5927a1a717dd": {
      "model_module": "@jupyter-widgets/controls",
      "model_module_version": "2.0.0",
      "model_name": "SliderStyleModel",
      "state": {
       "description_width": ""
      }
     },
     "efd6989de3c74804be453868e4f9e670": {
      "model_module": "@jupyter-widgets/controls",
      "model_module_version": "2.0.0",
      "model_name": "VBoxModel",
      "state": {
       "_dom_classes": [
        "widget-interact"
       ],
       "children": [
        "IPY_MODEL_cd56c0eea288456ea91ed0d0aa76db84",
        "IPY_MODEL_f66801ec222640dc85496b996333e88e",
        "IPY_MODEL_b983933a9946499187481e88301cccc4",
        "IPY_MODEL_777311e339e547ce8afb09ce96cf8429",
        "IPY_MODEL_adf49c5cbb87440390191d3540eb453e",
        "IPY_MODEL_bd11fbd1791249308f52f2471cffa006"
       ],
       "layout": "IPY_MODEL_24bf070a3909423797e5a319fd2c7c58"
      }
     },
     "eff0546cbf2542fc9cea43214388d03d": {
      "model_module": "@jupyter-widgets/base",
      "model_module_version": "2.0.0",
      "model_name": "LayoutModel",
      "state": {}
     },
     "f07c69432262448a9d60e52b0c15df49": {
      "model_module": "@jupyter-widgets/base",
      "model_module_version": "2.0.0",
      "model_name": "LayoutModel",
      "state": {}
     },
     "f0c7a903a10a47a3bc1d83bebba2b26e": {
      "model_module": "@jupyter-widgets/output",
      "model_module_version": "1.0.0",
      "model_name": "OutputModel",
      "state": {
       "layout": "IPY_MODEL_106e9ba588f24c2e93a3dc1affcc14fc",
       "outputs": [
        {
         "name": "stdout",
         "output_type": "stream",
         "text": "AAAAAAAAAA\nBBBBBBBBBBb\nCCCCCCCCCCCC\n"
        },
        {
         "data": {
          "image/png": "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",
          "text/plain": "<Figure size 800x400 with 1 Axes>"
         },
         "metadata": {},
         "output_type": "display_data"
        }
       ]
      }
     },
     "f15aa19411bf427b92a87770134dfcfb": {
      "model_module": "@jupyter-widgets/controls",
      "model_module_version": "2.0.0",
      "model_name": "FloatSliderModel",
      "state": {
       "behavior": "drag-tap",
       "description": "V0",
       "layout": "IPY_MODEL_5db844c5a7ce4fb19ac1df8c8650fda2",
       "max": 450,
       "style": "IPY_MODEL_ad73a5eb8ab842eb9873212f9ed368ec",
       "value": 100
      }
     },
     "f15d83a4d3d746999dee36032bfb9727": {
      "model_module": "@jupyter-widgets/output",
      "model_module_version": "1.0.0",
      "model_name": "OutputModel",
      "state": {
       "layout": "IPY_MODEL_a492cb5b9e7a4434870ea6cd970e1c99",
       "outputs": [
        {
         "name": "stdout",
         "output_type": "stream",
         "text": "AAAAAAAAAA\nBBBBBBBBBBb\nCCCCCCCCCCCC\n"
        },
        {
         "data": {
          "image/png": "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",
          "text/plain": "<Figure size 800x400 with 1 Axes>"
         },
         "metadata": {},
         "output_type": "display_data"
        }
       ]
      }
     },
     "f17a87d99743466aa847cfb2410e9297": {
      "model_module": "@jupyter-widgets/controls",
      "model_module_version": "2.0.0",
      "model_name": "SliderStyleModel",
      "state": {
       "description_width": ""
      }
     },
     "f24b3579b8e04144a41e10093d01de20": {
      "model_module": "@jupyter-widgets/base",
      "model_module_version": "2.0.0",
      "model_name": "LayoutModel",
      "state": {}
     },
     "f27d7699a4e1491aa5f99d58b7c6eacb": {
      "model_module": "@jupyter-widgets/base",
      "model_module_version": "2.0.0",
      "model_name": "LayoutModel",
      "state": {}
     },
     "f303f005d80f4d40879d64ac1849dd67": {
      "model_module": "@jupyter-widgets/controls",
      "model_module_version": "2.0.0",
      "model_name": "SliderStyleModel",
      "state": {
       "description_width": ""
      }
     },
     "f42b65111f1b494a9db2d4acf0092e65": {
      "model_module": "@jupyter-widgets/controls",
      "model_module_version": "2.0.0",
      "model_name": "FloatLogSliderModel",
      "state": {
       "behavior": "drag-tap",
       "description": "Duration",
       "layout": "IPY_MODEL_6f734feb79f8456f974d6e51c02de39b",
       "max": 2,
       "min": -3,
       "style": "IPY_MODEL_965ed701e40046cd877b953b4192d779"
      }
     },
     "f4beb0be387a400486d724a417ac6323": {
      "model_module": "@jupyter-widgets/controls",
      "model_module_version": "2.0.0",
      "model_name": "SliderStyleModel",
      "state": {
       "description_width": ""
      }
     },
     "f4d45bf984114a39a3044bd3ce83dd2c": {
      "model_module": "@jupyter-widgets/controls",
      "model_module_version": "2.0.0",
      "model_name": "SliderStyleModel",
      "state": {
       "description_width": ""
      }
     },
     "f4d8646a0f4e4e0991d02bc2efc0352e": {
      "model_module": "@jupyter-widgets/controls",
      "model_module_version": "2.0.0",
      "model_name": "FloatLogSliderModel",
      "state": {
       "behavior": "drag-tap",
       "description": "Duration",
       "layout": "IPY_MODEL_dd531894ac1b4aeeb2d5362f84a592ae",
       "max": 2,
       "min": -3,
       "style": "IPY_MODEL_9b21b9412d42437296cb86c7a18f7917"
      }
     },
     "f4eb6e62e88f407da060ed7bc14bbf33": {
      "model_module": "@jupyter-widgets/controls",
      "model_module_version": "2.0.0",
      "model_name": "SliderStyleModel",
      "state": {
       "description_width": ""
      }
     },
     "f4f9b2240db541e6aa3c6185e72fdcf0": {
      "model_module": "@jupyter-widgets/controls",
      "model_module_version": "2.0.0",
      "model_name": "FloatSliderModel",
      "state": {
       "behavior": "drag-tap",
       "description": "L",
       "layout": "IPY_MODEL_41b452ec3ebb4826955437461bd40561",
       "max": 1,
       "min": 0.001,
       "step": 0.001,
       "style": "IPY_MODEL_b0e8a87568a24d05a3b1b2c6f930df64",
       "value": 0.1
      }
     },
     "f53ac42c2db64695beeb37e324dafde2": {
      "model_module": "@jupyter-widgets/output",
      "model_module_version": "1.0.0",
      "model_name": "OutputModel",
      "state": {
       "layout": "IPY_MODEL_99df0d0cfb724f34b5f2d5468fb3c6e9",
       "outputs": [
        {
         "data": {
          "image/png": "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",
          "text/plain": "<Figure size 800x400 with 1 Axes>"
         },
         "metadata": {},
         "output_type": "display_data"
        }
       ]
      }
     },
     "f588444419aa4416b5e1afab8be99a12": {
      "model_module": "@jupyter-widgets/controls",
      "model_module_version": "2.0.0",
      "model_name": "FloatSliderModel",
      "state": {
       "behavior": "drag-tap",
       "description": "R",
       "layout": "IPY_MODEL_36ecb9f3332f4357b4443977a8eac311",
       "max": 10,
       "min": 0.1,
       "step": 0.1,
       "style": "IPY_MODEL_752c5274500b4e9394cf67b623154c9f",
       "value": 1.0000000000000002
      }
     },
     "f62a4db06a6b4c48ba7cb3b0ddd167b8": {
      "model_module": "@jupyter-widgets/controls",
      "model_module_version": "2.0.0",
      "model_name": "SliderStyleModel",
      "state": {
       "description_width": ""
      }
     },
     "f66801ec222640dc85496b996333e88e": {
      "model_module": "@jupyter-widgets/controls",
      "model_module_version": "2.0.0",
      "model_name": "FloatLogSliderModel",
      "state": {
       "behavior": "drag-tap",
       "description": "C",
       "layout": "IPY_MODEL_cd65653f66ef4e7f9d31cdd43e3a3219",
       "max": 2,
       "min": -6,
       "style": "IPY_MODEL_d90bfdd3445740b0b8e4c1648f715be9",
       "value": 0.01
      }
     },
     "f7a085587b1349a2b4a3939dd984a361": {
      "model_module": "@jupyter-widgets/controls",
      "model_module_version": "2.0.0",
      "model_name": "FloatSliderModel",
      "state": {
       "behavior": "drag-tap",
       "description": "V0",
       "layout": "IPY_MODEL_b279e6add6c64e228ce14013818286c6",
       "max": 450,
       "style": "IPY_MODEL_ef0532654bb04f6483bd5927a1a717dd",
       "value": 100
      }
     },
     "f7a99b5798464d8f8865f077c6be47f6": {
      "model_module": "@jupyter-widgets/base",
      "model_module_version": "2.0.0",
      "model_name": "LayoutModel",
      "state": {}
     },
     "f7eb8552a9c74e04967857f594fe8bb3": {
      "model_module": "@jupyter-widgets/base",
      "model_module_version": "2.0.0",
      "model_name": "LayoutModel",
      "state": {}
     },
     "f8dcd11663444e72ae116b0ad221fa40": {
      "model_module": "@jupyter-widgets/controls",
      "model_module_version": "2.0.0",
      "model_name": "FloatSliderModel",
      "state": {
       "behavior": "drag-tap",
       "description": "V0",
       "layout": "IPY_MODEL_7a3e13ceb5804d829561f0a4d34c3096",
       "max": 450,
       "style": "IPY_MODEL_2a0b46b26e3d41968469f62d5ed9f460",
       "value": 100
      }
     },
     "f9ac12d6b0f64129b46c924230520ee5": {
      "model_module": "@jupyter-widgets/base",
      "model_module_version": "2.0.0",
      "model_name": "LayoutModel",
      "state": {}
     },
     "f9fc3fc6fd934dc0b22d9a0f76b1b34e": {
      "model_module": "@jupyter-widgets/controls",
      "model_module_version": "2.0.0",
      "model_name": "FloatSliderModel",
      "state": {
       "behavior": "drag-tap",
       "description": "R",
       "layout": "IPY_MODEL_60d4604a87a143aa8aef9f98cae441c9",
       "max": 10,
       "min": 0.1,
       "step": 0.1,
       "style": "IPY_MODEL_c82a55d977bc4004a554bef62046a80e",
       "value": 1.0000000000000002
      }
     },
     "faa151abfa78409f93070ff8a3c0012d": {
      "model_module": "@jupyter-widgets/controls",
      "model_module_version": "2.0.0",
      "model_name": "FloatLogSliderModel",
      "state": {
       "behavior": "drag-tap",
       "description": "Duration",
       "layout": "IPY_MODEL_dc8b0d90806447ccb4572e894f68b668",
       "max": 2,
       "min": -3,
       "style": "IPY_MODEL_80d38d484ae244428f1e7830ebd4d5d8"
      }
     },
     "fb352471a5e848ad9ba0e066a8846c2e": {
      "model_module": "@jupyter-widgets/base",
      "model_module_version": "2.0.0",
      "model_name": "LayoutModel",
      "state": {}
     },
     "fcfe6d424772465ca62efe12f1b4a765": {
      "model_module": "@jupyter-widgets/base",
      "model_module_version": "2.0.0",
      "model_name": "LayoutModel",
      "state": {}
     }
    },
    "version_major": 2,
    "version_minor": 0
   }
  }
 },
 "nbformat": 4,
 "nbformat_minor": 5
}
